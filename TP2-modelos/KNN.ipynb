{
 "cells": [
  {
   "cell_type": "code",
   "execution_count": 128,
   "metadata": {},
   "outputs": [],
   "source": [
    "import pandas as pd\n",
    "import numpy as np\n",
    "import seaborn as sns\n",
    "import matplotlib.pyplot as plt\n",
    "import matplotlib.mlab as mlab\n",
    "import matplotlib\n",
    "plt.style.use('ggplot')\n",
    "from matplotlib.pyplot import figure\n",
    "import matplotlib.gridspec as gridspec\n",
    "from sklearn import neighbors, datasets\n",
    "from sklearn.metrics import roc_curve, auc, roc_auc_score, precision_score, recall_score, f1_score\n",
    "\n",
    "from preprocessing import *\n",
    "\n",
    "pd.set_option('display.max_colwidth', None)\n",
    "    "
   ]
  },
  {
   "cell_type": "markdown",
   "metadata": {},
   "source": [
    "### 1. Datos"
   ]
  },
  {
   "cell_type": "code",
   "execution_count": 129,
   "metadata": {},
   "outputs": [
    {
     "data": {
      "text/html": [
       "<div>\n",
       "<style scoped>\n",
       "    .dataframe tbody tr th:only-of-type {\n",
       "        vertical-align: middle;\n",
       "    }\n",
       "\n",
       "    .dataframe tbody tr th {\n",
       "        vertical-align: top;\n",
       "    }\n",
       "\n",
       "    .dataframe thead th {\n",
       "        text-align: right;\n",
       "    }\n",
       "</style>\n",
       "<table border=\"1\" class=\"dataframe\">\n",
       "  <thead>\n",
       "    <tr style=\"text-align: right;\">\n",
       "      <th></th>\n",
       "      <th>tipo_de_sala</th>\n",
       "      <th>nombre</th>\n",
       "      <th>id_usuario</th>\n",
       "      <th>genero</th>\n",
       "      <th>edad</th>\n",
       "      <th>amigos</th>\n",
       "      <th>parientes</th>\n",
       "      <th>id_ticket</th>\n",
       "      <th>precio_ticket</th>\n",
       "      <th>fila</th>\n",
       "      <th>nombre_sede</th>\n",
       "      <th>volveria</th>\n",
       "    </tr>\n",
       "  </thead>\n",
       "  <tbody>\n",
       "    <tr>\n",
       "      <th>0</th>\n",
       "      <td>4d</td>\n",
       "      <td>Señor Camilo Pedro</td>\n",
       "      <td>117</td>\n",
       "      <td>hombre</td>\n",
       "      <td>73.5</td>\n",
       "      <td>0</td>\n",
       "      <td>0</td>\n",
       "      <td>59258;</td>\n",
       "      <td>1</td>\n",
       "      <td>NaN</td>\n",
       "      <td>fiumark_quilmes</td>\n",
       "      <td>0</td>\n",
       "    </tr>\n",
       "    <tr>\n",
       "      <th>1</th>\n",
       "      <td>4d</td>\n",
       "      <td>Señora Raquel Angelica</td>\n",
       "      <td>658</td>\n",
       "      <td>mujer</td>\n",
       "      <td>35.0</td>\n",
       "      <td>1</td>\n",
       "      <td>1</td>\n",
       "      <td>586:6;</td>\n",
       "      <td>2</td>\n",
       "      <td>NaN</td>\n",
       "      <td>fiumark_quilmes</td>\n",
       "      <td>0</td>\n",
       "    </tr>\n",
       "    <tr>\n",
       "      <th>2</th>\n",
       "      <td>normal</td>\n",
       "      <td>Señor Antonio Federico</td>\n",
       "      <td>794</td>\n",
       "      <td>hombre</td>\n",
       "      <td>NaN</td>\n",
       "      <td>0</td>\n",
       "      <td>0</td>\n",
       "      <td>RE\"39822</td>\n",
       "      <td>3</td>\n",
       "      <td>NaN</td>\n",
       "      <td>fiumark_chacarita</td>\n",
       "      <td>0</td>\n",
       "    </tr>\n",
       "    <tr>\n",
       "      <th>3</th>\n",
       "      <td>4d</td>\n",
       "      <td>Señor Osvaldo Aureliano</td>\n",
       "      <td>455</td>\n",
       "      <td>hombre</td>\n",
       "      <td>NaN</td>\n",
       "      <td>0</td>\n",
       "      <td>0</td>\n",
       "      <td>C17\"4:39</td>\n",
       "      <td>1</td>\n",
       "      <td>NaN</td>\n",
       "      <td>fiumark_palermo</td>\n",
       "      <td>0</td>\n",
       "    </tr>\n",
       "    <tr>\n",
       "      <th>4</th>\n",
       "      <td>4d</td>\n",
       "      <td>Señorita Rita Eudosia</td>\n",
       "      <td>173</td>\n",
       "      <td>mujer</td>\n",
       "      <td>4.0</td>\n",
       "      <td>1</td>\n",
       "      <td>1</td>\n",
       "      <td>569964</td>\n",
       "      <td>2</td>\n",
       "      <td>NaN</td>\n",
       "      <td>fiumark_palermo</td>\n",
       "      <td>1</td>\n",
       "    </tr>\n",
       "  </tbody>\n",
       "</table>\n",
       "</div>"
      ],
      "text/plain": [
       "  tipo_de_sala                   nombre  id_usuario  genero  edad  amigos  \\\n",
       "0           4d       Señor Camilo Pedro         117  hombre  73.5       0   \n",
       "1           4d   Señora Raquel Angelica         658   mujer  35.0       1   \n",
       "2       normal   Señor Antonio Federico         794  hombre   NaN       0   \n",
       "3           4d  Señor Osvaldo Aureliano         455  hombre   NaN       0   \n",
       "4           4d    Señorita Rita Eudosia         173   mujer   4.0       1   \n",
       "\n",
       "   parientes id_ticket  precio_ticket fila        nombre_sede  volveria  \n",
       "0          0    59258;              1  NaN    fiumark_quilmes         0  \n",
       "1          1    586:6;              2  NaN    fiumark_quilmes         0  \n",
       "2          0  RE\"39822              3  NaN  fiumark_chacarita         0  \n",
       "3          0  C17\"4:39              1  NaN    fiumark_palermo         0  \n",
       "4          1    569964              2  NaN    fiumark_palermo         1  "
      ]
     },
     "execution_count": 129,
     "metadata": {},
     "output_type": "execute_result"
    }
   ],
   "source": [
    "data = pd.read_csv('tp-2020-2c-train-cols2.csv')\n",
    "targets = pd.read_csv('tp-2020-2c-train-cols1.csv')\n",
    "df = (pd.merge(left=data, right=targets, how=\"left\", on=\"id_usuario\", validate=\"one_to_one\"))\n",
    "df.head()"
   ]
  },
  {
   "cell_type": "markdown",
   "metadata": {},
   "source": [
    "### 2. Preprocesamiento"
   ]
  },
  {
   "cell_type": "code",
   "execution_count": 130,
   "metadata": {},
   "outputs": [],
   "source": [
    "#ver preprocessing.py"
   ]
  },
  {
   "cell_type": "markdown",
   "metadata": {},
   "source": [
    "---"
   ]
  },
  {
   "cell_type": "markdown",
   "metadata": {},
   "source": [
    "### 3. Entrenamiento"
   ]
  },
  {
   "cell_type": "markdown",
   "metadata": {},
   "source": [
    "Entrenamiento con valores por defecto."
   ]
  },
  {
   "cell_type": "code",
   "execution_count": 144,
   "metadata": {},
   "outputs": [
    {
     "data": {
      "text/html": [
       "<div>\n",
       "<style scoped>\n",
       "    .dataframe tbody tr th:only-of-type {\n",
       "        vertical-align: middle;\n",
       "    }\n",
       "\n",
       "    .dataframe tbody tr th {\n",
       "        vertical-align: top;\n",
       "    }\n",
       "\n",
       "    .dataframe thead th {\n",
       "        text-align: right;\n",
       "    }\n",
       "</style>\n",
       "<table border=\"1\" class=\"dataframe\">\n",
       "  <thead>\n",
       "    <tr style=\"text-align: right;\">\n",
       "      <th></th>\n",
       "      <th>modelo</th>\n",
       "      <th>score</th>\n",
       "      <th>precision</th>\n",
       "      <th>recall</th>\n",
       "      <th>f1</th>\n",
       "      <th>auc_roc_score</th>\n",
       "    </tr>\n",
       "  </thead>\n",
       "  <tbody>\n",
       "    <tr>\n",
       "      <th>0</th>\n",
       "      <td>KNeighborsClassifier()</td>\n",
       "      <td>0.757764</td>\n",
       "      <td>0.734694</td>\n",
       "      <td>0.354839</td>\n",
       "      <td>0.396396</td>\n",
       "      <td>0.805148</td>\n",
       "    </tr>\n",
       "  </tbody>\n",
       "</table>\n",
       "</div>"
      ],
      "text/plain": [
       "                   modelo     score  precision    recall        f1  \\\n",
       "0  KNeighborsClassifier()  0.757764   0.734694  0.354839  0.396396   \n",
       "\n",
       "   auc_roc_score  \n",
       "0       0.805148  "
      ]
     },
     "metadata": {},
     "output_type": "display_data"
    }
   ],
   "source": [
    "xtn, xts, ytn, yts = prepro_base(data, targets, train=True)\n",
    "\n",
    "clf_knn = neighbors.KNeighborsClassifier()\n",
    "resumen_modelo(clf_knn, xtn, xts, ytn, yts)"
   ]
  },
  {
   "cell_type": "markdown",
   "metadata": {},
   "source": [
    "---"
   ]
  },
  {
   "cell_type": "markdown",
   "metadata": {},
   "source": [
    "Busqueda de hiperparámetros mediante GridSearch"
   ]
  },
  {
   "cell_type": "code",
   "execution_count": 155,
   "metadata": {},
   "outputs": [
    {
     "name": "stdout",
     "output_type": "stream",
     "text": [
      "Fitting 5 folds for each of 24 candidates, totalling 120 fits\n"
     ]
    },
    {
     "data": {
      "text/html": [
       "<div>\n",
       "<style scoped>\n",
       "    .dataframe tbody tr th:only-of-type {\n",
       "        vertical-align: middle;\n",
       "    }\n",
       "\n",
       "    .dataframe tbody tr th {\n",
       "        vertical-align: top;\n",
       "    }\n",
       "\n",
       "    .dataframe thead th {\n",
       "        text-align: right;\n",
       "    }\n",
       "</style>\n",
       "<table border=\"1\" class=\"dataframe\">\n",
       "  <thead>\n",
       "    <tr style=\"text-align: right;\">\n",
       "      <th></th>\n",
       "      <th>encoding</th>\n",
       "      <th>scaling</th>\n",
       "      <th>selection</th>\n",
       "      <th>metric</th>\n",
       "      <th>n_neighbors</th>\n",
       "      <th>weights</th>\n",
       "      <th>score</th>\n",
       "      <th>holdout_score</th>\n",
       "      <th>auroc_score</th>\n",
       "    </tr>\n",
       "  </thead>\n",
       "  <tbody>\n",
       "    <tr>\n",
       "      <th>0</th>\n",
       "      <td>onehot</td>\n",
       "      <td>ninguno</td>\n",
       "      <td>ninguno</td>\n",
       "      <td>manhattan</td>\n",
       "      <td>5</td>\n",
       "      <td>distance</td>\n",
       "      <td>0.784375</td>\n",
       "      <td>0.770186</td>\n",
       "      <td>0.841561</td>\n",
       "    </tr>\n",
       "  </tbody>\n",
       "</table>\n",
       "</div>"
      ],
      "text/plain": [
       "  encoding  scaling selection     metric  n_neighbors   weights     score  \\\n",
       "0   onehot  ninguno   ninguno  manhattan            5  distance  0.784375   \n",
       "\n",
       "   holdout_score  auroc_score  \n",
       "0       0.770186     0.841561  "
      ]
     },
     "metadata": {},
     "output_type": "display_data"
    }
   ],
   "source": [
    "clf_knn = neighbors.KNeighborsClassifier()\n",
    "\n",
    "knn_grid_params = {\n",
    "    'n_neighbors': [3,5,11,19],\n",
    "    'weights' : ['distance', 'uniform'],\n",
    "    'metric' : ['minkowski', 'euclidean', 'manhattan']\n",
    "}\n",
    "\n",
    "gs = model_selection.GridSearchCV(\n",
    "    clf_knn,\n",
    "    knn_grid_params,\n",
    "    verbose = 3,\n",
    "    cv = 5,\n",
    "    n_jobs = -1,\n",
    "    scoring='accuracy'\n",
    ")\n",
    "\n",
    "columnas=['encoding','scaling','selection','metric', 'n_neighbors', 'weights', 'score', 'holdout_score', 'auroc_score']\n",
    "\n",
    "aplicar_gscv2(gs, columnas, xtn, xts, ytn, yts)"
   ]
  },
  {
   "cell_type": "markdown",
   "metadata": {},
   "source": [
    "---"
   ]
  },
  {
   "cell_type": "markdown",
   "metadata": {},
   "source": [
    "El mejor modelo tiene parametros ___"
   ]
  },
  {
   "cell_type": "code",
   "execution_count": 159,
   "metadata": {},
   "outputs": [
    {
     "data": {
      "text/html": [
       "<div>\n",
       "<style scoped>\n",
       "    .dataframe tbody tr th:only-of-type {\n",
       "        vertical-align: middle;\n",
       "    }\n",
       "\n",
       "    .dataframe tbody tr th {\n",
       "        vertical-align: top;\n",
       "    }\n",
       "\n",
       "    .dataframe thead th {\n",
       "        text-align: right;\n",
       "    }\n",
       "</style>\n",
       "<table border=\"1\" class=\"dataframe\">\n",
       "  <thead>\n",
       "    <tr style=\"text-align: right;\">\n",
       "      <th></th>\n",
       "      <th>modelo</th>\n",
       "      <th>score</th>\n",
       "      <th>precision</th>\n",
       "      <th>recall</th>\n",
       "      <th>f1</th>\n",
       "      <th>auc_roc_score</th>\n",
       "    </tr>\n",
       "  </thead>\n",
       "  <tbody>\n",
       "    <tr>\n",
       "      <th>0</th>\n",
       "      <td>KNeighborsClassifier(metric='manhattan', weights='distance')</td>\n",
       "      <td>0.770186</td>\n",
       "      <td>0.711864</td>\n",
       "      <td>0.403226</td>\n",
       "      <td>0.413223</td>\n",
       "      <td>0.841561</td>\n",
       "    </tr>\n",
       "  </tbody>\n",
       "</table>\n",
       "</div>"
      ],
      "text/plain": [
       "                                                         modelo     score  \\\n",
       "0  KNeighborsClassifier(metric='manhattan', weights='distance')  0.770186   \n",
       "\n",
       "   precision    recall        f1  auc_roc_score  \n",
       "0   0.711864  0.403226  0.413223       0.841561  "
      ]
     },
     "metadata": {},
     "output_type": "display_data"
    }
   ],
   "source": [
    "mejor_knn = neighbors.KNeighborsClassifier(metric=\"manhattan\", n_neighbors=5, weights=\"distance\")\n",
    "\n",
    "resumen_modelo(mejor_knn, xtn, xts, ytn, yts)"
   ]
  },
  {
   "cell_type": "markdown",
   "metadata": {},
   "source": [
    "### 4. Prediccion sobre los nuevos datos"
   ]
  },
  {
   "cell_type": "code",
   "execution_count": 134,
   "metadata": {},
   "outputs": [],
   "source": [
    "new_data_raw = pd.read_csv('TP2-nuevos-datos.csv')\n",
    "new_data = prepro(new_data_raw, None, train=False)"
   ]
  },
  {
   "cell_type": "code",
   "execution_count": 157,
   "metadata": {},
   "outputs": [],
   "source": [
    "#mejor_knn.predict(new_data)"
   ]
  },
  {
   "cell_type": "markdown",
   "metadata": {},
   "source": [
    "---"
   ]
  },
  {
   "cell_type": "markdown",
   "metadata": {},
   "source": [
    "### 5. Codigo"
   ]
  },
  {
   "cell_type": "code",
   "execution_count": 2,
   "metadata": {},
   "outputs": [],
   "source": [
    "def aplicar_gscv(gscv, columnas):\n",
    "    metricas = []\n",
    "    mejor_roc_auc = -1\n",
    "    mejor_modelo = None\n",
    "    prepro_mejor_modelo = None\n",
    "    info_mejor_modelo = None\n",
    "    \n",
    "    for conjunto in datos: #pruebo 5 conjuntos de datos, cada uno con distintos preprocesamientos\n",
    "    \n",
    "        gridsearch_resultados = gscv.fit(conjunto[0], conjunto[2]) #X_train e y_train, respectivamente\n",
    "        row = []\n",
    "        row.append(conjunto[4]) #encoding\n",
    "        row.append(conjunto[5]) #scaling\n",
    "        row.append(conjunto[6]) #selection\n",
    "        \n",
    "        for key in gridsearch_resultados.best_params_:\n",
    "            row.append(gridsearch_resultados.best_params_[key]) #Agregar el mejor valor de cada parametro testeado\n",
    "        row.append(gridsearch_resultados.best_score_)           #Agregar mejor score\n",
    "        row.append(gridsearch_resultados.score(conjunto[1], conjunto[3]))  #Agregar score con holdout\n",
    "        \n",
    "        #roc_auc\n",
    "        roc_auc = roc_auc_score(conjunto[3], gridsearch_resultados.best_estimator_.predict_proba(conjunto[1])[:, 1])\n",
    "        \n",
    "        if(roc_auc > mejor_roc_auc):\n",
    "            mejor_roc_auc = roc_auc\n",
    "            mejor_modelo = gridsearch_resultados.best_estimator_\n",
    "            prepro_mejor_modelo = conjunto[4] + conjunto[5] + conjunto[6]\n",
    "        \n",
    "        row.append(roc_auc)\n",
    "        metricas.append(row)\n",
    "        \n",
    "    info_mejor_modelo = [mejor_modelo, prepro_mejor_modelo, mejor_roc_auc]\n",
    "    mejores_modelos.append(info_mejor_modelo)\n",
    "    \n",
    "    resultados = pd.DataFrame(metricas, columns=columnas)\n",
    "    resultados.sort_values(by='auroc_score', inplace=True, ascending=False)\n",
    "    display(resultados)"
   ]
  },
  {
   "cell_type": "code",
   "execution_count": 152,
   "metadata": {},
   "outputs": [],
   "source": [
    "def aplicar_gscv2(gscv, columnas, xtn, xts, ytn, yts):\n",
    "    metricas = []\n",
    "    \n",
    "    gridsearch_resultados = gscv.fit(xtn, ytn) #X_train e y_train, respectivamente\n",
    "    row = []\n",
    "    row.append(\"onehot\") #encoding\n",
    "    row.append(\"ninguno\") #scaling\n",
    "    row.append(\"ninguno\") #selection\n",
    "        \n",
    "    for key in gridsearch_resultados.best_params_:\n",
    "        row.append(gridsearch_resultados.best_params_[key]) #Agregar el mejor valor de cada parametro testeado\n",
    "    row.append(gridsearch_resultados.best_score_)           #Agregar mejor score\n",
    "    row.append(gridsearch_resultados.score(xts, yts))  #Agregar score con holdout\n",
    "        \n",
    "    #roc_auc\n",
    "    roc_auc = roc_auc_score(yts, gridsearch_resultados.best_estimator_.predict_proba(xts)[:, 1])\n",
    "    \n",
    "    row.append(roc_auc)\n",
    "    metricas.append(row)\n",
    "    \n",
    "    resultados = pd.DataFrame(metricas, columns=columnas)\n",
    "    display(resultados)"
   ]
  },
  {
   "cell_type": "code",
   "execution_count": 3,
   "metadata": {},
   "outputs": [],
   "source": [
    "def aplicar_gscv_nb(gscv, columnas):\n",
    "    metricas = []\n",
    "    mejor_roc_auc = -1\n",
    "    mejor_modelo = None\n",
    "    prepro_mejor_modelo = None\n",
    "    \n",
    "    for conjunto in datos_nb: #pruebo 5 conjuntos de datos, cada uno con distintos preprocesamientos\n",
    "    \n",
    "        gridsearch_resultados = gscv.fit(conjunto[0], conjunto[2]) #X_train e y_train, respectivamente\n",
    "        row = []\n",
    "        row.append(conjunto[4]) #encoding\n",
    "        row.append(conjunto[5]) #scaling\n",
    "        row.append(conjunto[6]) #selection\n",
    "        \n",
    "        for key in gridsearch_resultados.best_params_:\n",
    "            row.append(gridsearch_resultados.best_params_[key]) #Agregar el mejor valor de cada parametro testeado\n",
    "        row.append(gridsearch_resultados.best_score_)           #Agregar mejor score\n",
    "        row.append(gridsearch_resultados.score(conjunto[1], conjunto[3]))  #Agregar score con holdout\n",
    "        \n",
    "        #roc_auc\n",
    "        roc_auc = roc_auc_score(conjunto[3], gridsearch_resultados.best_estimator_.predict_proba(conjunto[1])[:, 1])\n",
    "        \n",
    "        #if(roc_auc > mejor_roc_auc):\n",
    "        #    mejor_roc_auc = roc_auc\n",
    "        #    mejor_modelo = gridsearch_resultados.best_estimator_\n",
    "        \n",
    "        \n",
    "        row.append(roc_auc)\n",
    "        \n",
    "        mejores_modelos.append(gridsearch_resultados.best_estimator_)\n",
    "        \n",
    "        metricas.append(row)\n",
    "    \n",
    "    #mejores_modelos.append(mejor_modelo)\n",
    "    resultados = pd.DataFrame(metricas, columns=columnas)\n",
    "    resultados.sort_values(by='auroc_score', inplace=True, ascending=False)\n",
    "    display(resultados)"
   ]
  },
  {
   "cell_type": "code",
   "execution_count": 142,
   "metadata": {},
   "outputs": [],
   "source": [
    "def resumen_modelo(mdl, xtn, xts, ytn, yts):\n",
    "    \n",
    "    mdl.fit(xtn, ytn)\n",
    "    pred = mdl.predict(xts)\n",
    "    mdl_score = (yts == pred)\n",
    "    \n",
    "    mdl_f1 = f1_score(y_test_d, mdl.predict(xts))\n",
    "    mdl_recall = recall_score(y_test_d, mdl.predict(xts))\n",
    "    mdl_precision = precision_score(yts, mdl.predict(xts))\n",
    "    mdl_roc_auc = roc_auc_score(yts, mdl.predict_proba(xts)[:, 1])    \n",
    "\n",
    "\n",
    "\n",
    "    metricas_mdl = pd.DataFrame([[mdl,\n",
    "                                    mdl_score.mean(),\n",
    "                                    mdl_precision, \n",
    "                                    mdl_recall, \n",
    "                                    mdl_f1,\n",
    "                                    mdl_roc_auc]],\n",
    "                                    columns=['modelo','score','precision','recall','f1','auc_roc_score'])\n",
    "    display(metricas_mdl)\n",
    "    "
   ]
  },
  {
   "cell_type": "code",
   "execution_count": null,
   "metadata": {},
   "outputs": [],
   "source": []
  }
 ],
 "metadata": {
  "kernelspec": {
   "display_name": "Python 3",
   "language": "python",
   "name": "python3"
  },
  "language_info": {
   "codemirror_mode": {
    "name": "ipython",
    "version": 3
   },
   "file_extension": ".py",
   "mimetype": "text/x-python",
   "name": "python",
   "nbconvert_exporter": "python",
   "pygments_lexer": "ipython3",
   "version": "3.6.9"
  }
 },
 "nbformat": 4,
 "nbformat_minor": 4
}
