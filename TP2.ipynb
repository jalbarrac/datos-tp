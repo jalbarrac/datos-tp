{
 "cells": [
  {
   "cell_type": "code",
   "execution_count": 168,
   "metadata": {},
   "outputs": [],
   "source": [
    "#TO DO\n",
    "\n",
    "# 1. Implementar ROC al hacer CrossValidation\n",
    "# 2. Implementar las demas metricas para el mejor modelo de cada clase\n",
    "# 3. Revisar CrossValidation en DecisionTree y NaiveBayes\n",
    "# 4. Revisar errores en SVM Lineal y LogisticRegression\n",
    "# 5. Completar preprocesamientos (valores nulos, encoding, scaling, seleccion)\n",
    "# 6. Revisar y completar la parte de ensambles\n",
    "# 7. Implementar Red Neuronal\n",
    "# 8. Implementar Cascading\n",
    "\n",
    "# 9. Separar modelos en respectivos notebooks\n",
    "# 10. Predecir sobre los datos nuevos"
   ]
  },
  {
   "cell_type": "code",
   "execution_count": 167,
   "metadata": {},
   "outputs": [],
   "source": [
    "import pandas as pd\n",
    "import numpy as np\n",
    "import seaborn as sns\n",
    "import matplotlib.pyplot as plt\n",
    "import matplotlib.mlab as mlab\n",
    "import matplotlib\n",
    "plt.style.use('ggplot')\n",
    "from matplotlib.pyplot import figure\n",
    "import matplotlib.gridspec as gridspec\n",
    "\n",
    "from sklearn import neighbors, datasets\n",
    "from sklearn import naive_bayes\n",
    "from sklearn import svm\n",
    "from sklearn import tree\n",
    "\n",
    "from sklearn.feature_extraction import FeatureHasher\n",
    "from sklearn.feature_selection import VarianceThreshold\n",
    "from sklearn.feature_selection import RFE\n",
    "from sklearn.impute import SimpleImputer\n",
    "from sklearn import model_selection\n",
    "from sklearn.preprocessing import (\n",
    "    KBinsDiscretizer,\n",
    "    LabelEncoder,\n",
    "    MinMaxScaler,\n",
    "    Normalizer,\n",
    "    OneHotEncoder,\n",
    "    OrdinalEncoder,\n",
    "    PowerTransformer,\n",
    "    RobustScaler,\n",
    "    StandardScaler,\n",
    ")\n",
    "\n",
    "from sklearn.metrics import roc_curve, auc\n",
    "    "
   ]
  },
  {
   "cell_type": "markdown",
   "metadata": {},
   "source": [
    "# Datos"
   ]
  },
  {
   "cell_type": "code",
   "execution_count": 2,
   "metadata": {},
   "outputs": [],
   "source": [
    "data = pd.read_csv('tp-2020-2c-train-cols2.csv')\n",
    "targets = pd.read_csv('tp-2020-2c-train-cols1.csv')"
   ]
  },
  {
   "cell_type": "code",
   "execution_count": 3,
   "metadata": {},
   "outputs": [],
   "source": [
    "df = (pd.merge(left=data, right=targets, how=\"left\", on=\"id_usuario\", validate=\"one_to_one\"))"
   ]
  },
  {
   "cell_type": "code",
   "execution_count": 4,
   "metadata": {},
   "outputs": [
    {
     "data": {
      "text/html": [
       "<div>\n",
       "<style scoped>\n",
       "    .dataframe tbody tr th:only-of-type {\n",
       "        vertical-align: middle;\n",
       "    }\n",
       "\n",
       "    .dataframe tbody tr th {\n",
       "        vertical-align: top;\n",
       "    }\n",
       "\n",
       "    .dataframe thead th {\n",
       "        text-align: right;\n",
       "    }\n",
       "</style>\n",
       "<table border=\"1\" class=\"dataframe\">\n",
       "  <thead>\n",
       "    <tr style=\"text-align: right;\">\n",
       "      <th></th>\n",
       "      <th>tipo_de_sala</th>\n",
       "      <th>nombre</th>\n",
       "      <th>id_usuario</th>\n",
       "      <th>genero</th>\n",
       "      <th>edad</th>\n",
       "      <th>amigos</th>\n",
       "      <th>parientes</th>\n",
       "      <th>id_ticket</th>\n",
       "      <th>precio_ticket</th>\n",
       "      <th>fila</th>\n",
       "      <th>nombre_sede</th>\n",
       "      <th>volveria</th>\n",
       "    </tr>\n",
       "  </thead>\n",
       "  <tbody>\n",
       "    <tr>\n",
       "      <th>0</th>\n",
       "      <td>4d</td>\n",
       "      <td>Señor Camilo Pedro</td>\n",
       "      <td>117</td>\n",
       "      <td>hombre</td>\n",
       "      <td>73.5</td>\n",
       "      <td>0</td>\n",
       "      <td>0</td>\n",
       "      <td>59258;</td>\n",
       "      <td>1</td>\n",
       "      <td>NaN</td>\n",
       "      <td>fiumark_quilmes</td>\n",
       "      <td>0</td>\n",
       "    </tr>\n",
       "    <tr>\n",
       "      <th>1</th>\n",
       "      <td>4d</td>\n",
       "      <td>Señora Raquel Angelica</td>\n",
       "      <td>658</td>\n",
       "      <td>mujer</td>\n",
       "      <td>35.0</td>\n",
       "      <td>1</td>\n",
       "      <td>1</td>\n",
       "      <td>586:6;</td>\n",
       "      <td>2</td>\n",
       "      <td>NaN</td>\n",
       "      <td>fiumark_quilmes</td>\n",
       "      <td>0</td>\n",
       "    </tr>\n",
       "    <tr>\n",
       "      <th>2</th>\n",
       "      <td>normal</td>\n",
       "      <td>Señor Antonio Federico</td>\n",
       "      <td>794</td>\n",
       "      <td>hombre</td>\n",
       "      <td>NaN</td>\n",
       "      <td>0</td>\n",
       "      <td>0</td>\n",
       "      <td>RE\"39822</td>\n",
       "      <td>3</td>\n",
       "      <td>NaN</td>\n",
       "      <td>fiumark_chacarita</td>\n",
       "      <td>0</td>\n",
       "    </tr>\n",
       "    <tr>\n",
       "      <th>3</th>\n",
       "      <td>4d</td>\n",
       "      <td>Señor Osvaldo Aureliano</td>\n",
       "      <td>455</td>\n",
       "      <td>hombre</td>\n",
       "      <td>NaN</td>\n",
       "      <td>0</td>\n",
       "      <td>0</td>\n",
       "      <td>C17\"4:39</td>\n",
       "      <td>1</td>\n",
       "      <td>NaN</td>\n",
       "      <td>fiumark_palermo</td>\n",
       "      <td>0</td>\n",
       "    </tr>\n",
       "    <tr>\n",
       "      <th>4</th>\n",
       "      <td>4d</td>\n",
       "      <td>Señorita Rita Eudosia</td>\n",
       "      <td>173</td>\n",
       "      <td>mujer</td>\n",
       "      <td>4.0</td>\n",
       "      <td>1</td>\n",
       "      <td>1</td>\n",
       "      <td>569964</td>\n",
       "      <td>2</td>\n",
       "      <td>NaN</td>\n",
       "      <td>fiumark_palermo</td>\n",
       "      <td>1</td>\n",
       "    </tr>\n",
       "  </tbody>\n",
       "</table>\n",
       "</div>"
      ],
      "text/plain": [
       "  tipo_de_sala                   nombre  id_usuario  genero  edad  amigos  \\\n",
       "0           4d       Señor Camilo Pedro         117  hombre  73.5       0   \n",
       "1           4d   Señora Raquel Angelica         658   mujer  35.0       1   \n",
       "2       normal   Señor Antonio Federico         794  hombre   NaN       0   \n",
       "3           4d  Señor Osvaldo Aureliano         455  hombre   NaN       0   \n",
       "4           4d    Señorita Rita Eudosia         173   mujer   4.0       1   \n",
       "\n",
       "   parientes id_ticket  precio_ticket fila        nombre_sede  volveria  \n",
       "0          0    59258;              1  NaN    fiumark_quilmes         0  \n",
       "1          1    586:6;              2  NaN    fiumark_quilmes         0  \n",
       "2          0  RE\"39822              3  NaN  fiumark_chacarita         0  \n",
       "3          0  C17\"4:39              1  NaN    fiumark_palermo         0  \n",
       "4          1    569964              2  NaN    fiumark_palermo         1  "
      ]
     },
     "execution_count": 4,
     "metadata": {},
     "output_type": "execute_result"
    }
   ],
   "source": [
    "df.head()"
   ]
  },
  {
   "cell_type": "markdown",
   "metadata": {},
   "source": [
    "# Preprocesamiento"
   ]
  },
  {
   "cell_type": "code",
   "execution_count": 5,
   "metadata": {},
   "outputs": [],
   "source": [
    "encoding_params = {'onehot_drop':'first'\n",
    "                  }\n",
    "scaling_params = {'standard_withmean':True}\n",
    "selection_params = {'vt_threshold':0,\n",
    "                    'rfe_estimator':'estimator'}\n",
    "\n",
    "columnas_a_encodear = ['tipo_de_sala', 'genero', 'nombre_sede']"
   ]
  },
  {
   "cell_type": "code",
   "execution_count": 6,
   "metadata": {},
   "outputs": [],
   "source": [
    "#encoders\n",
    "def OrdinalEncoderWrapper(encoding_params):\n",
    "    return OrdinalEncoder()\n",
    "\n",
    "def OneHotWrapper(encoding_params):\n",
    "    return OneHotEncoder(drop=encoding_params['onehot_drop'])\n",
    "\n",
    "def LabelEncoderWrapper(encoding_params):\n",
    "    return LabelEncoder()\n",
    "\n",
    "encoders = {'ordinal': OrdinalEncoderWrapper(encoding_params),\n",
    "           'label': LabelEncoderWrapper(encoding_params),\n",
    "            'onehot': OneHotWrapper(encoding_params)\n",
    "           }\n",
    "\n",
    "#scalers\n",
    "def StandardScalerWrapper(scaling_params):\n",
    "    return StandardScaler(with_mean=scaling_params['standard_withmean'])\n",
    "\n",
    "def MinMaxScalerWrapper(scaling_params):\n",
    "    return MinMaxScaler()\n",
    "\n",
    "def RobustScalerWrapper(scaling_params):\n",
    "    return RobustScaler()\n",
    "\n",
    "def PowerTransformerWrapper(scaling_params):\n",
    "    return PowerTransformer()\n",
    "\n",
    "def NormalizerWrapper(scaling_params):\n",
    "    return Normalizer()\n",
    "\n",
    "scalers = {'standard': StandardScalerWrapper(scaling_params),\n",
    "          'minmax': MinMaxScalerWrapper(scaling_params),\n",
    "          'robust': RobustScalerWrapper(scaling_params),\n",
    "           'power' : PowerTransformerWrapper(scaling_params),\n",
    "           'normalizer' : NormalizerWrapper(scaling_params)\n",
    "          }\n",
    "\n",
    "#Selectors\n",
    "\n",
    "\n",
    "def VarianceThresholdWrapper(selection_params):\n",
    "    return VarianceThreshold()\n",
    "\n",
    "def RFEWrapper(selection_params):\n",
    "    return RFE(selection_params['rfe_estimator'])\n",
    "\n",
    "def FeatureHasherWrapper(selection_params):\n",
    "    return FeatureHasher()\n",
    "\n",
    "\n",
    "selectors = {'var_thres': VarianceThresholdWrapper(selection_params),\n",
    "            'rfe': RFEWrapper(selection_params),\n",
    "            'feature_hasher': FeatureHasherWrapper(selection_params)}"
   ]
  },
  {
   "cell_type": "code",
   "execution_count": 126,
   "metadata": {},
   "outputs": [],
   "source": [
    "#Funciones auxiliares\n",
    "#robado de la practica\n",
    "def droppear_nulos_por_columna(data):\n",
    "    NULL_REMOVE_PCT = 0.30\n",
    "    cols = data.isna().mean()\n",
    "    cols = cols[cols < NULL_REMOVE_PCT]\n",
    "    return data[cols.index]\n",
    "\n",
    "def droppear_filas_sin_sede(data):\n",
    "    _data = data.drop(data.loc[data['nombre_sede'].isna()].index, inplace=False)\n",
    "    _data.reset_index(drop=True)\n",
    "    return _data\n",
    "    \n",
    "\n",
    "def prepro_1(X, y, encoder, scaler, selector):\n",
    "    _X = X.copy(deep=True)\n",
    "    _y = y.copy(deep=True)\n",
    "    \n",
    "    #tratamiento de nulos\n",
    "    _X = droppear_nulos_por_columna(_X)\n",
    "    #_X = droppear_filas_sin_sede(_X) rompe el dataframe, no se por que\n",
    "    _X.drop(['id_ticket','nombre','id_usuario'], axis=1, inplace=True)\n",
    "    _X['edad'] = SimpleImputer(strategy='median').fit_transform(_X[['edad']])\n",
    "    \n",
    "    \n",
    "    #encoding\n",
    "    _encoder = encoders[encoder]\n",
    "    if(encoder == 'onehot'):\n",
    "        for col in columnas_a_encodear:\n",
    "            \n",
    "            encoded = _encoder.fit(_X[[col]].astype(str))\n",
    "            categories = list(encoded.categories_)\n",
    "            encoded = encoded.transform(_X[[col]].astype(str)).todense().astype(int)\n",
    "            encoded = pd.DataFrame(encoded)\n",
    "            categories = np.delete(categories, 0)\n",
    "            encoded.columns = categories\n",
    "            \n",
    "            _X = pd.concat([_X, encoded], axis=1)\n",
    "            _X.drop(labels=col, axis=1, inplace=True)\n",
    "    \n",
    "    #seleccion\n",
    "    _selector = selectors[selector]\n",
    "    #_X = _selector.fit_transform(_X,_y)\n",
    "    \n",
    "    #train-test split\n",
    "    X_train, X_test, y_train, y_test = model_selection.train_test_split(_X, _y, test_size=0.2, random_state=7, stratify=y['volveria'])\n",
    "    \n",
    "    #escalado\n",
    "    if(scaler != 'none'):\n",
    "        _scaler = scalers[scaler]\n",
    "        X_train = _scaler.fit_transform(X_train, y_train)\n",
    "        X_test = _scaler.transform(X_test)\n",
    "    \n",
    "    y_train = y_train['volveria'].to_numpy(copy=True)\n",
    "    y_test = y_test['volveria'].to_numpy(copy=True)\n",
    "    \n",
    "    return X_train, X_test, y_train, y_test\n"
   ]
  },
  {
   "cell_type": "code",
   "execution_count": 127,
   "metadata": {},
   "outputs": [],
   "source": [
    "X_train_a, X_test_a, y_train_a, y_test_a = prepro_1(data, targets, 'onehot', 'standard', 'var_thres')\n",
    "X_train_b, X_test_b, y_train_b, y_test_b = prepro_1(data, targets, 'onehot', 'minmax', 'var_thres')\n",
    "X_train_c, X_test_c, y_train_c, y_test_c = prepro_1(data, targets, 'onehot', 'robust', 'var_thres')\n",
    "X_train_d, X_test_d, y_train_d, y_test_d = prepro_1(data, targets, 'onehot', 'power', 'var_thres')\n",
    "X_train_e, X_test_e, y_train_e, y_test_e = prepro_1(data, targets, 'onehot', 'normalizer', 'var_thres')\n",
    "\n",
    "datos = [\n",
    "    [X_train_a, X_test_a, y_train_a, y_test_a, 'onehot', 'standard', 'var_thres'],\n",
    "    [X_train_b, X_test_b, y_train_b, y_test_b, 'onehot', 'minmax', 'var_thres'],\n",
    "    [X_train_c, X_test_c, y_train_c, y_test_c, 'onehot', 'robust', 'var_thres'],\n",
    "    [X_train_d, X_test_d, y_train_d, y_test_d, 'onehot', 'power', 'var_thres'],\n",
    "    [X_train_e, X_test_e, y_train_e, y_test_e, 'onehot', 'normalizer', 'var_thres']\n",
    "]"
   ]
  },
  {
   "cell_type": "markdown",
   "metadata": {},
   "source": [
    "---"
   ]
  },
  {
   "cell_type": "markdown",
   "metadata": {},
   "source": [
    "# Entrenando modelos"
   ]
  },
  {
   "cell_type": "code",
   "execution_count": 166,
   "metadata": {},
   "outputs": [],
   "source": [
    "def aplicar_gscv(gscv, columnas):\n",
    "    metricas = []\n",
    "    for conjunto in datos:\n",
    "    \n",
    "        gs_results = gscv.fit(conjunto[0], conjunto[2]) #X_train e y_train, respectivamente\n",
    "        row = []\n",
    "        row.append(conjunto[4]) #encoding\n",
    "        row.append(conjunto[5]) #scaling\n",
    "        row.append(conjunto[6]) #selection\n",
    "        \n",
    "        for key in gs_results.best_params_:\n",
    "            row.append(gs_results.best_params_[key])\n",
    "        row.append(gs_results.best_score_)\n",
    "        row.append(gs_results.score(conjunto[1], conjunto[3]))\n",
    "        metricas.append(row)\n",
    "    \n",
    "    resultados = pd.DataFrame(metricas, columns=columnas)\n",
    "    display(resultados)"
   ]
  },
  {
   "cell_type": "markdown",
   "metadata": {},
   "source": [
    "### 3.1 KNN"
   ]
  },
  {
   "cell_type": "markdown",
   "metadata": {},
   "source": [
    "Entrenamiento con valores por defecto."
   ]
  },
  {
   "cell_type": "code",
   "execution_count": 150,
   "metadata": {},
   "outputs": [
    {
     "data": {
      "text/html": [
       "<div>\n",
       "<style scoped>\n",
       "    .dataframe tbody tr th:only-of-type {\n",
       "        vertical-align: middle;\n",
       "    }\n",
       "\n",
       "    .dataframe tbody tr th {\n",
       "        vertical-align: top;\n",
       "    }\n",
       "\n",
       "    .dataframe thead th {\n",
       "        text-align: right;\n",
       "    }\n",
       "</style>\n",
       "<table border=\"1\" class=\"dataframe\">\n",
       "  <thead>\n",
       "    <tr style=\"text-align: right;\">\n",
       "      <th></th>\n",
       "      <th>encoding</th>\n",
       "      <th>scaling</th>\n",
       "      <th>selection</th>\n",
       "      <th>score</th>\n",
       "    </tr>\n",
       "  </thead>\n",
       "  <tbody>\n",
       "    <tr>\n",
       "      <th>0</th>\n",
       "      <td>onehot</td>\n",
       "      <td>standard</td>\n",
       "      <td>var_thres</td>\n",
       "      <td>0.801242</td>\n",
       "    </tr>\n",
       "    <tr>\n",
       "      <th>1</th>\n",
       "      <td>onehot</td>\n",
       "      <td>minmax</td>\n",
       "      <td>var_thres</td>\n",
       "      <td>0.801242</td>\n",
       "    </tr>\n",
       "    <tr>\n",
       "      <th>2</th>\n",
       "      <td>onehot</td>\n",
       "      <td>robust</td>\n",
       "      <td>var_thres</td>\n",
       "      <td>0.795031</td>\n",
       "    </tr>\n",
       "    <tr>\n",
       "      <th>3</th>\n",
       "      <td>onehot</td>\n",
       "      <td>power</td>\n",
       "      <td>var_thres</td>\n",
       "      <td>0.838509</td>\n",
       "    </tr>\n",
       "    <tr>\n",
       "      <th>4</th>\n",
       "      <td>onehot</td>\n",
       "      <td>normalizer</td>\n",
       "      <td>var_thres</td>\n",
       "      <td>0.788820</td>\n",
       "    </tr>\n",
       "  </tbody>\n",
       "</table>\n",
       "</div>"
      ],
      "text/plain": [
       "  encoding     scaling  selection     score\n",
       "0   onehot    standard  var_thres  0.801242\n",
       "1   onehot      minmax  var_thres  0.801242\n",
       "2   onehot      robust  var_thres  0.795031\n",
       "3   onehot       power  var_thres  0.838509\n",
       "4   onehot  normalizer  var_thres  0.788820"
      ]
     },
     "execution_count": 150,
     "metadata": {},
     "output_type": "execute_result"
    }
   ],
   "source": [
    "metricas = []\n",
    "\n",
    "for conjunto in datos:\n",
    "    row = []\n",
    "    row.append(conjunto[4])\n",
    "    row.append(conjunto[5])\n",
    "    row.append(conjunto[6])\n",
    "    \n",
    "    clf_knn = neighbors.KNeighborsClassifier()\n",
    "    clf_knn.fit(conjunto[0], conjunto[2])\n",
    "    pred = clf_knn.predict(conjunto[1])\n",
    "    score = (conjunto[3] == pred)\n",
    "    \n",
    "    row.append(score.mean())\n",
    "    metricas.append(row)\n",
    "    \n",
    "dd = pd.DataFrame(metricas, columns=['encoding','scaling','selection', 'score'])\n",
    "dd"
   ]
  },
  {
   "cell_type": "markdown",
   "metadata": {},
   "source": [
    "---"
   ]
  },
  {
   "cell_type": "markdown",
   "metadata": {},
   "source": [
    "Busqueda de hiperparámetros mediante GridSearch"
   ]
  },
  {
   "cell_type": "code",
   "execution_count": 151,
   "metadata": {},
   "outputs": [
    {
     "name": "stdout",
     "output_type": "stream",
     "text": [
      "Fitting 5 folds for each of 16 candidates, totalling 80 fits\n",
      "Fitting 5 folds for each of 16 candidates, totalling 80 fits\n",
      "Fitting 5 folds for each of 16 candidates, totalling 80 fits\n",
      "Fitting 5 folds for each of 16 candidates, totalling 80 fits\n",
      "Fitting 5 folds for each of 16 candidates, totalling 80 fits\n"
     ]
    },
    {
     "data": {
      "text/html": [
       "<div>\n",
       "<style scoped>\n",
       "    .dataframe tbody tr th:only-of-type {\n",
       "        vertical-align: middle;\n",
       "    }\n",
       "\n",
       "    .dataframe tbody tr th {\n",
       "        vertical-align: top;\n",
       "    }\n",
       "\n",
       "    .dataframe thead th {\n",
       "        text-align: right;\n",
       "    }\n",
       "</style>\n",
       "<table border=\"1\" class=\"dataframe\">\n",
       "  <thead>\n",
       "    <tr style=\"text-align: right;\">\n",
       "      <th></th>\n",
       "      <th>encoding</th>\n",
       "      <th>scaling</th>\n",
       "      <th>selection</th>\n",
       "      <th>metric</th>\n",
       "      <th>n_neighbors</th>\n",
       "      <th>weights</th>\n",
       "      <th>score</th>\n",
       "      <th>holdout_score</th>\n",
       "    </tr>\n",
       "  </thead>\n",
       "  <tbody>\n",
       "    <tr>\n",
       "      <th>0</th>\n",
       "      <td>onehot</td>\n",
       "      <td>standard</td>\n",
       "      <td>var_thres</td>\n",
       "      <td>manhattan</td>\n",
       "      <td>11</td>\n",
       "      <td>uniform</td>\n",
       "      <td>0.828125</td>\n",
       "      <td>0.770186</td>\n",
       "    </tr>\n",
       "    <tr>\n",
       "      <th>1</th>\n",
       "      <td>onehot</td>\n",
       "      <td>minmax</td>\n",
       "      <td>var_thres</td>\n",
       "      <td>euclidean</td>\n",
       "      <td>3</td>\n",
       "      <td>uniform</td>\n",
       "      <td>0.815625</td>\n",
       "      <td>0.819876</td>\n",
       "    </tr>\n",
       "    <tr>\n",
       "      <th>2</th>\n",
       "      <td>onehot</td>\n",
       "      <td>robust</td>\n",
       "      <td>var_thres</td>\n",
       "      <td>manhattan</td>\n",
       "      <td>19</td>\n",
       "      <td>uniform</td>\n",
       "      <td>0.825000</td>\n",
       "      <td>0.795031</td>\n",
       "    </tr>\n",
       "    <tr>\n",
       "      <th>3</th>\n",
       "      <td>onehot</td>\n",
       "      <td>power</td>\n",
       "      <td>var_thres</td>\n",
       "      <td>manhattan</td>\n",
       "      <td>11</td>\n",
       "      <td>uniform</td>\n",
       "      <td>0.817187</td>\n",
       "      <td>0.801242</td>\n",
       "    </tr>\n",
       "    <tr>\n",
       "      <th>4</th>\n",
       "      <td>onehot</td>\n",
       "      <td>normalizer</td>\n",
       "      <td>var_thres</td>\n",
       "      <td>manhattan</td>\n",
       "      <td>11</td>\n",
       "      <td>distance</td>\n",
       "      <td>0.803125</td>\n",
       "      <td>0.770186</td>\n",
       "    </tr>\n",
       "  </tbody>\n",
       "</table>\n",
       "</div>"
      ],
      "text/plain": [
       "  encoding     scaling  selection     metric  n_neighbors   weights     score  \\\n",
       "0   onehot    standard  var_thres  manhattan           11   uniform  0.828125   \n",
       "1   onehot      minmax  var_thres  euclidean            3   uniform  0.815625   \n",
       "2   onehot      robust  var_thres  manhattan           19   uniform  0.825000   \n",
       "3   onehot       power  var_thres  manhattan           11   uniform  0.817187   \n",
       "4   onehot  normalizer  var_thres  manhattan           11  distance  0.803125   \n",
       "\n",
       "   holdout_score  \n",
       "0       0.770186  \n",
       "1       0.819876  \n",
       "2       0.795031  \n",
       "3       0.801242  \n",
       "4       0.770186  "
      ]
     },
     "metadata": {},
     "output_type": "display_data"
    }
   ],
   "source": [
    "clf_knn = neighbors.KNeighborsClassifier()\n",
    "\n",
    "knn_grid_params = {\n",
    "    'n_neighbors': [3,5,11,19],\n",
    "    'weights' : ['distance', 'uniform'],\n",
    "    'metric' : ['euclidean', 'manhattan']\n",
    "}\n",
    "\n",
    "gs = model_selection.GridSearchCV(\n",
    "    clf_knn,\n",
    "    knn_grid_params,\n",
    "    verbose = 3,\n",
    "    cv = 5,\n",
    "    n_jobs = -1,\n",
    "    scoring='accuracy'\n",
    ")\n",
    "\n",
    "columnas=['encoding','scaling','selection','metric', 'n_neighbors', 'weights', 'score', 'holdout_score']\n",
    "\n",
    "aplicar_gscv(gs, columnas)"
   ]
  },
  {
   "cell_type": "markdown",
   "metadata": {},
   "source": [
    "---"
   ]
  },
  {
   "cell_type": "markdown",
   "metadata": {},
   "source": [
    "### 3.2 Naive Bayes"
   ]
  },
  {
   "cell_type": "markdown",
   "metadata": {},
   "source": [
    "#### 3.2.1 Gaussiano"
   ]
  },
  {
   "cell_type": "code",
   "execution_count": 131,
   "metadata": {},
   "outputs": [
    {
     "data": {
      "text/html": [
       "<div>\n",
       "<style scoped>\n",
       "    .dataframe tbody tr th:only-of-type {\n",
       "        vertical-align: middle;\n",
       "    }\n",
       "\n",
       "    .dataframe tbody tr th {\n",
       "        vertical-align: top;\n",
       "    }\n",
       "\n",
       "    .dataframe thead th {\n",
       "        text-align: right;\n",
       "    }\n",
       "</style>\n",
       "<table border=\"1\" class=\"dataframe\">\n",
       "  <thead>\n",
       "    <tr style=\"text-align: right;\">\n",
       "      <th></th>\n",
       "      <th>encoding</th>\n",
       "      <th>scaling</th>\n",
       "      <th>selection</th>\n",
       "      <th>score</th>\n",
       "    </tr>\n",
       "  </thead>\n",
       "  <tbody>\n",
       "    <tr>\n",
       "      <th>0</th>\n",
       "      <td>onehot</td>\n",
       "      <td>standard</td>\n",
       "      <td>var_thres</td>\n",
       "      <td>0.645963</td>\n",
       "    </tr>\n",
       "    <tr>\n",
       "      <th>1</th>\n",
       "      <td>onehot</td>\n",
       "      <td>minmax</td>\n",
       "      <td>var_thres</td>\n",
       "      <td>0.658385</td>\n",
       "    </tr>\n",
       "    <tr>\n",
       "      <th>2</th>\n",
       "      <td>onehot</td>\n",
       "      <td>robust</td>\n",
       "      <td>var_thres</td>\n",
       "      <td>0.652174</td>\n",
       "    </tr>\n",
       "    <tr>\n",
       "      <th>3</th>\n",
       "      <td>onehot</td>\n",
       "      <td>power</td>\n",
       "      <td>var_thres</td>\n",
       "      <td>0.614907</td>\n",
       "    </tr>\n",
       "    <tr>\n",
       "      <th>4</th>\n",
       "      <td>onehot</td>\n",
       "      <td>normalizer</td>\n",
       "      <td>var_thres</td>\n",
       "      <td>0.664596</td>\n",
       "    </tr>\n",
       "  </tbody>\n",
       "</table>\n",
       "</div>"
      ],
      "text/plain": [
       "  encoding     scaling  selection     score\n",
       "0   onehot    standard  var_thres  0.645963\n",
       "1   onehot      minmax  var_thres  0.658385\n",
       "2   onehot      robust  var_thres  0.652174\n",
       "3   onehot       power  var_thres  0.614907\n",
       "4   onehot  normalizer  var_thres  0.664596"
      ]
     },
     "execution_count": 131,
     "metadata": {},
     "output_type": "execute_result"
    }
   ],
   "source": [
    "metricas = []\n",
    "\n",
    "for conjunto in datos:\n",
    "    row = []\n",
    "    row.append(conjunto[4])\n",
    "    row.append(conjunto[5])\n",
    "    row.append(conjunto[6])\n",
    "    \n",
    "    clf_nb_gauss = naive_bayes.GaussianNB()\n",
    "    clf_nb_gauss.fit(conjunto[0], conjunto[2])\n",
    "    pred = clf_nb_gauss.predict(conjunto[1])\n",
    "    score = (conjunto[3] == pred)\n",
    "    \n",
    "    row.append(score.mean())\n",
    "    metricas.append(row)\n",
    "    \n",
    "dd = pd.DataFrame(metricas, columns=['encoding','scaling','selection', 'score'])\n",
    "dd"
   ]
  },
  {
   "cell_type": "markdown",
   "metadata": {},
   "source": [
    "---"
   ]
  },
  {
   "cell_type": "markdown",
   "metadata": {},
   "source": [
    "#### 3.2.2 Multinomial"
   ]
  },
  {
   "cell_type": "code",
   "execution_count": 21,
   "metadata": {},
   "outputs": [],
   "source": [
    "#StandardScaler, RobustScaler y PowerTransformer arrojan valores negativos, no podemos usar el resultado en MultinomialNB"
   ]
  },
  {
   "cell_type": "code",
   "execution_count": 132,
   "metadata": {},
   "outputs": [
    {
     "data": {
      "text/plain": [
       "0.7453416149068323"
      ]
     },
     "execution_count": 132,
     "metadata": {},
     "output_type": "execute_result"
    }
   ],
   "source": [
    "#Datos escalados con MinMaxScaler\n",
    "nb_mult_alpha = 1.0\n",
    "clf_nb_mult = naive_bayes.MultinomialNB()\n",
    "clf_nb_mult.fit(X_train_b, y_train_b)\n",
    "pred = clf_nb_mult.predict(X_test_b)\n",
    "score = (y_test_b == pred)\n",
    "score.mean()"
   ]
  },
  {
   "cell_type": "code",
   "execution_count": 133,
   "metadata": {},
   "outputs": [
    {
     "data": {
      "text/plain": [
       "0.6149068322981367"
      ]
     },
     "execution_count": 133,
     "metadata": {},
     "output_type": "execute_result"
    }
   ],
   "source": [
    "#Datos escalados con Normalizer\n",
    "nb_mult_alpha = 1.0\n",
    "clf_nb_mult = naive_bayes.MultinomialNB()\n",
    "clf_nb_mult.fit(X_train_e, y_train_e)\n",
    "pred = clf_nb_mult.predict(X_test_e)\n",
    "score = (y_test_e == pred)\n",
    "score.mean()"
   ]
  },
  {
   "cell_type": "markdown",
   "metadata": {},
   "source": [
    "#### 3.2.3 Complemento"
   ]
  },
  {
   "cell_type": "code",
   "execution_count": 24,
   "metadata": {},
   "outputs": [],
   "source": [
    "#No se vio en clase"
   ]
  },
  {
   "cell_type": "markdown",
   "metadata": {},
   "source": [
    "#### 3.2.4 Bernoulli"
   ]
  },
  {
   "cell_type": "code",
   "execution_count": 25,
   "metadata": {},
   "outputs": [],
   "source": [
    "#No se vio en clase"
   ]
  },
  {
   "cell_type": "markdown",
   "metadata": {},
   "source": [
    "### 3.3 SVM"
   ]
  },
  {
   "cell_type": "markdown",
   "metadata": {},
   "source": [
    "#### 3.3.1 Lineal"
   ]
  },
  {
   "cell_type": "code",
   "execution_count": 134,
   "metadata": {},
   "outputs": [
    {
     "name": "stderr",
     "output_type": "stream",
     "text": [
      "/home/javier/.local/lib/python3.6/site-packages/sklearn/svm/_base.py:986: ConvergenceWarning: Liblinear failed to converge, increase the number of iterations.\n",
      "  \"the number of iterations.\", ConvergenceWarning)\n",
      "/home/javier/.local/lib/python3.6/site-packages/sklearn/svm/_base.py:986: ConvergenceWarning: Liblinear failed to converge, increase the number of iterations.\n",
      "  \"the number of iterations.\", ConvergenceWarning)\n"
     ]
    },
    {
     "data": {
      "text/html": [
       "<div>\n",
       "<style scoped>\n",
       "    .dataframe tbody tr th:only-of-type {\n",
       "        vertical-align: middle;\n",
       "    }\n",
       "\n",
       "    .dataframe tbody tr th {\n",
       "        vertical-align: top;\n",
       "    }\n",
       "\n",
       "    .dataframe thead th {\n",
       "        text-align: right;\n",
       "    }\n",
       "</style>\n",
       "<table border=\"1\" class=\"dataframe\">\n",
       "  <thead>\n",
       "    <tr style=\"text-align: right;\">\n",
       "      <th></th>\n",
       "      <th>encoding</th>\n",
       "      <th>scaling</th>\n",
       "      <th>selection</th>\n",
       "      <th>score</th>\n",
       "    </tr>\n",
       "  </thead>\n",
       "  <tbody>\n",
       "    <tr>\n",
       "      <th>0</th>\n",
       "      <td>onehot</td>\n",
       "      <td>standard</td>\n",
       "      <td>var_thres</td>\n",
       "      <td>0.788820</td>\n",
       "    </tr>\n",
       "    <tr>\n",
       "      <th>1</th>\n",
       "      <td>onehot</td>\n",
       "      <td>minmax</td>\n",
       "      <td>var_thres</td>\n",
       "      <td>0.788820</td>\n",
       "    </tr>\n",
       "    <tr>\n",
       "      <th>2</th>\n",
       "      <td>onehot</td>\n",
       "      <td>robust</td>\n",
       "      <td>var_thres</td>\n",
       "      <td>0.788820</td>\n",
       "    </tr>\n",
       "    <tr>\n",
       "      <th>3</th>\n",
       "      <td>onehot</td>\n",
       "      <td>power</td>\n",
       "      <td>var_thres</td>\n",
       "      <td>0.807453</td>\n",
       "    </tr>\n",
       "    <tr>\n",
       "      <th>4</th>\n",
       "      <td>onehot</td>\n",
       "      <td>normalizer</td>\n",
       "      <td>var_thres</td>\n",
       "      <td>0.695652</td>\n",
       "    </tr>\n",
       "  </tbody>\n",
       "</table>\n",
       "</div>"
      ],
      "text/plain": [
       "  encoding     scaling  selection     score\n",
       "0   onehot    standard  var_thres  0.788820\n",
       "1   onehot      minmax  var_thres  0.788820\n",
       "2   onehot      robust  var_thres  0.788820\n",
       "3   onehot       power  var_thres  0.807453\n",
       "4   onehot  normalizer  var_thres  0.695652"
      ]
     },
     "execution_count": 134,
     "metadata": {},
     "output_type": "execute_result"
    }
   ],
   "source": [
    "metricas = []\n",
    "\n",
    "for conjunto in datos:\n",
    "    row = []\n",
    "    row.append(conjunto[4])\n",
    "    row.append(conjunto[5])\n",
    "    row.append(conjunto[6])\n",
    "    \n",
    "    clf_linear_svc = svm.LinearSVC()\n",
    "    clf_linear_svc.fit(conjunto[0], conjunto[2])\n",
    "    pred = clf_linear_svc.predict(conjunto[1])\n",
    "    score = (conjunto[3] == pred)\n",
    "    \n",
    "    row.append(score.mean())\n",
    "    metricas.append(row)\n",
    "    \n",
    "dd = pd.DataFrame(metricas, columns=['encoding','scaling','selection', 'score'])\n",
    "dd"
   ]
  },
  {
   "cell_type": "code",
   "execution_count": 135,
   "metadata": {},
   "outputs": [
    {
     "name": "stderr",
     "output_type": "stream",
     "text": [
      "/home/javier/.local/lib/python3.6/site-packages/sklearn/svm/_base.py:986: ConvergenceWarning: Liblinear failed to converge, increase the number of iterations.\n",
      "  \"the number of iterations.\", ConvergenceWarning)\n"
     ]
    },
    {
     "data": {
      "text/plain": [
       "0.7888198757763976"
      ]
     },
     "execution_count": 135,
     "metadata": {},
     "output_type": "execute_result"
    }
   ],
   "source": [
    "#Datos escalados con StandardScaler\n",
    "\n",
    "clf_linear_svc = svm.LinearSVC()\n",
    "clf_linear_svc.fit(X_train_a, y_train_a)\n",
    "pred = clf_linear_svc.predict(X_test_a)\n",
    "score = (y_test_a == pred)\n",
    "score.mean()"
   ]
  },
  {
   "cell_type": "code",
   "execution_count": 136,
   "metadata": {},
   "outputs": [
    {
     "data": {
      "text/plain": [
       "0.7888198757763976"
      ]
     },
     "execution_count": 136,
     "metadata": {},
     "output_type": "execute_result"
    }
   ],
   "source": [
    "#Datos escalados con MinMaxScaler\n",
    "\n",
    "clf_linear_svc = svm.LinearSVC()\n",
    "clf_linear_svc.fit(X_train_b, y_train_b)\n",
    "pred = clf_linear_svc.predict(X_test_b)\n",
    "score = (y_test_b == pred)\n",
    "score.mean()"
   ]
  },
  {
   "cell_type": "code",
   "execution_count": 111,
   "metadata": {},
   "outputs": [
    {
     "name": "stderr",
     "output_type": "stream",
     "text": [
      "/home/javier/.local/lib/python3.6/site-packages/sklearn/svm/_base.py:986: ConvergenceWarning: Liblinear failed to converge, increase the number of iterations.\n",
      "  \"the number of iterations.\", ConvergenceWarning)\n"
     ]
    },
    {
     "data": {
      "text/plain": [
       "0.7530864197530864"
      ]
     },
     "execution_count": 111,
     "metadata": {},
     "output_type": "execute_result"
    }
   ],
   "source": [
    "#Datos escalados con RobustScaler\n",
    "\n",
    "clf_linear_svc = svm.LinearSVC()\n",
    "clf_linear_svc.fit(X_train_c, y_train_c)\n",
    "pred = clf_linear_svc.predict(X_test_c)\n",
    "score = (y_test_c == pred)\n",
    "score.mean()"
   ]
  },
  {
   "cell_type": "code",
   "execution_count": 137,
   "metadata": {},
   "outputs": [
    {
     "data": {
      "text/plain": [
       "0.8074534161490683"
      ]
     },
     "execution_count": 137,
     "metadata": {},
     "output_type": "execute_result"
    }
   ],
   "source": [
    "#Datos escalados con PowerTransformer\n",
    "\n",
    "clf_linear_svc = svm.LinearSVC()\n",
    "clf_linear_svc.fit(X_train_d, y_train_d)\n",
    "pred = clf_linear_svc.predict(X_test_d)\n",
    "score = (y_test_d == pred)\n",
    "score.mean()"
   ]
  },
  {
   "cell_type": "code",
   "execution_count": 138,
   "metadata": {},
   "outputs": [
    {
     "data": {
      "text/plain": [
       "0.6956521739130435"
      ]
     },
     "execution_count": 138,
     "metadata": {},
     "output_type": "execute_result"
    }
   ],
   "source": [
    "#Datos escalados con Normalizer\n",
    "\n",
    "clf_linear_svc = svm.LinearSVC()\n",
    "clf_linear_svc.fit(X_train_e, y_train_e)\n",
    "pred = clf_linear_svc.predict(X_test_e)\n",
    "score = (y_test_e == pred)\n",
    "score.mean()"
   ]
  },
  {
   "cell_type": "markdown",
   "metadata": {},
   "source": [
    "---"
   ]
  },
  {
   "cell_type": "markdown",
   "metadata": {},
   "source": [
    "Busqueda de hiperparametros mediante GridSearch"
   ]
  },
  {
   "cell_type": "code",
   "execution_count": 152,
   "metadata": {},
   "outputs": [
    {
     "name": "stdout",
     "output_type": "stream",
     "text": [
      "Fitting 5 folds for each of 8 candidates, totalling 40 fits\n",
      "Fitting 5 folds for each of 8 candidates, totalling 40 fits\n"
     ]
    },
    {
     "name": "stderr",
     "output_type": "stream",
     "text": [
      "/home/javier/.local/lib/python3.6/site-packages/sklearn/model_selection/_search.py:921: UserWarning: One or more of the test scores are non-finite: [      nan 0.80625         nan 0.80625         nan 0.80625         nan\n",
      " 0.8046875]\n",
      "  category=UserWarning\n",
      "/home/javier/.local/lib/python3.6/site-packages/sklearn/model_selection/_search.py:921: UserWarning: One or more of the test scores are non-finite: [      nan 0.8203125       nan 0.803125        nan 0.80625         nan\n",
      " 0.8046875]\n",
      "  category=UserWarning\n"
     ]
    },
    {
     "name": "stdout",
     "output_type": "stream",
     "text": [
      "Fitting 5 folds for each of 8 candidates, totalling 40 fits\n",
      "Fitting 5 folds for each of 8 candidates, totalling 40 fits\n"
     ]
    },
    {
     "name": "stderr",
     "output_type": "stream",
     "text": [
      "/home/javier/.local/lib/python3.6/site-packages/sklearn/model_selection/_search.py:921: UserWarning: One or more of the test scores are non-finite: [      nan 0.809375        nan 0.8078125       nan 0.8078125       nan\n",
      " 0.8046875]\n",
      "  category=UserWarning\n",
      "/home/javier/.local/lib/python3.6/site-packages/sklearn/model_selection/_search.py:921: UserWarning: One or more of the test scores are non-finite: [      nan 0.79375         nan 0.803125        nan 0.803125        nan\n",
      " 0.8046875]\n",
      "  category=UserWarning\n",
      "/home/javier/.local/lib/python3.6/site-packages/sklearn/svm/_base.py:986: ConvergenceWarning: Liblinear failed to converge, increase the number of iterations.\n",
      "  \"the number of iterations.\", ConvergenceWarning)\n"
     ]
    },
    {
     "name": "stdout",
     "output_type": "stream",
     "text": [
      "Fitting 5 folds for each of 8 candidates, totalling 40 fits\n"
     ]
    },
    {
     "name": "stderr",
     "output_type": "stream",
     "text": [
      "/home/javier/.local/lib/python3.6/site-packages/sklearn/model_selection/_search.py:921: UserWarning: One or more of the test scores are non-finite: [      nan 0.6203125       nan 0.6765625       nan 0.7234375       nan\n",
      " 0.7640625]\n",
      "  category=UserWarning\n"
     ]
    },
    {
     "data": {
      "text/html": [
       "<div>\n",
       "<style scoped>\n",
       "    .dataframe tbody tr th:only-of-type {\n",
       "        vertical-align: middle;\n",
       "    }\n",
       "\n",
       "    .dataframe tbody tr th {\n",
       "        vertical-align: top;\n",
       "    }\n",
       "\n",
       "    .dataframe thead th {\n",
       "        text-align: right;\n",
       "    }\n",
       "</style>\n",
       "<table border=\"1\" class=\"dataframe\">\n",
       "  <thead>\n",
       "    <tr style=\"text-align: right;\">\n",
       "      <th></th>\n",
       "      <th>encoding</th>\n",
       "      <th>scaling</th>\n",
       "      <th>selection</th>\n",
       "      <th>C</th>\n",
       "      <th>penalty</th>\n",
       "      <th>score</th>\n",
       "      <th>holdout_score</th>\n",
       "    </tr>\n",
       "  </thead>\n",
       "  <tbody>\n",
       "    <tr>\n",
       "      <th>0</th>\n",
       "      <td>onehot</td>\n",
       "      <td>standard</td>\n",
       "      <td>var_thres</td>\n",
       "      <td>0.01</td>\n",
       "      <td>l2</td>\n",
       "      <td>0.806250</td>\n",
       "      <td>0.788820</td>\n",
       "    </tr>\n",
       "    <tr>\n",
       "      <th>1</th>\n",
       "      <td>onehot</td>\n",
       "      <td>minmax</td>\n",
       "      <td>var_thres</td>\n",
       "      <td>0.01</td>\n",
       "      <td>l2</td>\n",
       "      <td>0.820312</td>\n",
       "      <td>0.801242</td>\n",
       "    </tr>\n",
       "    <tr>\n",
       "      <th>2</th>\n",
       "      <td>onehot</td>\n",
       "      <td>robust</td>\n",
       "      <td>var_thres</td>\n",
       "      <td>0.01</td>\n",
       "      <td>l2</td>\n",
       "      <td>0.809375</td>\n",
       "      <td>0.795031</td>\n",
       "    </tr>\n",
       "    <tr>\n",
       "      <th>3</th>\n",
       "      <td>onehot</td>\n",
       "      <td>power</td>\n",
       "      <td>var_thres</td>\n",
       "      <td>10.00</td>\n",
       "      <td>l2</td>\n",
       "      <td>0.804688</td>\n",
       "      <td>0.801242</td>\n",
       "    </tr>\n",
       "    <tr>\n",
       "      <th>4</th>\n",
       "      <td>onehot</td>\n",
       "      <td>normalizer</td>\n",
       "      <td>var_thres</td>\n",
       "      <td>10.00</td>\n",
       "      <td>l2</td>\n",
       "      <td>0.764062</td>\n",
       "      <td>0.745342</td>\n",
       "    </tr>\n",
       "  </tbody>\n",
       "</table>\n",
       "</div>"
      ],
      "text/plain": [
       "  encoding     scaling  selection      C penalty     score  holdout_score\n",
       "0   onehot    standard  var_thres   0.01      l2  0.806250       0.788820\n",
       "1   onehot      minmax  var_thres   0.01      l2  0.820312       0.801242\n",
       "2   onehot      robust  var_thres   0.01      l2  0.809375       0.795031\n",
       "3   onehot       power  var_thres  10.00      l2  0.804688       0.801242\n",
       "4   onehot  normalizer  var_thres  10.00      l2  0.764062       0.745342"
      ]
     },
     "metadata": {},
     "output_type": "display_data"
    }
   ],
   "source": [
    "clf_linear_svc = svm.LinearSVC()\n",
    "\n",
    "svc_grid_params = {\n",
    "    'C' : [0.01, 0.1, 1, 10],\n",
    "    'penalty' : ['l1', 'l2']\n",
    "}\n",
    "\n",
    "gs = model_selection.GridSearchCV(\n",
    "    clf_linear_svc,\n",
    "    svc_grid_params,\n",
    "    verbose = 3,\n",
    "    cv = 5,\n",
    "    n_jobs = -1\n",
    ")\n",
    "\n",
    "columnas=['encoding','scaling','selection','C', 'penalty', 'score', 'holdout_score']\n",
    "aplicar_gscv(gs, columnas)"
   ]
  },
  {
   "cell_type": "markdown",
   "metadata": {},
   "source": [
    "---"
   ]
  },
  {
   "cell_type": "markdown",
   "metadata": {},
   "source": [
    "#### 3.3.2 Polinomial"
   ]
  },
  {
   "cell_type": "markdown",
   "metadata": {},
   "source": [
    "Entrenamiento con valores por defecto"
   ]
  },
  {
   "cell_type": "code",
   "execution_count": 116,
   "metadata": {},
   "outputs": [
    {
     "data": {
      "text/html": [
       "<div>\n",
       "<style scoped>\n",
       "    .dataframe tbody tr th:only-of-type {\n",
       "        vertical-align: middle;\n",
       "    }\n",
       "\n",
       "    .dataframe tbody tr th {\n",
       "        vertical-align: top;\n",
       "    }\n",
       "\n",
       "    .dataframe thead th {\n",
       "        text-align: right;\n",
       "    }\n",
       "</style>\n",
       "<table border=\"1\" class=\"dataframe\">\n",
       "  <thead>\n",
       "    <tr style=\"text-align: right;\">\n",
       "      <th></th>\n",
       "      <th>encoding</th>\n",
       "      <th>scaling</th>\n",
       "      <th>selection</th>\n",
       "      <th>score</th>\n",
       "    </tr>\n",
       "  </thead>\n",
       "  <tbody>\n",
       "    <tr>\n",
       "      <th>0</th>\n",
       "      <td>onehot</td>\n",
       "      <td>standard</td>\n",
       "      <td>var_thres</td>\n",
       "      <td>0.790123</td>\n",
       "    </tr>\n",
       "    <tr>\n",
       "      <th>1</th>\n",
       "      <td>onehot</td>\n",
       "      <td>minmax</td>\n",
       "      <td>var_thres</td>\n",
       "      <td>0.790123</td>\n",
       "    </tr>\n",
       "    <tr>\n",
       "      <th>2</th>\n",
       "      <td>onehot</td>\n",
       "      <td>robust</td>\n",
       "      <td>var_thres</td>\n",
       "      <td>0.728395</td>\n",
       "    </tr>\n",
       "    <tr>\n",
       "      <th>3</th>\n",
       "      <td>onehot</td>\n",
       "      <td>power</td>\n",
       "      <td>var_thres</td>\n",
       "      <td>0.790123</td>\n",
       "    </tr>\n",
       "    <tr>\n",
       "      <th>4</th>\n",
       "      <td>onehot</td>\n",
       "      <td>normalizer</td>\n",
       "      <td>var_thres</td>\n",
       "      <td>0.654321</td>\n",
       "    </tr>\n",
       "  </tbody>\n",
       "</table>\n",
       "</div>"
      ],
      "text/plain": [
       "  encoding     scaling  selection     score\n",
       "0   onehot    standard  var_thres  0.790123\n",
       "1   onehot      minmax  var_thres  0.790123\n",
       "2   onehot      robust  var_thres  0.728395\n",
       "3   onehot       power  var_thres  0.790123\n",
       "4   onehot  normalizer  var_thres  0.654321"
      ]
     },
     "execution_count": 116,
     "metadata": {},
     "output_type": "execute_result"
    }
   ],
   "source": [
    "metricas = []\n",
    "\n",
    "for conjunto in datos:\n",
    "    row = []\n",
    "    row.append(conjunto[4])\n",
    "    row.append(conjunto[5])\n",
    "    row.append(conjunto[6])\n",
    "    \n",
    "    clf_svc = svm.SVC(kernel='poly')\n",
    "    clf_svc.fit(conjunto[0], conjunto[2])\n",
    "    pred = clf_svc.predict(conjunto[1])\n",
    "    score = (conjunto[3] == pred)\n",
    "    \n",
    "    row.append(score.mean())\n",
    "    metricas.append(row)\n",
    "    \n",
    "dd = pd.DataFrame(metricas, columns=['encoding','scaling','selection', 'score'])\n",
    "dd"
   ]
  },
  {
   "cell_type": "markdown",
   "metadata": {},
   "source": [
    "---"
   ]
  },
  {
   "cell_type": "markdown",
   "metadata": {},
   "source": [
    "Busqueda de hiperparametros mediante GridSearch"
   ]
  },
  {
   "cell_type": "code",
   "execution_count": 38,
   "metadata": {},
   "outputs": [],
   "source": [
    "clf_svc = svm.SVC(kernel='poly')\n",
    "\n",
    "svc_grid_params = {\n",
    "    'C' : [0.01, 0.1, 1, 10],\n",
    "    'degree': [2,3,4],\n",
    "    'coef0': [0.0, 0.5, 1.0],\n",
    "    'gamma': [1.0, 1.5, 2.0]\n",
    "}\n",
    "\n",
    "gs = model_selection.GridSearchCV(\n",
    "    clf_svc,\n",
    "    svc_grid_params,\n",
    "    verbose = 3,\n",
    "    cv = 5,\n",
    "    n_jobs = -1\n",
    ")\n",
    "\n"
   ]
  },
  {
   "cell_type": "code",
   "execution_count": 83,
   "metadata": {},
   "outputs": [],
   "source": [
    "#Tardan mucho por la cantidad de fits que hay que hacer"
   ]
  },
  {
   "cell_type": "code",
   "execution_count": null,
   "metadata": {},
   "outputs": [
    {
     "name": "stdout",
     "output_type": "stream",
     "text": [
      "Fitting 5 folds for each of 108 candidates, totalling 540 fits\n"
     ]
    }
   ],
   "source": [
    "gs_results = gs.fit(X_train_a, y_train_a)\n",
    "display(gs_results.best_params_)\n",
    "display(gs_results.best_score_)\n",
    "#scores = model_selection.cross_val_score(clf_svc, df_X, df_y, cv=5)\n",
    "#display(scores)"
   ]
  },
  {
   "cell_type": "code",
   "execution_count": null,
   "metadata": {},
   "outputs": [],
   "source": [
    "gs_results = gs.fit(X_train_b, y_train_b)\n",
    "display(gs_results.best_params_)\n",
    "display(gs_results.best_score_)\n",
    "#scores = model_selection.cross_val_score(clf_svc, df_X, df_y, cv=5)\n",
    "#display(scores)"
   ]
  },
  {
   "cell_type": "code",
   "execution_count": null,
   "metadata": {},
   "outputs": [],
   "source": [
    "gs_results = gs.fit(X_train_c, y_train_c)\n",
    "display(gs_results.best_params_)\n",
    "display(gs_results.best_score_)\n",
    "#scores = model_selection.cross_val_score(clf_svc, df_X, df_y, cv=5)\n",
    "#display(scores)"
   ]
  },
  {
   "cell_type": "code",
   "execution_count": null,
   "metadata": {},
   "outputs": [],
   "source": [
    "gs_results = gs.fit(X_train_d, y_train_d)\n",
    "display(gs_results.best_params_)\n",
    "display(gs_results.best_score_)\n",
    "#scores = model_selection.cross_val_score(clf_svc, df_X, df_y, cv=5)\n",
    "#display(scores)"
   ]
  },
  {
   "cell_type": "code",
   "execution_count": null,
   "metadata": {},
   "outputs": [],
   "source": [
    "gs_results = gs.fit(X_train_e, y_train_e)\n",
    "display(gs_results.best_params_)\n",
    "display(gs_results.best_score_)\n",
    "#scores = model_selection.cross_val_score(clf_svc, df_X, df_y, cv=5)\n",
    "#display(scores)"
   ]
  },
  {
   "cell_type": "markdown",
   "metadata": {},
   "source": [
    "---"
   ]
  },
  {
   "cell_type": "markdown",
   "metadata": {},
   "source": [
    "#### 3.3.3 Radial"
   ]
  },
  {
   "cell_type": "markdown",
   "metadata": {},
   "source": [
    "Entrenamiento con valores por defecto"
   ]
  },
  {
   "cell_type": "code",
   "execution_count": 34,
   "metadata": {},
   "outputs": [
    {
     "data": {
      "text/html": [
       "<div>\n",
       "<style scoped>\n",
       "    .dataframe tbody tr th:only-of-type {\n",
       "        vertical-align: middle;\n",
       "    }\n",
       "\n",
       "    .dataframe tbody tr th {\n",
       "        vertical-align: top;\n",
       "    }\n",
       "\n",
       "    .dataframe thead th {\n",
       "        text-align: right;\n",
       "    }\n",
       "</style>\n",
       "<table border=\"1\" class=\"dataframe\">\n",
       "  <thead>\n",
       "    <tr style=\"text-align: right;\">\n",
       "      <th></th>\n",
       "      <th>encoding</th>\n",
       "      <th>scaling</th>\n",
       "      <th>selection</th>\n",
       "      <th>score</th>\n",
       "    </tr>\n",
       "  </thead>\n",
       "  <tbody>\n",
       "    <tr>\n",
       "      <th>0</th>\n",
       "      <td>onehot</td>\n",
       "      <td>standard</td>\n",
       "      <td>var_thres</td>\n",
       "      <td>0.804979</td>\n",
       "    </tr>\n",
       "    <tr>\n",
       "      <th>1</th>\n",
       "      <td>onehot</td>\n",
       "      <td>minmax</td>\n",
       "      <td>var_thres</td>\n",
       "      <td>0.800830</td>\n",
       "    </tr>\n",
       "    <tr>\n",
       "      <th>2</th>\n",
       "      <td>onehot</td>\n",
       "      <td>robust</td>\n",
       "      <td>var_thres</td>\n",
       "      <td>0.809129</td>\n",
       "    </tr>\n",
       "    <tr>\n",
       "      <th>3</th>\n",
       "      <td>onehot</td>\n",
       "      <td>power</td>\n",
       "      <td>var_thres</td>\n",
       "      <td>0.809129</td>\n",
       "    </tr>\n",
       "    <tr>\n",
       "      <th>4</th>\n",
       "      <td>onehot</td>\n",
       "      <td>normalizer</td>\n",
       "      <td>var_thres</td>\n",
       "      <td>0.672199</td>\n",
       "    </tr>\n",
       "  </tbody>\n",
       "</table>\n",
       "</div>"
      ],
      "text/plain": [
       "  encoding     scaling  selection     score\n",
       "0   onehot    standard  var_thres  0.804979\n",
       "1   onehot      minmax  var_thres  0.800830\n",
       "2   onehot      robust  var_thres  0.809129\n",
       "3   onehot       power  var_thres  0.809129\n",
       "4   onehot  normalizer  var_thres  0.672199"
      ]
     },
     "execution_count": 34,
     "metadata": {},
     "output_type": "execute_result"
    }
   ],
   "source": [
    "metricas = []\n",
    "\n",
    "for conjunto in datos:\n",
    "    row = []\n",
    "    row.append(conjunto[4])\n",
    "    row.append(conjunto[5])\n",
    "    row.append(conjunto[6])\n",
    "    \n",
    "    clf_svc = svm.SVC(kernel='rbf')\n",
    "    clf_svc.fit(conjunto[0], conjunto[2])\n",
    "    pred = clf_svc.predict(conjunto[1])\n",
    "    score = (conjunto[3] == pred)\n",
    "    \n",
    "    row.append(score.mean())\n",
    "    metricas.append(row)\n",
    "    \n",
    "dd = pd.DataFrame(metricas, columns=['encoding','scaling','selection', 'score'])\n",
    "dd"
   ]
  },
  {
   "cell_type": "markdown",
   "metadata": {},
   "source": [
    "---"
   ]
  },
  {
   "cell_type": "markdown",
   "metadata": {},
   "source": [
    "Busqueda de hiperparametros mediante GridSearch"
   ]
  },
  {
   "cell_type": "code",
   "execution_count": 155,
   "metadata": {},
   "outputs": [
    {
     "name": "stdout",
     "output_type": "stream",
     "text": [
      "Fitting 5 folds for each of 30 candidates, totalling 150 fits\n",
      "Fitting 5 folds for each of 30 candidates, totalling 150 fits\n",
      "Fitting 5 folds for each of 30 candidates, totalling 150 fits\n",
      "Fitting 5 folds for each of 30 candidates, totalling 150 fits\n",
      "Fitting 5 folds for each of 30 candidates, totalling 150 fits\n"
     ]
    },
    {
     "data": {
      "text/html": [
       "<div>\n",
       "<style scoped>\n",
       "    .dataframe tbody tr th:only-of-type {\n",
       "        vertical-align: middle;\n",
       "    }\n",
       "\n",
       "    .dataframe tbody tr th {\n",
       "        vertical-align: top;\n",
       "    }\n",
       "\n",
       "    .dataframe thead th {\n",
       "        text-align: right;\n",
       "    }\n",
       "</style>\n",
       "<table border=\"1\" class=\"dataframe\">\n",
       "  <thead>\n",
       "    <tr style=\"text-align: right;\">\n",
       "      <th></th>\n",
       "      <th>encoding</th>\n",
       "      <th>scaling</th>\n",
       "      <th>selection</th>\n",
       "      <th>C</th>\n",
       "      <th>gamma</th>\n",
       "      <th>score</th>\n",
       "      <th>holdout_score</th>\n",
       "    </tr>\n",
       "  </thead>\n",
       "  <tbody>\n",
       "    <tr>\n",
       "      <th>0</th>\n",
       "      <td>onehot</td>\n",
       "      <td>standard</td>\n",
       "      <td>var_thres</td>\n",
       "      <td>50</td>\n",
       "      <td>0.05</td>\n",
       "      <td>0.826562</td>\n",
       "      <td>0.826087</td>\n",
       "    </tr>\n",
       "    <tr>\n",
       "      <th>1</th>\n",
       "      <td>onehot</td>\n",
       "      <td>minmax</td>\n",
       "      <td>var_thres</td>\n",
       "      <td>10</td>\n",
       "      <td>1.00</td>\n",
       "      <td>0.829688</td>\n",
       "      <td>0.807453</td>\n",
       "    </tr>\n",
       "    <tr>\n",
       "      <th>2</th>\n",
       "      <td>onehot</td>\n",
       "      <td>robust</td>\n",
       "      <td>var_thres</td>\n",
       "      <td>10</td>\n",
       "      <td>0.10</td>\n",
       "      <td>0.818750</td>\n",
       "      <td>0.838509</td>\n",
       "    </tr>\n",
       "    <tr>\n",
       "      <th>3</th>\n",
       "      <td>onehot</td>\n",
       "      <td>power</td>\n",
       "      <td>var_thres</td>\n",
       "      <td>10</td>\n",
       "      <td>0.05</td>\n",
       "      <td>0.829688</td>\n",
       "      <td>0.819876</td>\n",
       "    </tr>\n",
       "    <tr>\n",
       "      <th>4</th>\n",
       "      <td>onehot</td>\n",
       "      <td>normalizer</td>\n",
       "      <td>var_thres</td>\n",
       "      <td>50</td>\n",
       "      <td>2.00</td>\n",
       "      <td>0.804688</td>\n",
       "      <td>0.788820</td>\n",
       "    </tr>\n",
       "  </tbody>\n",
       "</table>\n",
       "</div>"
      ],
      "text/plain": [
       "  encoding     scaling  selection   C  gamma     score  holdout_score\n",
       "0   onehot    standard  var_thres  50   0.05  0.826562       0.826087\n",
       "1   onehot      minmax  var_thres  10   1.00  0.829688       0.807453\n",
       "2   onehot      robust  var_thres  10   0.10  0.818750       0.838509\n",
       "3   onehot       power  var_thres  10   0.05  0.829688       0.819876\n",
       "4   onehot  normalizer  var_thres  50   2.00  0.804688       0.788820"
      ]
     },
     "metadata": {},
     "output_type": "display_data"
    }
   ],
   "source": [
    "clf_svc = svm.SVC(kernel='rbf')\n",
    "\n",
    "svc_grid_params = {\n",
    "    'C' : [0.01, 0.1, 1, 10, 50],\n",
    "    'gamma': [0.05, 0.1, 0.5, 1.0, 1.5, 2.0]\n",
    "}\n",
    "\n",
    "gs = model_selection.GridSearchCV(\n",
    "    clf_svc,\n",
    "    svc_grid_params,\n",
    "    verbose = 3,\n",
    "    cv = 5,\n",
    "    n_jobs = -1\n",
    ")\n",
    "\n",
    "columnas=['encoding','scaling','selection','C', 'gamma', 'score', 'holdout_score']\n",
    "\n",
    "aplicar_gscv(gs, columnas)"
   ]
  },
  {
   "cell_type": "markdown",
   "metadata": {},
   "source": [
    "---"
   ]
  },
  {
   "cell_type": "markdown",
   "metadata": {},
   "source": [
    "#### 3.3.4 Sigmoide"
   ]
  },
  {
   "cell_type": "markdown",
   "metadata": {},
   "source": [
    "Entrenamiento con valores por defecto"
   ]
  },
  {
   "cell_type": "code",
   "execution_count": 40,
   "metadata": {},
   "outputs": [
    {
     "data": {
      "text/html": [
       "<div>\n",
       "<style scoped>\n",
       "    .dataframe tbody tr th:only-of-type {\n",
       "        vertical-align: middle;\n",
       "    }\n",
       "\n",
       "    .dataframe tbody tr th {\n",
       "        vertical-align: top;\n",
       "    }\n",
       "\n",
       "    .dataframe thead th {\n",
       "        text-align: right;\n",
       "    }\n",
       "</style>\n",
       "<table border=\"1\" class=\"dataframe\">\n",
       "  <thead>\n",
       "    <tr style=\"text-align: right;\">\n",
       "      <th></th>\n",
       "      <th>encoding</th>\n",
       "      <th>scaling</th>\n",
       "      <th>selection</th>\n",
       "      <th>score</th>\n",
       "    </tr>\n",
       "  </thead>\n",
       "  <tbody>\n",
       "    <tr>\n",
       "      <th>0</th>\n",
       "      <td>onehot</td>\n",
       "      <td>standard</td>\n",
       "      <td>var_thres</td>\n",
       "      <td>0.726141</td>\n",
       "    </tr>\n",
       "    <tr>\n",
       "      <th>1</th>\n",
       "      <td>onehot</td>\n",
       "      <td>minmax</td>\n",
       "      <td>var_thres</td>\n",
       "      <td>0.684647</td>\n",
       "    </tr>\n",
       "    <tr>\n",
       "      <th>2</th>\n",
       "      <td>onehot</td>\n",
       "      <td>robust</td>\n",
       "      <td>var_thres</td>\n",
       "      <td>0.643154</td>\n",
       "    </tr>\n",
       "    <tr>\n",
       "      <th>3</th>\n",
       "      <td>onehot</td>\n",
       "      <td>power</td>\n",
       "      <td>var_thres</td>\n",
       "      <td>0.709544</td>\n",
       "    </tr>\n",
       "    <tr>\n",
       "      <th>4</th>\n",
       "      <td>onehot</td>\n",
       "      <td>normalizer</td>\n",
       "      <td>var_thres</td>\n",
       "      <td>0.655602</td>\n",
       "    </tr>\n",
       "  </tbody>\n",
       "</table>\n",
       "</div>"
      ],
      "text/plain": [
       "  encoding     scaling  selection     score\n",
       "0   onehot    standard  var_thres  0.726141\n",
       "1   onehot      minmax  var_thres  0.684647\n",
       "2   onehot      robust  var_thres  0.643154\n",
       "3   onehot       power  var_thres  0.709544\n",
       "4   onehot  normalizer  var_thres  0.655602"
      ]
     },
     "execution_count": 40,
     "metadata": {},
     "output_type": "execute_result"
    }
   ],
   "source": [
    "metricas = []\n",
    "\n",
    "for conjunto in datos:\n",
    "    row = []\n",
    "    row.append(conjunto[4])\n",
    "    row.append(conjunto[5])\n",
    "    row.append(conjunto[6])\n",
    "    \n",
    "    clf_svc = svm.SVC(kernel='sigmoid')\n",
    "    clf_svc.fit(conjunto[0], conjunto[2])\n",
    "    pred = clf_svc.predict(conjunto[1])\n",
    "    score = (conjunto[3] == pred)\n",
    "    \n",
    "    row.append(score.mean())\n",
    "    metricas.append(row)\n",
    "    \n",
    "dd = pd.DataFrame(metricas, columns=['encoding','scaling','selection', 'score'])\n",
    "dd"
   ]
  },
  {
   "cell_type": "markdown",
   "metadata": {},
   "source": [
    "---"
   ]
  },
  {
   "cell_type": "markdown",
   "metadata": {},
   "source": [
    "Busqueda de hiperparametros mediante GridSearch"
   ]
  },
  {
   "cell_type": "code",
   "execution_count": 156,
   "metadata": {},
   "outputs": [
    {
     "name": "stdout",
     "output_type": "stream",
     "text": [
      "Fitting 5 folds for each of 72 candidates, totalling 360 fits\n",
      "Fitting 5 folds for each of 72 candidates, totalling 360 fits\n",
      "Fitting 5 folds for each of 72 candidates, totalling 360 fits\n",
      "Fitting 5 folds for each of 72 candidates, totalling 360 fits\n",
      "Fitting 5 folds for each of 72 candidates, totalling 360 fits\n"
     ]
    },
    {
     "data": {
      "text/html": [
       "<div>\n",
       "<style scoped>\n",
       "    .dataframe tbody tr th:only-of-type {\n",
       "        vertical-align: middle;\n",
       "    }\n",
       "\n",
       "    .dataframe tbody tr th {\n",
       "        vertical-align: top;\n",
       "    }\n",
       "\n",
       "    .dataframe thead th {\n",
       "        text-align: right;\n",
       "    }\n",
       "</style>\n",
       "<table border=\"1\" class=\"dataframe\">\n",
       "  <thead>\n",
       "    <tr style=\"text-align: right;\">\n",
       "      <th></th>\n",
       "      <th>encoding</th>\n",
       "      <th>scaling</th>\n",
       "      <th>selection</th>\n",
       "      <th>C</th>\n",
       "      <th>coef0</th>\n",
       "      <th>gamma</th>\n",
       "      <th>score</th>\n",
       "      <th>holdout_score</th>\n",
       "    </tr>\n",
       "  </thead>\n",
       "  <tbody>\n",
       "    <tr>\n",
       "      <th>0</th>\n",
       "      <td>onehot</td>\n",
       "      <td>standard</td>\n",
       "      <td>var_thres</td>\n",
       "      <td>0.1</td>\n",
       "      <td>0.5</td>\n",
       "      <td>0.10</td>\n",
       "      <td>0.789062</td>\n",
       "      <td>0.732919</td>\n",
       "    </tr>\n",
       "    <tr>\n",
       "      <th>1</th>\n",
       "      <td>onehot</td>\n",
       "      <td>minmax</td>\n",
       "      <td>var_thres</td>\n",
       "      <td>0.1</td>\n",
       "      <td>0.0</td>\n",
       "      <td>0.10</td>\n",
       "      <td>0.796875</td>\n",
       "      <td>0.795031</td>\n",
       "    </tr>\n",
       "    <tr>\n",
       "      <th>2</th>\n",
       "      <td>onehot</td>\n",
       "      <td>robust</td>\n",
       "      <td>var_thres</td>\n",
       "      <td>0.1</td>\n",
       "      <td>0.5</td>\n",
       "      <td>0.10</td>\n",
       "      <td>0.735938</td>\n",
       "      <td>0.689441</td>\n",
       "    </tr>\n",
       "    <tr>\n",
       "      <th>3</th>\n",
       "      <td>onehot</td>\n",
       "      <td>power</td>\n",
       "      <td>var_thres</td>\n",
       "      <td>0.1</td>\n",
       "      <td>0.5</td>\n",
       "      <td>0.05</td>\n",
       "      <td>0.790625</td>\n",
       "      <td>0.795031</td>\n",
       "    </tr>\n",
       "    <tr>\n",
       "      <th>4</th>\n",
       "      <td>onehot</td>\n",
       "      <td>normalizer</td>\n",
       "      <td>var_thres</td>\n",
       "      <td>10.0</td>\n",
       "      <td>0.0</td>\n",
       "      <td>0.50</td>\n",
       "      <td>0.712500</td>\n",
       "      <td>0.683230</td>\n",
       "    </tr>\n",
       "  </tbody>\n",
       "</table>\n",
       "</div>"
      ],
      "text/plain": [
       "  encoding     scaling  selection     C  coef0  gamma     score  holdout_score\n",
       "0   onehot    standard  var_thres   0.1    0.5   0.10  0.789062       0.732919\n",
       "1   onehot      minmax  var_thres   0.1    0.0   0.10  0.796875       0.795031\n",
       "2   onehot      robust  var_thres   0.1    0.5   0.10  0.735938       0.689441\n",
       "3   onehot       power  var_thres   0.1    0.5   0.05  0.790625       0.795031\n",
       "4   onehot  normalizer  var_thres  10.0    0.0   0.50  0.712500       0.683230"
      ]
     },
     "metadata": {},
     "output_type": "display_data"
    }
   ],
   "source": [
    "clf_svc = svm.SVC(kernel='sigmoid')\n",
    "\n",
    "svc_grid_params = {\n",
    "    'C' : [0.01, 0.1, 1, 10],\n",
    "    'gamma': [0.05, 0.1, 0.5, 1.0, 1.5, 2.0],\n",
    "    'coef0': [0.0, 0.5, 1.0]\n",
    "}\n",
    "\n",
    "gs = model_selection.GridSearchCV(\n",
    "    clf_svc,\n",
    "    svc_grid_params,\n",
    "    verbose = 1,\n",
    "    cv = 5,\n",
    "    n_jobs = -1\n",
    ")\n",
    "\n",
    "columnas=['encoding','scaling','selection','C', 'coef0', 'gamma', 'score', 'holdout_score']\n",
    "\n",
    "aplicar_gscv(gs, columnas)"
   ]
  },
  {
   "cell_type": "markdown",
   "metadata": {},
   "source": [
    "---"
   ]
  },
  {
   "cell_type": "markdown",
   "metadata": {},
   "source": [
    "### 3.4 Regresor Lineal (Logistic Regression)"
   ]
  },
  {
   "cell_type": "code",
   "execution_count": 75,
   "metadata": {},
   "outputs": [],
   "source": [
    "from sklearn.linear_model import LogisticRegression"
   ]
  },
  {
   "cell_type": "code",
   "execution_count": 76,
   "metadata": {},
   "outputs": [
    {
     "data": {
      "text/html": [
       "<div>\n",
       "<style scoped>\n",
       "    .dataframe tbody tr th:only-of-type {\n",
       "        vertical-align: middle;\n",
       "    }\n",
       "\n",
       "    .dataframe tbody tr th {\n",
       "        vertical-align: top;\n",
       "    }\n",
       "\n",
       "    .dataframe thead th {\n",
       "        text-align: right;\n",
       "    }\n",
       "</style>\n",
       "<table border=\"1\" class=\"dataframe\">\n",
       "  <thead>\n",
       "    <tr style=\"text-align: right;\">\n",
       "      <th></th>\n",
       "      <th>encoding</th>\n",
       "      <th>scaling</th>\n",
       "      <th>selection</th>\n",
       "      <th>score</th>\n",
       "    </tr>\n",
       "  </thead>\n",
       "  <tbody>\n",
       "    <tr>\n",
       "      <th>0</th>\n",
       "      <td>onehot</td>\n",
       "      <td>standard</td>\n",
       "      <td>var_thres</td>\n",
       "      <td>0.804979</td>\n",
       "    </tr>\n",
       "    <tr>\n",
       "      <th>1</th>\n",
       "      <td>onehot</td>\n",
       "      <td>minmax</td>\n",
       "      <td>var_thres</td>\n",
       "      <td>0.796680</td>\n",
       "    </tr>\n",
       "    <tr>\n",
       "      <th>2</th>\n",
       "      <td>onehot</td>\n",
       "      <td>robust</td>\n",
       "      <td>var_thres</td>\n",
       "      <td>0.800830</td>\n",
       "    </tr>\n",
       "    <tr>\n",
       "      <th>3</th>\n",
       "      <td>onehot</td>\n",
       "      <td>power</td>\n",
       "      <td>var_thres</td>\n",
       "      <td>0.800830</td>\n",
       "    </tr>\n",
       "    <tr>\n",
       "      <th>4</th>\n",
       "      <td>onehot</td>\n",
       "      <td>normalizer</td>\n",
       "      <td>var_thres</td>\n",
       "      <td>0.663900</td>\n",
       "    </tr>\n",
       "  </tbody>\n",
       "</table>\n",
       "</div>"
      ],
      "text/plain": [
       "  encoding     scaling  selection     score\n",
       "0   onehot    standard  var_thres  0.804979\n",
       "1   onehot      minmax  var_thres  0.796680\n",
       "2   onehot      robust  var_thres  0.800830\n",
       "3   onehot       power  var_thres  0.800830\n",
       "4   onehot  normalizer  var_thres  0.663900"
      ]
     },
     "execution_count": 76,
     "metadata": {},
     "output_type": "execute_result"
    }
   ],
   "source": [
    "metricas = []\n",
    "\n",
    "for conjunto in datos:\n",
    "    row = []\n",
    "    row.append(conjunto[4])\n",
    "    row.append(conjunto[5])\n",
    "    row.append(conjunto[6])\n",
    "    \n",
    "    clf_logreg = LogisticRegression()\n",
    "    clf_logreg.fit(conjunto[0], conjunto[2])\n",
    "    pred = clf_logreg.predict(conjunto[1])\n",
    "    score = (conjunto[3] == pred)\n",
    "    \n",
    "    row.append(score.mean())\n",
    "    metricas.append(row)\n",
    "    \n",
    "dd = pd.DataFrame(metricas, columns=['encoding','scaling','selection', 'score'])\n",
    "dd"
   ]
  },
  {
   "cell_type": "markdown",
   "metadata": {},
   "source": [
    "---"
   ]
  },
  {
   "cell_type": "markdown",
   "metadata": {},
   "source": [
    "Busqueda de Hiperparámetros mediante GridSearch"
   ]
  },
  {
   "cell_type": "code",
   "execution_count": 79,
   "metadata": {},
   "outputs": [],
   "source": [
    "logreg_grid_params = {\n",
    "    'C' : [0.01, 0.1, 1, 10],\n",
    "    'penalty': ['l1','l2','elasticnet','none'],\n",
    "}\n",
    "\n",
    "gs = model_selection.GridSearchCV(\n",
    "    clf_logreg,\n",
    "    logreg_grid_params,\n",
    "    verbose = 1,\n",
    "    cv = 5,\n",
    "    n_jobs = -1\n",
    ")"
   ]
  },
  {
   "cell_type": "code",
   "execution_count": 81,
   "metadata": {},
   "outputs": [
    {
     "name": "stdout",
     "output_type": "stream",
     "text": [
      "Fitting 5 folds for each of 16 candidates, totalling 80 fits\n",
      "Fitting 5 folds for each of 16 candidates, totalling 80 fits\n"
     ]
    },
    {
     "name": "stderr",
     "output_type": "stream",
     "text": [
      "/home/javier/.local/lib/python3.6/site-packages/sklearn/model_selection/_search.py:921: UserWarning: One or more of the test scores are non-finite: [       nan 0.8125            nan 0.81071429        nan 0.81785714\n",
      "        nan 0.81071429        nan 0.80892857        nan 0.81071429\n",
      "        nan 0.81071429        nan 0.81071429]\n",
      "  category=UserWarning\n",
      "/home/javier/.local/lib/python3.6/site-packages/sklearn/model_selection/_search.py:921: UserWarning: One or more of the test scores are non-finite: [       nan 0.72857143        nan 0.81071429        nan 0.81785714\n",
      "        nan 0.81071429        nan 0.8125            nan 0.81071429\n",
      "        nan 0.8125            nan 0.81071429]\n",
      "  category=UserWarning\n",
      "/home/javier/.local/lib/python3.6/site-packages/sklearn/model_selection/_search.py:921: UserWarning: One or more of the test scores are non-finite: [       nan 0.725             nan 0.81071429        nan 0.81964286\n",
      "        nan 0.81071429        nan 0.81071429        nan 0.81071429\n",
      "        nan 0.81071429        nan 0.81071429]\n",
      "  category=UserWarning\n"
     ]
    },
    {
     "name": "stdout",
     "output_type": "stream",
     "text": [
      "Fitting 5 folds for each of 16 candidates, totalling 80 fits\n",
      "Fitting 5 folds for each of 16 candidates, totalling 80 fits\n"
     ]
    },
    {
     "name": "stderr",
     "output_type": "stream",
     "text": [
      "/home/javier/.local/lib/python3.6/site-packages/sklearn/model_selection/_search.py:921: UserWarning: One or more of the test scores are non-finite: [       nan 0.79107143        nan 0.79464286        nan 0.80357143\n",
      "        nan 0.79464286        nan 0.79464286        nan 0.79464286\n",
      "        nan 0.79464286        nan 0.79464286]\n",
      "  category=UserWarning\n"
     ]
    },
    {
     "name": "stdout",
     "output_type": "stream",
     "text": [
      "Fitting 5 folds for each of 16 candidates, totalling 80 fits\n"
     ]
    },
    {
     "name": "stderr",
     "output_type": "stream",
     "text": [
      "/home/javier/.local/lib/python3.6/site-packages/sklearn/model_selection/_search.py:921: UserWarning: One or more of the test scores are non-finite: [       nan 0.61785714        nan 0.79285714        nan 0.62142857\n",
      "        nan 0.79285714        nan 0.67857143        nan 0.79285714\n",
      "        nan 0.73214286        nan 0.79285714]\n",
      "  category=UserWarning\n",
      "/home/javier/.local/lib/python3.6/site-packages/sklearn/linear_model/_logistic.py:1323: UserWarning: Setting penalty='none' will ignore the C and l1_ratio parameters\n",
      "  \"Setting penalty='none' will ignore the C and l1_ratio \"\n",
      "/home/javier/.local/lib/python3.6/site-packages/sklearn/linear_model/_logistic.py:765: ConvergenceWarning: lbfgs failed to converge (status=1):\n",
      "STOP: TOTAL NO. of ITERATIONS REACHED LIMIT.\n",
      "\n",
      "Increase the number of iterations (max_iter) or scale the data as shown in:\n",
      "    https://scikit-learn.org/stable/modules/preprocessing.html\n",
      "Please also refer to the documentation for alternative solver options:\n",
      "    https://scikit-learn.org/stable/modules/linear_model.html#logistic-regression\n",
      "  extra_warning_msg=_LOGISTIC_SOLVER_CONVERGENCE_MSG)\n"
     ]
    },
    {
     "data": {
      "text/html": [
       "<div>\n",
       "<style scoped>\n",
       "    .dataframe tbody tr th:only-of-type {\n",
       "        vertical-align: middle;\n",
       "    }\n",
       "\n",
       "    .dataframe tbody tr th {\n",
       "        vertical-align: top;\n",
       "    }\n",
       "\n",
       "    .dataframe thead th {\n",
       "        text-align: right;\n",
       "    }\n",
       "</style>\n",
       "<table border=\"1\" class=\"dataframe\">\n",
       "  <thead>\n",
       "    <tr style=\"text-align: right;\">\n",
       "      <th></th>\n",
       "      <th>encoding</th>\n",
       "      <th>scaling</th>\n",
       "      <th>selection</th>\n",
       "      <th>C</th>\n",
       "      <th>penalty</th>\n",
       "      <th>score</th>\n",
       "    </tr>\n",
       "  </thead>\n",
       "  <tbody>\n",
       "    <tr>\n",
       "      <th>0</th>\n",
       "      <td>onehot</td>\n",
       "      <td>standard</td>\n",
       "      <td>var_thres</td>\n",
       "      <td>0.10</td>\n",
       "      <td>l2</td>\n",
       "      <td>0.817857</td>\n",
       "    </tr>\n",
       "    <tr>\n",
       "      <th>1</th>\n",
       "      <td>onehot</td>\n",
       "      <td>minmax</td>\n",
       "      <td>var_thres</td>\n",
       "      <td>0.10</td>\n",
       "      <td>l2</td>\n",
       "      <td>0.817857</td>\n",
       "    </tr>\n",
       "    <tr>\n",
       "      <th>2</th>\n",
       "      <td>onehot</td>\n",
       "      <td>robust</td>\n",
       "      <td>var_thres</td>\n",
       "      <td>0.10</td>\n",
       "      <td>l2</td>\n",
       "      <td>0.819643</td>\n",
       "    </tr>\n",
       "    <tr>\n",
       "      <th>3</th>\n",
       "      <td>onehot</td>\n",
       "      <td>power</td>\n",
       "      <td>var_thres</td>\n",
       "      <td>0.10</td>\n",
       "      <td>l2</td>\n",
       "      <td>0.803571</td>\n",
       "    </tr>\n",
       "    <tr>\n",
       "      <th>4</th>\n",
       "      <td>onehot</td>\n",
       "      <td>normalizer</td>\n",
       "      <td>var_thres</td>\n",
       "      <td>0.01</td>\n",
       "      <td>none</td>\n",
       "      <td>0.792857</td>\n",
       "    </tr>\n",
       "  </tbody>\n",
       "</table>\n",
       "</div>"
      ],
      "text/plain": [
       "  encoding     scaling  selection     C penalty     score\n",
       "0   onehot    standard  var_thres  0.10      l2  0.817857\n",
       "1   onehot      minmax  var_thres  0.10      l2  0.817857\n",
       "2   onehot      robust  var_thres  0.10      l2  0.819643\n",
       "3   onehot       power  var_thres  0.10      l2  0.803571\n",
       "4   onehot  normalizer  var_thres  0.01    none  0.792857"
      ]
     },
     "execution_count": 81,
     "metadata": {},
     "output_type": "execute_result"
    }
   ],
   "source": [
    "metricas = []\n",
    "for conjunto in datos:\n",
    "    \n",
    "    gs_results = gs.fit(conjunto[0], conjunto[2])\n",
    "    row = []\n",
    "    row.append(conjunto[4])\n",
    "    row.append(conjunto[5])\n",
    "    row.append(conjunto[6])\n",
    "    for key in gs_results.best_params_:\n",
    "        row.append(gs_results.best_params_[key])\n",
    "    row.append(gs_results.best_score_)\n",
    "    metricas.append(row)\n",
    "    \n",
    "dd = pd.DataFrame(metricas, columns=['encoding','scaling','selection','C', 'penalty', 'score'])\n",
    "dd"
   ]
  },
  {
   "cell_type": "markdown",
   "metadata": {},
   "source": [
    "### 3.5 Decision Tree"
   ]
  },
  {
   "cell_type": "markdown",
   "metadata": {},
   "source": [
    "Entrenamiento con valores por defecto"
   ]
  },
  {
   "cell_type": "code",
   "execution_count": 165,
   "metadata": {},
   "outputs": [
    {
     "data": {
      "text/html": [
       "<div>\n",
       "<style scoped>\n",
       "    .dataframe tbody tr th:only-of-type {\n",
       "        vertical-align: middle;\n",
       "    }\n",
       "\n",
       "    .dataframe tbody tr th {\n",
       "        vertical-align: top;\n",
       "    }\n",
       "\n",
       "    .dataframe thead th {\n",
       "        text-align: right;\n",
       "    }\n",
       "</style>\n",
       "<table border=\"1\" class=\"dataframe\">\n",
       "  <thead>\n",
       "    <tr style=\"text-align: right;\">\n",
       "      <th></th>\n",
       "      <th>encoding</th>\n",
       "      <th>scaling</th>\n",
       "      <th>selection</th>\n",
       "      <th>score</th>\n",
       "    </tr>\n",
       "  </thead>\n",
       "  <tbody>\n",
       "    <tr>\n",
       "      <th>0</th>\n",
       "      <td>onehot</td>\n",
       "      <td>standard</td>\n",
       "      <td>var_thres</td>\n",
       "      <td>0.807453</td>\n",
       "    </tr>\n",
       "    <tr>\n",
       "      <th>1</th>\n",
       "      <td>onehot</td>\n",
       "      <td>minmax</td>\n",
       "      <td>var_thres</td>\n",
       "      <td>0.807453</td>\n",
       "    </tr>\n",
       "    <tr>\n",
       "      <th>2</th>\n",
       "      <td>onehot</td>\n",
       "      <td>robust</td>\n",
       "      <td>var_thres</td>\n",
       "      <td>0.813665</td>\n",
       "    </tr>\n",
       "    <tr>\n",
       "      <th>3</th>\n",
       "      <td>onehot</td>\n",
       "      <td>power</td>\n",
       "      <td>var_thres</td>\n",
       "      <td>0.801242</td>\n",
       "    </tr>\n",
       "    <tr>\n",
       "      <th>4</th>\n",
       "      <td>onehot</td>\n",
       "      <td>normalizer</td>\n",
       "      <td>var_thres</td>\n",
       "      <td>0.770186</td>\n",
       "    </tr>\n",
       "  </tbody>\n",
       "</table>\n",
       "</div>"
      ],
      "text/plain": [
       "  encoding     scaling  selection     score\n",
       "0   onehot    standard  var_thres  0.807453\n",
       "1   onehot      minmax  var_thres  0.807453\n",
       "2   onehot      robust  var_thres  0.813665\n",
       "3   onehot       power  var_thres  0.801242\n",
       "4   onehot  normalizer  var_thres  0.770186"
      ]
     },
     "execution_count": 165,
     "metadata": {},
     "output_type": "execute_result"
    }
   ],
   "source": [
    "metricas = []\n",
    "\n",
    "for conjunto in datos:\n",
    "    row = []\n",
    "    row.append(conjunto[4])\n",
    "    row.append(conjunto[5])\n",
    "    row.append(conjunto[6])\n",
    "    \n",
    "    clf_tree = tree.DecisionTreeClassifier(random_state=13)\n",
    "    clf_tree.fit(conjunto[0], conjunto[2])\n",
    "    pred = clf_tree.predict(conjunto[1])\n",
    "    score = (conjunto[3] == pred)\n",
    "    \n",
    "    row.append(score.mean())\n",
    "    metricas.append(row)\n",
    "    \n",
    "dd = pd.DataFrame(metricas, columns=['encoding','scaling','selection', 'score'])\n",
    "dd"
   ]
  },
  {
   "cell_type": "markdown",
   "metadata": {},
   "source": [
    "---"
   ]
  },
  {
   "cell_type": "markdown",
   "metadata": {},
   "source": [
    "Busqueda de Hiperparámetros mediante GridSearch"
   ]
  },
  {
   "cell_type": "code",
   "execution_count": 163,
   "metadata": {},
   "outputs": [
    {
     "name": "stdout",
     "output_type": "stream",
     "text": [
      "Fitting 5 folds for each of 1922 candidates, totalling 9610 fits\n",
      "Fitting 5 folds for each of 1922 candidates, totalling 9610 fits\n",
      "Fitting 5 folds for each of 1922 candidates, totalling 9610 fits\n",
      "Fitting 5 folds for each of 1922 candidates, totalling 9610 fits\n",
      "Fitting 5 folds for each of 1922 candidates, totalling 9610 fits\n"
     ]
    },
    {
     "data": {
      "text/html": [
       "<div>\n",
       "<style scoped>\n",
       "    .dataframe tbody tr th:only-of-type {\n",
       "        vertical-align: middle;\n",
       "    }\n",
       "\n",
       "    .dataframe tbody tr th {\n",
       "        vertical-align: top;\n",
       "    }\n",
       "\n",
       "    .dataframe thead th {\n",
       "        text-align: right;\n",
       "    }\n",
       "</style>\n",
       "<table border=\"1\" class=\"dataframe\">\n",
       "  <thead>\n",
       "    <tr style=\"text-align: right;\">\n",
       "      <th></th>\n",
       "      <th>encoding</th>\n",
       "      <th>scaling</th>\n",
       "      <th>selection</th>\n",
       "      <th>criterion</th>\n",
       "      <th>max_depth</th>\n",
       "      <th>min_samples_leaf</th>\n",
       "      <th>score</th>\n",
       "      <th>holdout_score</th>\n",
       "    </tr>\n",
       "  </thead>\n",
       "  <tbody>\n",
       "    <tr>\n",
       "      <th>0</th>\n",
       "      <td>onehot</td>\n",
       "      <td>standard</td>\n",
       "      <td>var_thres</td>\n",
       "      <td>gini</td>\n",
       "      <td>8</td>\n",
       "      <td>3</td>\n",
       "      <td>0.815625</td>\n",
       "      <td>0.826087</td>\n",
       "    </tr>\n",
       "    <tr>\n",
       "      <th>1</th>\n",
       "      <td>onehot</td>\n",
       "      <td>minmax</td>\n",
       "      <td>var_thres</td>\n",
       "      <td>gini</td>\n",
       "      <td>6</td>\n",
       "      <td>2</td>\n",
       "      <td>0.817187</td>\n",
       "      <td>0.826087</td>\n",
       "    </tr>\n",
       "    <tr>\n",
       "      <th>2</th>\n",
       "      <td>onehot</td>\n",
       "      <td>robust</td>\n",
       "      <td>var_thres</td>\n",
       "      <td>entropy</td>\n",
       "      <td>4</td>\n",
       "      <td>10</td>\n",
       "      <td>0.815625</td>\n",
       "      <td>0.788820</td>\n",
       "    </tr>\n",
       "    <tr>\n",
       "      <th>3</th>\n",
       "      <td>onehot</td>\n",
       "      <td>power</td>\n",
       "      <td>var_thres</td>\n",
       "      <td>gini</td>\n",
       "      <td>6</td>\n",
       "      <td>2</td>\n",
       "      <td>0.817187</td>\n",
       "      <td>0.819876</td>\n",
       "    </tr>\n",
       "    <tr>\n",
       "      <th>4</th>\n",
       "      <td>onehot</td>\n",
       "      <td>normalizer</td>\n",
       "      <td>var_thres</td>\n",
       "      <td>gini</td>\n",
       "      <td>4</td>\n",
       "      <td>10</td>\n",
       "      <td>0.818750</td>\n",
       "      <td>0.795031</td>\n",
       "    </tr>\n",
       "  </tbody>\n",
       "</table>\n",
       "</div>"
      ],
      "text/plain": [
       "  encoding     scaling  selection criterion  max_depth  min_samples_leaf  \\\n",
       "0   onehot    standard  var_thres      gini          8                 3   \n",
       "1   onehot      minmax  var_thres      gini          6                 2   \n",
       "2   onehot      robust  var_thres   entropy          4                10   \n",
       "3   onehot       power  var_thres      gini          6                 2   \n",
       "4   onehot  normalizer  var_thres      gini          4                10   \n",
       "\n",
       "      score  holdout_score  \n",
       "0  0.815625       0.826087  \n",
       "1  0.817187       0.826087  \n",
       "2  0.815625       0.788820  \n",
       "3  0.817187       0.819876  \n",
       "4  0.818750       0.795031  "
      ]
     },
     "metadata": {},
     "output_type": "display_data"
    }
   ],
   "source": [
    "clf_tree = tree.DecisionTreeClassifier(random_state=13)\n",
    "\n",
    "tree_grid_params = {\n",
    "    'max_depth': np.arange(1,32),\n",
    "    'min_samples_leaf': np.arange(1,32),\n",
    "    'criterion': [\"gini\",\"entropy\"]\n",
    "}\n",
    "\n",
    "gs = model_selection.GridSearchCV(\n",
    "    clf_tree,\n",
    "    tree_grid_params,\n",
    "    verbose = 1,\n",
    "    cv = 5,\n",
    "    n_jobs = -1\n",
    ")\n",
    "\n",
    "columnas=['encoding','scaling','selection','criterion', 'max_depth', 'min_samples_leaf', 'score', 'holdout_score']\n",
    "\n",
    "aplicar_gscv(gs, columnas)"
   ]
  },
  {
   "cell_type": "markdown",
   "metadata": {},
   "source": [
    "---"
   ]
  },
  {
   "cell_type": "markdown",
   "metadata": {},
   "source": [
    "### 3.6 Redes Neuronales"
   ]
  },
  {
   "cell_type": "code",
   "execution_count": null,
   "metadata": {
    "scrolled": true
   },
   "outputs": [],
   "source": [
    "from tensorflow import keras\n",
    "from tensorflow.keras import layers"
   ]
  },
  {
   "cell_type": "markdown",
   "metadata": {},
   "source": [
    "### 3.7 Ensambles"
   ]
  },
  {
   "cell_type": "code",
   "execution_count": 45,
   "metadata": {},
   "outputs": [],
   "source": [
    "from sklearn import ensemble"
   ]
  },
  {
   "cell_type": "markdown",
   "metadata": {},
   "source": [
    "#### 3.7.1 Bagging"
   ]
  },
  {
   "cell_type": "code",
   "execution_count": 47,
   "metadata": {},
   "outputs": [
    {
     "data": {
      "text/html": [
       "<div>\n",
       "<style scoped>\n",
       "    .dataframe tbody tr th:only-of-type {\n",
       "        vertical-align: middle;\n",
       "    }\n",
       "\n",
       "    .dataframe tbody tr th {\n",
       "        vertical-align: top;\n",
       "    }\n",
       "\n",
       "    .dataframe thead th {\n",
       "        text-align: right;\n",
       "    }\n",
       "</style>\n",
       "<table border=\"1\" class=\"dataframe\">\n",
       "  <thead>\n",
       "    <tr style=\"text-align: right;\">\n",
       "      <th></th>\n",
       "      <th>encoding</th>\n",
       "      <th>scaling</th>\n",
       "      <th>selection</th>\n",
       "      <th>score</th>\n",
       "    </tr>\n",
       "  </thead>\n",
       "  <tbody>\n",
       "    <tr>\n",
       "      <th>0</th>\n",
       "      <td>onehot</td>\n",
       "      <td>standard</td>\n",
       "      <td>var_thres</td>\n",
       "      <td>0.829876</td>\n",
       "    </tr>\n",
       "    <tr>\n",
       "      <th>1</th>\n",
       "      <td>onehot</td>\n",
       "      <td>minmax</td>\n",
       "      <td>var_thres</td>\n",
       "      <td>0.821577</td>\n",
       "    </tr>\n",
       "    <tr>\n",
       "      <th>2</th>\n",
       "      <td>onehot</td>\n",
       "      <td>robust</td>\n",
       "      <td>var_thres</td>\n",
       "      <td>0.809129</td>\n",
       "    </tr>\n",
       "    <tr>\n",
       "      <th>3</th>\n",
       "      <td>onehot</td>\n",
       "      <td>power</td>\n",
       "      <td>var_thres</td>\n",
       "      <td>0.829876</td>\n",
       "    </tr>\n",
       "    <tr>\n",
       "      <th>4</th>\n",
       "      <td>onehot</td>\n",
       "      <td>normalizer</td>\n",
       "      <td>var_thres</td>\n",
       "      <td>0.817427</td>\n",
       "    </tr>\n",
       "  </tbody>\n",
       "</table>\n",
       "</div>"
      ],
      "text/plain": [
       "  encoding     scaling  selection     score\n",
       "0   onehot    standard  var_thres  0.829876\n",
       "1   onehot      minmax  var_thres  0.821577\n",
       "2   onehot      robust  var_thres  0.809129\n",
       "3   onehot       power  var_thres  0.829876\n",
       "4   onehot  normalizer  var_thres  0.817427"
      ]
     },
     "execution_count": 47,
     "metadata": {},
     "output_type": "execute_result"
    }
   ],
   "source": [
    "metricas = []\n",
    "\n",
    "for conjunto in datos:\n",
    "    row = []\n",
    "    row.append(conjunto[4])\n",
    "    row.append(conjunto[5])\n",
    "    row.append(conjunto[6])\n",
    "    \n",
    "    clf_bagging = ensemble.BaggingClassifier()\n",
    "    clf_bagging.fit(conjunto[0], conjunto[2])\n",
    "    pred = clf_bagging.predict(conjunto[1])\n",
    "    score = (conjunto[3] == pred)\n",
    "    \n",
    "    row.append(score.mean())\n",
    "    metricas.append(row)\n",
    "    \n",
    "dd = pd.DataFrame(metricas, columns=['encoding','scaling','selection', 'score'])\n",
    "dd"
   ]
  },
  {
   "cell_type": "markdown",
   "metadata": {},
   "source": [
    "---"
   ]
  },
  {
   "cell_type": "markdown",
   "metadata": {},
   "source": [
    "#### 3.7.2 RandomForest"
   ]
  },
  {
   "cell_type": "code",
   "execution_count": 49,
   "metadata": {},
   "outputs": [
    {
     "data": {
      "text/html": [
       "<div>\n",
       "<style scoped>\n",
       "    .dataframe tbody tr th:only-of-type {\n",
       "        vertical-align: middle;\n",
       "    }\n",
       "\n",
       "    .dataframe tbody tr th {\n",
       "        vertical-align: top;\n",
       "    }\n",
       "\n",
       "    .dataframe thead th {\n",
       "        text-align: right;\n",
       "    }\n",
       "</style>\n",
       "<table border=\"1\" class=\"dataframe\">\n",
       "  <thead>\n",
       "    <tr style=\"text-align: right;\">\n",
       "      <th></th>\n",
       "      <th>encoding</th>\n",
       "      <th>scaling</th>\n",
       "      <th>selection</th>\n",
       "      <th>score</th>\n",
       "    </tr>\n",
       "  </thead>\n",
       "  <tbody>\n",
       "    <tr>\n",
       "      <th>0</th>\n",
       "      <td>onehot</td>\n",
       "      <td>standard</td>\n",
       "      <td>var_thres</td>\n",
       "      <td>0.817427</td>\n",
       "    </tr>\n",
       "    <tr>\n",
       "      <th>1</th>\n",
       "      <td>onehot</td>\n",
       "      <td>minmax</td>\n",
       "      <td>var_thres</td>\n",
       "      <td>0.809129</td>\n",
       "    </tr>\n",
       "    <tr>\n",
       "      <th>2</th>\n",
       "      <td>onehot</td>\n",
       "      <td>robust</td>\n",
       "      <td>var_thres</td>\n",
       "      <td>0.813278</td>\n",
       "    </tr>\n",
       "    <tr>\n",
       "      <th>3</th>\n",
       "      <td>onehot</td>\n",
       "      <td>power</td>\n",
       "      <td>var_thres</td>\n",
       "      <td>0.809129</td>\n",
       "    </tr>\n",
       "    <tr>\n",
       "      <th>4</th>\n",
       "      <td>onehot</td>\n",
       "      <td>normalizer</td>\n",
       "      <td>var_thres</td>\n",
       "      <td>0.838174</td>\n",
       "    </tr>\n",
       "  </tbody>\n",
       "</table>\n",
       "</div>"
      ],
      "text/plain": [
       "  encoding     scaling  selection     score\n",
       "0   onehot    standard  var_thres  0.817427\n",
       "1   onehot      minmax  var_thres  0.809129\n",
       "2   onehot      robust  var_thres  0.813278\n",
       "3   onehot       power  var_thres  0.809129\n",
       "4   onehot  normalizer  var_thres  0.838174"
      ]
     },
     "execution_count": 49,
     "metadata": {},
     "output_type": "execute_result"
    }
   ],
   "source": [
    "metricas = []\n",
    "\n",
    "for conjunto in datos:\n",
    "    row = []\n",
    "    row.append(conjunto[4])\n",
    "    row.append(conjunto[5])\n",
    "    row.append(conjunto[6])\n",
    "    \n",
    "    random_forest = ensemble.RandomForestClassifier()\n",
    "    random_forest.fit(conjunto[0], conjunto[2])\n",
    "    pred = random_forest.predict(conjunto[1])\n",
    "    score = (conjunto[3] == pred)\n",
    "    \n",
    "    row.append(score.mean())\n",
    "    metricas.append(row)\n",
    "    \n",
    "dd = pd.DataFrame(metricas, columns=['encoding','scaling','selection', 'score'])\n",
    "dd"
   ]
  },
  {
   "cell_type": "markdown",
   "metadata": {},
   "source": [
    "#### 3.7.3 Gradient Boost"
   ]
  },
  {
   "cell_type": "code",
   "execution_count": 51,
   "metadata": {},
   "outputs": [
    {
     "data": {
      "text/html": [
       "<div>\n",
       "<style scoped>\n",
       "    .dataframe tbody tr th:only-of-type {\n",
       "        vertical-align: middle;\n",
       "    }\n",
       "\n",
       "    .dataframe tbody tr th {\n",
       "        vertical-align: top;\n",
       "    }\n",
       "\n",
       "    .dataframe thead th {\n",
       "        text-align: right;\n",
       "    }\n",
       "</style>\n",
       "<table border=\"1\" class=\"dataframe\">\n",
       "  <thead>\n",
       "    <tr style=\"text-align: right;\">\n",
       "      <th></th>\n",
       "      <th>encoding</th>\n",
       "      <th>scaling</th>\n",
       "      <th>selection</th>\n",
       "      <th>score</th>\n",
       "    </tr>\n",
       "  </thead>\n",
       "  <tbody>\n",
       "    <tr>\n",
       "      <th>0</th>\n",
       "      <td>onehot</td>\n",
       "      <td>standard</td>\n",
       "      <td>var_thres</td>\n",
       "      <td>0.804979</td>\n",
       "    </tr>\n",
       "    <tr>\n",
       "      <th>1</th>\n",
       "      <td>onehot</td>\n",
       "      <td>minmax</td>\n",
       "      <td>var_thres</td>\n",
       "      <td>0.800830</td>\n",
       "    </tr>\n",
       "    <tr>\n",
       "      <th>2</th>\n",
       "      <td>onehot</td>\n",
       "      <td>robust</td>\n",
       "      <td>var_thres</td>\n",
       "      <td>0.804979</td>\n",
       "    </tr>\n",
       "    <tr>\n",
       "      <th>3</th>\n",
       "      <td>onehot</td>\n",
       "      <td>power</td>\n",
       "      <td>var_thres</td>\n",
       "      <td>0.800830</td>\n",
       "    </tr>\n",
       "    <tr>\n",
       "      <th>4</th>\n",
       "      <td>onehot</td>\n",
       "      <td>normalizer</td>\n",
       "      <td>var_thres</td>\n",
       "      <td>0.825726</td>\n",
       "    </tr>\n",
       "  </tbody>\n",
       "</table>\n",
       "</div>"
      ],
      "text/plain": [
       "  encoding     scaling  selection     score\n",
       "0   onehot    standard  var_thres  0.804979\n",
       "1   onehot      minmax  var_thres  0.800830\n",
       "2   onehot      robust  var_thres  0.804979\n",
       "3   onehot       power  var_thres  0.800830\n",
       "4   onehot  normalizer  var_thres  0.825726"
      ]
     },
     "execution_count": 51,
     "metadata": {},
     "output_type": "execute_result"
    }
   ],
   "source": [
    "metricas = []\n",
    "\n",
    "for conjunto in datos:\n",
    "    row = []\n",
    "    row.append(conjunto[4])\n",
    "    row.append(conjunto[5])\n",
    "    row.append(conjunto[6])\n",
    "    \n",
    "    clf_boosting = ensemble.GradientBoostingClassifier()\n",
    "    clf_boosting.fit(conjunto[0], conjunto[2])\n",
    "    pred = clf_boosting.predict(conjunto[1])\n",
    "    score = (conjunto[3] == pred)\n",
    "    \n",
    "    row.append(score.mean())\n",
    "    metricas.append(row)\n",
    "    \n",
    "dd = pd.DataFrame(metricas, columns=['encoding','scaling','selection', 'score'])\n",
    "dd"
   ]
  },
  {
   "cell_type": "markdown",
   "metadata": {},
   "source": [
    "#### 3.7.4 Stacking"
   ]
  },
  {
   "cell_type": "code",
   "execution_count": 62,
   "metadata": {},
   "outputs": [
    {
     "data": {
      "text/html": [
       "<div>\n",
       "<style scoped>\n",
       "    .dataframe tbody tr th:only-of-type {\n",
       "        vertical-align: middle;\n",
       "    }\n",
       "\n",
       "    .dataframe tbody tr th {\n",
       "        vertical-align: top;\n",
       "    }\n",
       "\n",
       "    .dataframe thead th {\n",
       "        text-align: right;\n",
       "    }\n",
       "</style>\n",
       "<table border=\"1\" class=\"dataframe\">\n",
       "  <thead>\n",
       "    <tr style=\"text-align: right;\">\n",
       "      <th></th>\n",
       "      <th>encoding</th>\n",
       "      <th>scaling</th>\n",
       "      <th>selection</th>\n",
       "      <th>score</th>\n",
       "    </tr>\n",
       "  </thead>\n",
       "  <tbody>\n",
       "    <tr>\n",
       "      <th>0</th>\n",
       "      <td>onehot</td>\n",
       "      <td>standard</td>\n",
       "      <td>var_thres</td>\n",
       "      <td>0.792531</td>\n",
       "    </tr>\n",
       "    <tr>\n",
       "      <th>1</th>\n",
       "      <td>onehot</td>\n",
       "      <td>minmax</td>\n",
       "      <td>var_thres</td>\n",
       "      <td>0.800830</td>\n",
       "    </tr>\n",
       "    <tr>\n",
       "      <th>2</th>\n",
       "      <td>onehot</td>\n",
       "      <td>robust</td>\n",
       "      <td>var_thres</td>\n",
       "      <td>0.825726</td>\n",
       "    </tr>\n",
       "    <tr>\n",
       "      <th>3</th>\n",
       "      <td>onehot</td>\n",
       "      <td>power</td>\n",
       "      <td>var_thres</td>\n",
       "      <td>0.804979</td>\n",
       "    </tr>\n",
       "    <tr>\n",
       "      <th>4</th>\n",
       "      <td>onehot</td>\n",
       "      <td>normalizer</td>\n",
       "      <td>var_thres</td>\n",
       "      <td>0.804979</td>\n",
       "    </tr>\n",
       "  </tbody>\n",
       "</table>\n",
       "</div>"
      ],
      "text/plain": [
       "  encoding     scaling  selection     score\n",
       "0   onehot    standard  var_thres  0.792531\n",
       "1   onehot      minmax  var_thres  0.800830\n",
       "2   onehot      robust  var_thres  0.825726\n",
       "3   onehot       power  var_thres  0.804979\n",
       "4   onehot  normalizer  var_thres  0.804979"
      ]
     },
     "execution_count": 62,
     "metadata": {},
     "output_type": "execute_result"
    }
   ],
   "source": [
    "metricas = []\n",
    "\n",
    "for conjunto in datos:\n",
    "    row = []\n",
    "    row.append(conjunto[4])\n",
    "    row.append(conjunto[5])\n",
    "    row.append(conjunto[6])\n",
    "    \n",
    "    clf_1 = neighbors.KNeighborsClassifier()\n",
    "    clf_2 = ensemble.RandomForestClassifier()\n",
    "    stacker = ensemble.StackingClassifier(estimators=[('clf_1', clf_1), ('clf_2', clf_2)])\n",
    "    \n",
    "    stacker.fit(conjunto[0], conjunto[2])\n",
    "    pred = stacker.predict(conjunto[1])\n",
    "    score = (conjunto[3] == pred)\n",
    "    \n",
    "    row.append(score.mean())\n",
    "    metricas.append(row)\n",
    "    \n",
    "dd = pd.DataFrame(metricas, columns=['encoding','scaling','selection', 'score'])\n",
    "dd"
   ]
  },
  {
   "cell_type": "markdown",
   "metadata": {},
   "source": [
    "#### 3.7.5 Voting"
   ]
  },
  {
   "cell_type": "code",
   "execution_count": 69,
   "metadata": {},
   "outputs": [],
   "source": [
    "clf_1 = neighbors.KNeighborsClassifier()\n",
    "clf_2 = tree.DecisionTreeClassifier()\n",
    "clf_3 = svm.SVC()"
   ]
  },
  {
   "cell_type": "code",
   "execution_count": 70,
   "metadata": {},
   "outputs": [],
   "source": [
    "voting = ensemble.VotingClassifier(estimators=[\n",
    "    ('clf_1', clf_1),\n",
    "    ('clf_2', clf_2),\n",
    "    ('clf_3', clf_3)\n",
    "])"
   ]
  },
  {
   "cell_type": "code",
   "execution_count": 72,
   "metadata": {},
   "outputs": [
    {
     "data": {
      "text/plain": [
       "0.7925311203319502"
      ]
     },
     "execution_count": 72,
     "metadata": {},
     "output_type": "execute_result"
    }
   ],
   "source": [
    "voting.fit(X_train_a, y_train_a)\n",
    "pred = voting.predict(X_test_a)\n",
    "score = (y_test_a == pred)\n",
    "    \n",
    "score.mean()"
   ]
  },
  {
   "cell_type": "code",
   "execution_count": 74,
   "metadata": {},
   "outputs": [
    {
     "data": {
      "text/html": [
       "<div>\n",
       "<style scoped>\n",
       "    .dataframe tbody tr th:only-of-type {\n",
       "        vertical-align: middle;\n",
       "    }\n",
       "\n",
       "    .dataframe tbody tr th {\n",
       "        vertical-align: top;\n",
       "    }\n",
       "\n",
       "    .dataframe thead th {\n",
       "        text-align: right;\n",
       "    }\n",
       "</style>\n",
       "<table border=\"1\" class=\"dataframe\">\n",
       "  <thead>\n",
       "    <tr style=\"text-align: right;\">\n",
       "      <th></th>\n",
       "      <th>encoding</th>\n",
       "      <th>scaling</th>\n",
       "      <th>selection</th>\n",
       "      <th>score</th>\n",
       "    </tr>\n",
       "  </thead>\n",
       "  <tbody>\n",
       "    <tr>\n",
       "      <th>0</th>\n",
       "      <td>onehot</td>\n",
       "      <td>standard</td>\n",
       "      <td>var_thres</td>\n",
       "      <td>0.792531</td>\n",
       "    </tr>\n",
       "    <tr>\n",
       "      <th>1</th>\n",
       "      <td>onehot</td>\n",
       "      <td>minmax</td>\n",
       "      <td>var_thres</td>\n",
       "      <td>0.780083</td>\n",
       "    </tr>\n",
       "    <tr>\n",
       "      <th>2</th>\n",
       "      <td>onehot</td>\n",
       "      <td>robust</td>\n",
       "      <td>var_thres</td>\n",
       "      <td>0.804979</td>\n",
       "    </tr>\n",
       "    <tr>\n",
       "      <th>3</th>\n",
       "      <td>onehot</td>\n",
       "      <td>power</td>\n",
       "      <td>var_thres</td>\n",
       "      <td>0.792531</td>\n",
       "    </tr>\n",
       "    <tr>\n",
       "      <th>4</th>\n",
       "      <td>onehot</td>\n",
       "      <td>normalizer</td>\n",
       "      <td>var_thres</td>\n",
       "      <td>0.780083</td>\n",
       "    </tr>\n",
       "  </tbody>\n",
       "</table>\n",
       "</div>"
      ],
      "text/plain": [
       "  encoding     scaling  selection     score\n",
       "0   onehot    standard  var_thres  0.792531\n",
       "1   onehot      minmax  var_thres  0.780083\n",
       "2   onehot      robust  var_thres  0.804979\n",
       "3   onehot       power  var_thres  0.792531\n",
       "4   onehot  normalizer  var_thres  0.780083"
      ]
     },
     "execution_count": 74,
     "metadata": {},
     "output_type": "execute_result"
    }
   ],
   "source": [
    "metricas = []\n",
    "\n",
    "for conjunto in datos:\n",
    "    row = []\n",
    "    row.append(conjunto[4])\n",
    "    row.append(conjunto[5])\n",
    "    row.append(conjunto[6])\n",
    "    \n",
    "    clf_1 = neighbors.KNeighborsClassifier()\n",
    "    clf_2 = tree.DecisionTreeClassifier()\n",
    "    clf_3 = svm.SVC()\n",
    "    voting = ensemble.VotingClassifier(estimators=[\n",
    "        ('clf_1', clf_1),\n",
    "        ('clf_2', clf_2),\n",
    "        ('clf_3', clf_3)\n",
    "    ])\n",
    "    \n",
    "    voting.fit(conjunto[0], conjunto[2])\n",
    "    pred = voting.predict(conjunto[1])\n",
    "    score = (conjunto[3] == pred)\n",
    "    \n",
    "    row.append(score.mean())\n",
    "    metricas.append(row)\n",
    "    \n",
    "dd = pd.DataFrame(metricas, columns=['encoding','scaling','selection', 'score'])\n",
    "dd"
   ]
  },
  {
   "cell_type": "markdown",
   "metadata": {},
   "source": [
    "#### 3.7.6 Cascading"
   ]
  },
  {
   "cell_type": "code",
   "execution_count": 85,
   "metadata": {},
   "outputs": [],
   "source": [
    "#ver especificamente en otro momento"
   ]
  }
 ],
 "metadata": {
  "kernelspec": {
   "display_name": "Python 3",
   "language": "python",
   "name": "python3"
  },
  "language_info": {
   "codemirror_mode": {
    "name": "ipython",
    "version": 3
   },
   "file_extension": ".py",
   "mimetype": "text/x-python",
   "name": "python",
   "nbconvert_exporter": "python",
   "pygments_lexer": "ipython3",
   "version": "3.6.9"
  }
 },
 "nbformat": 4,
 "nbformat_minor": 4
}
