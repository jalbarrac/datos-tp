{
 "cells": [
  {
   "cell_type": "code",
   "execution_count": 2,
   "metadata": {},
   "outputs": [],
   "source": [
    "import pandas as pd\n",
    "import numpy as np\n",
    "import seaborn as sns\n",
    "import matplotlib.pyplot as plt\n",
    "import matplotlib.mlab as mlab\n",
    "import matplotlib\n",
    "plt.style.use('ggplot')\n",
    "from matplotlib.pyplot import figure\n",
    "import matplotlib.gridspec as gridspec\n",
    "\n",
    "from sklearn import neighbors, datasets\n",
    "from sklearn import naive_bayes\n",
    "from sklearn import svm\n",
    "from sklearn import tree\n",
    "\n",
    "from sklearn.feature_extraction import FeatureHasher\n",
    "from sklearn.feature_selection import VarianceThreshold\n",
    "from sklearn.feature_selection import RFE\n",
    "from sklearn.impute import SimpleImputer\n",
    "from sklearn import model_selection\n",
    "from sklearn.preprocessing import (\n",
    "    KBinsDiscretizer,\n",
    "    LabelEncoder,\n",
    "    MinMaxScaler,\n",
    "    Normalizer,\n",
    "    OneHotEncoder,\n",
    "    OrdinalEncoder,\n",
    "    PowerTransformer,\n",
    "    RobustScaler,\n",
    "    StandardScaler,\n",
    ")\n",
    "    "
   ]
  },
  {
   "cell_type": "markdown",
   "metadata": {},
   "source": [
    "# Datos"
   ]
  },
  {
   "cell_type": "code",
   "execution_count": 3,
   "metadata": {},
   "outputs": [],
   "source": [
    "data = pd.read_csv('tp-2020-2c-train-cols2.csv')\n",
    "targets = pd.read_csv('tp-2020-2c-train-cols1.csv')"
   ]
  },
  {
   "cell_type": "code",
   "execution_count": 4,
   "metadata": {},
   "outputs": [],
   "source": [
    "df = (pd.merge(left=data, right=targets, how=\"left\", on=\"id_usuario\", validate=\"one_to_one\"))"
   ]
  },
  {
   "cell_type": "code",
   "execution_count": 5,
   "metadata": {},
   "outputs": [
    {
     "data": {
      "text/html": [
       "<div>\n",
       "<style scoped>\n",
       "    .dataframe tbody tr th:only-of-type {\n",
       "        vertical-align: middle;\n",
       "    }\n",
       "\n",
       "    .dataframe tbody tr th {\n",
       "        vertical-align: top;\n",
       "    }\n",
       "\n",
       "    .dataframe thead th {\n",
       "        text-align: right;\n",
       "    }\n",
       "</style>\n",
       "<table border=\"1\" class=\"dataframe\">\n",
       "  <thead>\n",
       "    <tr style=\"text-align: right;\">\n",
       "      <th></th>\n",
       "      <th>tipo_de_sala</th>\n",
       "      <th>nombre</th>\n",
       "      <th>id_usuario</th>\n",
       "      <th>genero</th>\n",
       "      <th>edad</th>\n",
       "      <th>amigos</th>\n",
       "      <th>parientes</th>\n",
       "      <th>id_ticket</th>\n",
       "      <th>precio_ticket</th>\n",
       "      <th>fila</th>\n",
       "      <th>nombre_sede</th>\n",
       "      <th>volveria</th>\n",
       "    </tr>\n",
       "  </thead>\n",
       "  <tbody>\n",
       "    <tr>\n",
       "      <th>0</th>\n",
       "      <td>4d</td>\n",
       "      <td>Señor Camilo Pedro</td>\n",
       "      <td>117</td>\n",
       "      <td>hombre</td>\n",
       "      <td>73.5</td>\n",
       "      <td>0</td>\n",
       "      <td>0</td>\n",
       "      <td>59258;</td>\n",
       "      <td>1</td>\n",
       "      <td>NaN</td>\n",
       "      <td>fiumark_quilmes</td>\n",
       "      <td>0</td>\n",
       "    </tr>\n",
       "    <tr>\n",
       "      <th>1</th>\n",
       "      <td>4d</td>\n",
       "      <td>Señora Raquel Angelica</td>\n",
       "      <td>658</td>\n",
       "      <td>mujer</td>\n",
       "      <td>35.0</td>\n",
       "      <td>1</td>\n",
       "      <td>1</td>\n",
       "      <td>586:6;</td>\n",
       "      <td>2</td>\n",
       "      <td>NaN</td>\n",
       "      <td>fiumark_quilmes</td>\n",
       "      <td>0</td>\n",
       "    </tr>\n",
       "    <tr>\n",
       "      <th>2</th>\n",
       "      <td>normal</td>\n",
       "      <td>Señor Antonio Federico</td>\n",
       "      <td>794</td>\n",
       "      <td>hombre</td>\n",
       "      <td>NaN</td>\n",
       "      <td>0</td>\n",
       "      <td>0</td>\n",
       "      <td>RE\"39822</td>\n",
       "      <td>3</td>\n",
       "      <td>NaN</td>\n",
       "      <td>fiumark_chacarita</td>\n",
       "      <td>0</td>\n",
       "    </tr>\n",
       "    <tr>\n",
       "      <th>3</th>\n",
       "      <td>4d</td>\n",
       "      <td>Señor Osvaldo Aureliano</td>\n",
       "      <td>455</td>\n",
       "      <td>hombre</td>\n",
       "      <td>NaN</td>\n",
       "      <td>0</td>\n",
       "      <td>0</td>\n",
       "      <td>C17\"4:39</td>\n",
       "      <td>1</td>\n",
       "      <td>NaN</td>\n",
       "      <td>fiumark_palermo</td>\n",
       "      <td>0</td>\n",
       "    </tr>\n",
       "    <tr>\n",
       "      <th>4</th>\n",
       "      <td>4d</td>\n",
       "      <td>Señorita Rita Eudosia</td>\n",
       "      <td>173</td>\n",
       "      <td>mujer</td>\n",
       "      <td>4.0</td>\n",
       "      <td>1</td>\n",
       "      <td>1</td>\n",
       "      <td>569964</td>\n",
       "      <td>2</td>\n",
       "      <td>NaN</td>\n",
       "      <td>fiumark_palermo</td>\n",
       "      <td>1</td>\n",
       "    </tr>\n",
       "  </tbody>\n",
       "</table>\n",
       "</div>"
      ],
      "text/plain": [
       "  tipo_de_sala                   nombre  id_usuario  genero  edad  amigos  \\\n",
       "0           4d       Señor Camilo Pedro         117  hombre  73.5       0   \n",
       "1           4d   Señora Raquel Angelica         658   mujer  35.0       1   \n",
       "2       normal   Señor Antonio Federico         794  hombre   NaN       0   \n",
       "3           4d  Señor Osvaldo Aureliano         455  hombre   NaN       0   \n",
       "4           4d    Señorita Rita Eudosia         173   mujer   4.0       1   \n",
       "\n",
       "   parientes id_ticket  precio_ticket fila        nombre_sede  volveria  \n",
       "0          0    59258;              1  NaN    fiumark_quilmes         0  \n",
       "1          1    586:6;              2  NaN    fiumark_quilmes         0  \n",
       "2          0  RE\"39822              3  NaN  fiumark_chacarita         0  \n",
       "3          0  C17\"4:39              1  NaN    fiumark_palermo         0  \n",
       "4          1    569964              2  NaN    fiumark_palermo         1  "
      ]
     },
     "execution_count": 5,
     "metadata": {},
     "output_type": "execute_result"
    }
   ],
   "source": [
    "df.head()"
   ]
  },
  {
   "cell_type": "markdown",
   "metadata": {},
   "source": [
    "# Preprocesamiento"
   ]
  },
  {
   "cell_type": "code",
   "execution_count": 6,
   "metadata": {},
   "outputs": [],
   "source": [
    "encoding_params = {'onehot_drop':'first'\n",
    "                  }\n",
    "scaling_params = {'standard_withmean':True}\n",
    "selection_params = {'vt_threshold':0,\n",
    "                    'rfe_estimator':'estimator'}\n",
    "\n",
    "columnas_a_encodear = ['tipo_de_sala', 'genero', 'nombre_sede']"
   ]
  },
  {
   "cell_type": "code",
   "execution_count": 7,
   "metadata": {},
   "outputs": [],
   "source": [
    "#encoders\n",
    "def OrdinalEncoderWrapper(encoding_params):\n",
    "    return OrdinalEncoder()\n",
    "\n",
    "def OneHotWrapper(encoding_params):\n",
    "    return OneHotEncoder(drop=encoding_params['onehot_drop'])\n",
    "\n",
    "def LabelEncoderWrapper(encoding_params):\n",
    "    return LabelEncoder()\n",
    "\n",
    "encoders = {'ordinal': OrdinalEncoderWrapper(encoding_params),\n",
    "           'label': LabelEncoderWrapper(encoding_params),\n",
    "            'onehot': OneHotWrapper(encoding_params)\n",
    "           }\n",
    "\n",
    "#scalers\n",
    "def StandardScalerWrapper(scaling_params):\n",
    "    return StandardScaler(with_mean=scaling_params['standard_withmean'])\n",
    "\n",
    "def MinMaxScalerWrapper(scaling_params):\n",
    "    return MinMaxScaler()\n",
    "\n",
    "def RobustScalerWrapper(scaling_params):\n",
    "    return RobustScaler()\n",
    "\n",
    "def PowerTransformerWrapper(scaling_params):\n",
    "    return PowerTransformer()\n",
    "\n",
    "def NormalizerWrapper(scaling_params):\n",
    "    return Normalizer()\n",
    "\n",
    "scalers = {'standard': StandardScalerWrapper(scaling_params),\n",
    "          'minmax': MinMaxScalerWrapper(scaling_params),\n",
    "          'robust': RobustScalerWrapper(scaling_params),\n",
    "           'power' : PowerTransformerWrapper(scaling_params),\n",
    "           'normalizer' : NormalizerWrapper(scaling_params)\n",
    "          }\n",
    "\n",
    "#Selectors\n",
    "\n",
    "\n",
    "def VarianceThresholdWrapper(selection_params):\n",
    "    return VarianceThreshold()\n",
    "\n",
    "def RFEWrapper(selection_params):\n",
    "    return RFE(selection_params['rfe_estimator'])\n",
    "\n",
    "def FeatureHasherWrapper(selection_params):\n",
    "    return FeatureHasher()\n",
    "\n",
    "\n",
    "selectors = {'var_thres': VarianceThresholdWrapper(selection_params),\n",
    "            'rfe': RFEWrapper(selection_params),\n",
    "            'feature_hasher': FeatureHasherWrapper(selection_params)}"
   ]
  },
  {
   "cell_type": "code",
   "execution_count": 8,
   "metadata": {},
   "outputs": [],
   "source": [
    "#Funciones auxiliares\n",
    "#robado de la practica\n",
    "def droppear_nulos_por_columna(data):\n",
    "    NULL_REMOVE_PCT = 0.30\n",
    "    cols = data.isna().mean()\n",
    "    cols = cols[cols < NULL_REMOVE_PCT]\n",
    "    return data[cols.index]\n",
    "\n",
    "def droppear_filas_sin_sede(data):\n",
    "    _data = data.drop(data.loc[data['nombre_sede'].isna()].index, inplace=False)\n",
    "    _data.reset_index(drop=True)\n",
    "    return _data\n",
    "    \n",
    "\n",
    "def prepro_1(X, y, encoder, scaler, selector):\n",
    "    _X = X.copy(deep=True)\n",
    "    _y = y.copy(deep=True)\n",
    "    \n",
    "    #tratamiento de nulos\n",
    "    _X = droppear_nulos_por_columna(_X)\n",
    "    #_X = droppear_filas_sin_sede(_X) rompe el dataframe, no se por que\n",
    "    _X.drop(['id_ticket','nombre','id_usuario'], axis=1, inplace=True)\n",
    "    _X['edad'] = SimpleImputer(strategy='median').fit_transform(_X[['edad']])\n",
    "    \n",
    "    \n",
    "    #encoding\n",
    "    _encoder = encoders[encoder]\n",
    "    if(encoder == 'onehot'):\n",
    "        for col in columnas_a_encodear:\n",
    "            \n",
    "            encoded = _encoder.fit(_X[[col]].astype(str))\n",
    "            categories = list(encoded.categories_)\n",
    "            encoded = encoded.transform(_X[[col]].astype(str)).todense().astype(int)\n",
    "            encoded = pd.DataFrame(encoded)\n",
    "            categories = np.delete(categories, 0)\n",
    "            encoded.columns = categories\n",
    "            \n",
    "            _X = pd.concat([_X, encoded], axis=1)\n",
    "            _X.drop(labels=col, axis=1, inplace=True)\n",
    "    \n",
    "    #seleccion\n",
    "    _selector = selectors[selector]\n",
    "    #_X = _selector.fit_transform(_X,_y)\n",
    "    \n",
    "    #train-test split\n",
    "    X_train, X_test, y_train, y_test = model_selection.train_test_split(_X, _y, test_size=0.3, random_state=7)\n",
    "    \n",
    "    #escalado\n",
    "    if(scaler != 'none'):\n",
    "        _scaler = scalers[scaler]\n",
    "        X_train = _scaler.fit_transform(X_train, y_train)\n",
    "        X_test = _scaler.transform(X_test)\n",
    "    \n",
    "    y_train = y_train['volveria'].to_numpy(copy=True)\n",
    "    y_test = y_test['volveria'].to_numpy(copy=True)\n",
    "    \n",
    "    return X_train, X_test, y_train, y_test\n"
   ]
  },
  {
   "cell_type": "code",
   "execution_count": 110,
   "metadata": {},
   "outputs": [],
   "source": [
    "X_train_a, X_test_a, y_train_a, y_test_a = prepro_1(data, targets, 'onehot', 'standard', 'var_thres')\n",
    "X_train_b, X_test_b, y_train_b, y_test_b = prepro_1(data, targets, 'onehot', 'minmax', 'var_thres')\n",
    "X_train_c, X_test_c, y_train_c, y_test_c = prepro_1(data, targets, 'onehot', 'robust', 'var_thres')\n",
    "X_train_d, X_test_d, y_train_d, y_test_d = prepro_1(data, targets, 'onehot', 'power', 'var_thres')\n",
    "X_train_e, X_test_e, y_train_e, y_test_e = prepro_1(data, targets, 'onehot', 'normalizer', 'var_thres')\n",
    "\n",
    "datos = [\n",
    "    [X_train_a, X_test_a, y_train_a, y_test_a, 'onehot', 'standard', 'var_thres'],\n",
    "    [X_train_b, X_test_b, y_train_b, y_test_b, 'onehot', 'minmax', 'var_thres'],\n",
    "    [X_train_c, X_test_c, y_train_c, y_test_c, 'onehot', 'robust', 'var_thres'],\n",
    "    [X_train_d, X_test_d, y_train_d, y_test_d, 'onehot', 'power', 'var_thres'],\n",
    "    [X_train_e, X_test_e, y_train_e, y_test_e, 'onehot', 'normalizer', 'var_thres']\n",
    "]"
   ]
  },
  {
   "cell_type": "markdown",
   "metadata": {},
   "source": [
    "---"
   ]
  },
  {
   "cell_type": "markdown",
   "metadata": {},
   "source": [
    "# Entrenando modelos"
   ]
  },
  {
   "cell_type": "markdown",
   "metadata": {},
   "source": [
    "### 3.1 KNN"
   ]
  },
  {
   "cell_type": "markdown",
   "metadata": {},
   "source": [
    "Entrenamiento con valores por defecto."
   ]
  },
  {
   "cell_type": "code",
   "execution_count": 10,
   "metadata": {},
   "outputs": [
    {
     "data": {
      "text/plain": [
       "0.7634854771784232"
      ]
     },
     "execution_count": 10,
     "metadata": {},
     "output_type": "execute_result"
    }
   ],
   "source": [
    "#Datos escalados con StandardScaler\n",
    "clf_knn = neighbors.KNeighborsClassifier()\n",
    "clf_knn.fit(X_train_a, y_train_a)\n",
    "pred = clf_knn.predict(X_test_a)\n",
    "score = (y_test_a == pred)\n",
    "score.mean()"
   ]
  },
  {
   "cell_type": "code",
   "execution_count": 11,
   "metadata": {
    "scrolled": false
   },
   "outputs": [
    {
     "data": {
      "text/plain": [
       "0.7634854771784232"
      ]
     },
     "execution_count": 11,
     "metadata": {},
     "output_type": "execute_result"
    }
   ],
   "source": [
    "#Datos escalados con MinMaxScaler\n",
    "clf_knn.fit(X_train_b, y_train_b)\n",
    "pred = clf_knn.predict(X_test_b)\n",
    "score = (y_test_b == pred)\n",
    "score.mean()"
   ]
  },
  {
   "cell_type": "code",
   "execution_count": 12,
   "metadata": {},
   "outputs": [
    {
     "data": {
      "text/plain": [
       "0.7800829875518672"
      ]
     },
     "execution_count": 12,
     "metadata": {},
     "output_type": "execute_result"
    }
   ],
   "source": [
    "#Datos escalados con RobustScaler\n",
    "clf_knn.fit(X_train_c, y_train_c)\n",
    "pred = clf_knn.predict(X_test_c)\n",
    "score = (y_test_c == pred)\n",
    "score.mean()"
   ]
  },
  {
   "cell_type": "code",
   "execution_count": 13,
   "metadata": {},
   "outputs": [
    {
     "data": {
      "text/plain": [
       "0.7676348547717843"
      ]
     },
     "execution_count": 13,
     "metadata": {},
     "output_type": "execute_result"
    }
   ],
   "source": [
    "#Datos escalados con PowerTransformer\n",
    "clf_knn.fit(X_train_d, y_train_d)\n",
    "pred = clf_knn.predict(X_test_d)\n",
    "score = (y_test_d == pred)\n",
    "score.mean()"
   ]
  },
  {
   "cell_type": "code",
   "execution_count": 14,
   "metadata": {},
   "outputs": [
    {
     "data": {
      "text/plain": [
       "0.7676348547717843"
      ]
     },
     "execution_count": 14,
     "metadata": {},
     "output_type": "execute_result"
    }
   ],
   "source": [
    "#Datos escalados con Normalizer\n",
    "clf_knn.fit(X_train_e, y_train_e)\n",
    "pred = clf_knn.predict(X_test_e)\n",
    "score = (y_test_e == pred)\n",
    "score.mean()"
   ]
  },
  {
   "cell_type": "code",
   "execution_count": null,
   "metadata": {},
   "outputs": [],
   "source": []
  },
  {
   "cell_type": "code",
   "execution_count": null,
   "metadata": {},
   "outputs": [],
   "source": []
  },
  {
   "cell_type": "markdown",
   "metadata": {},
   "source": [
    "Busqueda de hiperparámetros mediante GridSearch"
   ]
  },
  {
   "cell_type": "code",
   "execution_count": 117,
   "metadata": {},
   "outputs": [],
   "source": [
    "knn_grid_params = {\n",
    "    'n_neighbors': [3,5,11,19],\n",
    "    'weights' : ['distance', 'uniform'],\n",
    "    'metric' : ['euclidean', 'manhattan']\n",
    "}\n",
    "\n",
    "gs = model_selection.GridSearchCV(\n",
    "    clf_knn,\n",
    "    knn_grid_params,\n",
    "    verbose = 3,\n",
    "    cv = 3,\n",
    "    n_jobs = -1\n",
    ")"
   ]
  },
  {
   "cell_type": "code",
   "execution_count": 119,
   "metadata": {},
   "outputs": [
    {
     "name": "stdout",
     "output_type": "stream",
     "text": [
      "Fitting 3 folds for each of 16 candidates, totalling 48 fits\n",
      "Fitting 3 folds for each of 16 candidates, totalling 48 fits\n",
      "Fitting 3 folds for each of 16 candidates, totalling 48 fits\n",
      "Fitting 3 folds for each of 16 candidates, totalling 48 fits\n",
      "Fitting 3 folds for each of 16 candidates, totalling 48 fits\n"
     ]
    },
    {
     "data": {
      "text/html": [
       "<div>\n",
       "<style scoped>\n",
       "    .dataframe tbody tr th:only-of-type {\n",
       "        vertical-align: middle;\n",
       "    }\n",
       "\n",
       "    .dataframe tbody tr th {\n",
       "        vertical-align: top;\n",
       "    }\n",
       "\n",
       "    .dataframe thead th {\n",
       "        text-align: right;\n",
       "    }\n",
       "</style>\n",
       "<table border=\"1\" class=\"dataframe\">\n",
       "  <thead>\n",
       "    <tr style=\"text-align: right;\">\n",
       "      <th></th>\n",
       "      <th>encoding</th>\n",
       "      <th>scaling</th>\n",
       "      <th>selection</th>\n",
       "      <th>metric</th>\n",
       "      <th>n_neighbors</th>\n",
       "      <th>weights</th>\n",
       "      <th>score</th>\n",
       "    </tr>\n",
       "  </thead>\n",
       "  <tbody>\n",
       "    <tr>\n",
       "      <th>0</th>\n",
       "      <td>onehot</td>\n",
       "      <td>standard</td>\n",
       "      <td>var_thres</td>\n",
       "      <td>euclidean</td>\n",
       "      <td>5</td>\n",
       "      <td>uniform</td>\n",
       "      <td>0.826807</td>\n",
       "    </tr>\n",
       "    <tr>\n",
       "      <th>1</th>\n",
       "      <td>onehot</td>\n",
       "      <td>minmax</td>\n",
       "      <td>var_thres</td>\n",
       "      <td>manhattan</td>\n",
       "      <td>11</td>\n",
       "      <td>uniform</td>\n",
       "      <td>0.828570</td>\n",
       "    </tr>\n",
       "    <tr>\n",
       "      <th>2</th>\n",
       "      <td>onehot</td>\n",
       "      <td>robust</td>\n",
       "      <td>var_thres</td>\n",
       "      <td>manhattan</td>\n",
       "      <td>19</td>\n",
       "      <td>uniform</td>\n",
       "      <td>0.825053</td>\n",
       "    </tr>\n",
       "    <tr>\n",
       "      <th>3</th>\n",
       "      <td>onehot</td>\n",
       "      <td>power</td>\n",
       "      <td>var_thres</td>\n",
       "      <td>euclidean</td>\n",
       "      <td>19</td>\n",
       "      <td>distance</td>\n",
       "      <td>0.812499</td>\n",
       "    </tr>\n",
       "    <tr>\n",
       "      <th>4</th>\n",
       "      <td>onehot</td>\n",
       "      <td>normalizer</td>\n",
       "      <td>var_thres</td>\n",
       "      <td>manhattan</td>\n",
       "      <td>5</td>\n",
       "      <td>uniform</td>\n",
       "      <td>0.810764</td>\n",
       "    </tr>\n",
       "  </tbody>\n",
       "</table>\n",
       "</div>"
      ],
      "text/plain": [
       "  encoding     scaling  selection     metric  n_neighbors   weights     score\n",
       "0   onehot    standard  var_thres  euclidean            5   uniform  0.826807\n",
       "1   onehot      minmax  var_thres  manhattan           11   uniform  0.828570\n",
       "2   onehot      robust  var_thres  manhattan           19   uniform  0.825053\n",
       "3   onehot       power  var_thres  euclidean           19  distance  0.812499\n",
       "4   onehot  normalizer  var_thres  manhattan            5   uniform  0.810764"
      ]
     },
     "execution_count": 119,
     "metadata": {},
     "output_type": "execute_result"
    }
   ],
   "source": [
    "metricas = []\n",
    "for conjunto in datos:\n",
    "    \n",
    "    gs_results = gs.fit(conjunto[0], conjunto[2])\n",
    "    row = []\n",
    "    row.append(conjunto[4])\n",
    "    row.append(conjunto[5])\n",
    "    row.append(conjunto[6])\n",
    "    for key in gs_results.best_params_:\n",
    "        row.append(gs_results.best_params_[key])\n",
    "    row.append(gs_results.best_score_)\n",
    "    metricas.append(row)\n",
    "    \n",
    "dd = pd.DataFrame(metricas, columns=['encoding','scaling','selection','metric', 'n_neighbors', 'weights', 'score'])\n",
    "dd"
   ]
  },
  {
   "cell_type": "markdown",
   "metadata": {},
   "source": [
    "### 3.2 Naive Bayes"
   ]
  },
  {
   "cell_type": "markdown",
   "metadata": {},
   "source": [
    "#### 3.2.1 Gaussiano"
   ]
  },
  {
   "cell_type": "code",
   "execution_count": 24,
   "metadata": {},
   "outputs": [
    {
     "data": {
      "text/plain": [
       "0.6348547717842323"
      ]
     },
     "execution_count": 24,
     "metadata": {},
     "output_type": "execute_result"
    }
   ],
   "source": [
    "clf_nb_gauss = naive_bayes.GaussianNB()\n",
    "clf_nb_gauss.fit(X_train_a, y_train_a)\n",
    "pred = clf_nb_gauss.predict(X_test_a)\n",
    "score = (y_test_a == pred)\n",
    "score.mean()"
   ]
  },
  {
   "cell_type": "code",
   "execution_count": 25,
   "metadata": {},
   "outputs": [
    {
     "data": {
      "text/plain": [
       "0.6390041493775933"
      ]
     },
     "execution_count": 25,
     "metadata": {},
     "output_type": "execute_result"
    }
   ],
   "source": [
    "clf_nb_gauss = naive_bayes.GaussianNB()\n",
    "clf_nb_gauss.fit(X_train_b, y_train_b)\n",
    "pred = clf_nb_gauss.predict(X_test_b)\n",
    "score = (y_test_b == pred)\n",
    "score.mean()"
   ]
  },
  {
   "cell_type": "code",
   "execution_count": 26,
   "metadata": {},
   "outputs": [
    {
     "data": {
      "text/plain": [
       "0.6390041493775933"
      ]
     },
     "execution_count": 26,
     "metadata": {},
     "output_type": "execute_result"
    }
   ],
   "source": [
    "clf_nb_gauss = naive_bayes.GaussianNB()\n",
    "clf_nb_gauss.fit(X_train_c, y_train_c)\n",
    "pred = clf_nb_gauss.predict(X_test_c)\n",
    "score = (y_test_c == pred)\n",
    "score.mean()"
   ]
  },
  {
   "cell_type": "code",
   "execution_count": 27,
   "metadata": {},
   "outputs": [
    {
     "data": {
      "text/plain": [
       "0.6141078838174274"
      ]
     },
     "execution_count": 27,
     "metadata": {},
     "output_type": "execute_result"
    }
   ],
   "source": [
    "clf_nb_gauss = naive_bayes.GaussianNB()\n",
    "clf_nb_gauss.fit(X_train_d, y_train_d)\n",
    "pred = clf_nb_gauss.predict(X_test_d)\n",
    "score = (y_test_d == pred)\n",
    "score.mean()"
   ]
  },
  {
   "cell_type": "code",
   "execution_count": 28,
   "metadata": {},
   "outputs": [
    {
     "data": {
      "text/plain": [
       "0.6597510373443983"
      ]
     },
     "execution_count": 28,
     "metadata": {},
     "output_type": "execute_result"
    }
   ],
   "source": [
    "clf_nb_gauss = naive_bayes.GaussianNB()\n",
    "clf_nb_gauss.fit(X_train_e, y_train_e)\n",
    "pred = clf_nb_gauss.predict(X_test_e)\n",
    "score = (y_test_e == pred)\n",
    "score.mean()"
   ]
  },
  {
   "cell_type": "code",
   "execution_count": null,
   "metadata": {},
   "outputs": [],
   "source": []
  },
  {
   "cell_type": "markdown",
   "metadata": {},
   "source": [
    "#### 3.2.2 Multinomial"
   ]
  },
  {
   "cell_type": "code",
   "execution_count": 37,
   "metadata": {},
   "outputs": [],
   "source": [
    "#StandardScaler, RobustScaler y PowerTransformer arrojan valores negativos, no podemos usar el resultado en MultinomialNB"
   ]
  },
  {
   "cell_type": "code",
   "execution_count": 33,
   "metadata": {},
   "outputs": [
    {
     "data": {
      "text/plain": [
       "0.7883817427385892"
      ]
     },
     "execution_count": 33,
     "metadata": {},
     "output_type": "execute_result"
    }
   ],
   "source": [
    "#Datos escalados con MinMaxScaler\n",
    "nb_mult_alpha = 1.0\n",
    "clf_nb_mult = naive_bayes.MultinomialNB()\n",
    "clf_nb_mult.fit(X_train_b, y_train_b)\n",
    "pred = clf_nb_mult.predict(X_test_b)\n",
    "score = (y_test_b == pred)\n",
    "score.mean()"
   ]
  },
  {
   "cell_type": "code",
   "execution_count": 39,
   "metadata": {},
   "outputs": [
    {
     "data": {
      "text/plain": [
       "0.6182572614107884"
      ]
     },
     "execution_count": 39,
     "metadata": {},
     "output_type": "execute_result"
    }
   ],
   "source": [
    "#Datos escalados con Normalizer\n",
    "nb_mult_alpha = 1.0\n",
    "clf_nb_mult = naive_bayes.MultinomialNB()\n",
    "clf_nb_mult.fit(X_train_e, y_train_e)\n",
    "pred = clf_nb_mult.predict(X_test_e)\n",
    "score = (y_test_e == pred)\n",
    "score.mean()"
   ]
  },
  {
   "cell_type": "markdown",
   "metadata": {},
   "source": [
    "#### 3.2.3 Complemento"
   ]
  },
  {
   "cell_type": "code",
   "execution_count": null,
   "metadata": {},
   "outputs": [],
   "source": [
    "#No se vio en clase"
   ]
  },
  {
   "cell_type": "markdown",
   "metadata": {},
   "source": [
    "#### 3.2.4 Bernoulli"
   ]
  },
  {
   "cell_type": "code",
   "execution_count": 23,
   "metadata": {},
   "outputs": [],
   "source": [
    "#No se vio en clase"
   ]
  },
  {
   "cell_type": "markdown",
   "metadata": {},
   "source": [
    "### 3.3 SVM"
   ]
  },
  {
   "cell_type": "markdown",
   "metadata": {},
   "source": [
    "#### 3.3.1 Lineal"
   ]
  },
  {
   "cell_type": "code",
   "execution_count": 49,
   "metadata": {},
   "outputs": [
    {
     "name": "stderr",
     "output_type": "stream",
     "text": [
      "/home/javier/.local/lib/python3.6/site-packages/sklearn/svm/_base.py:986: ConvergenceWarning: Liblinear failed to converge, increase the number of iterations.\n",
      "  \"the number of iterations.\", ConvergenceWarning)\n"
     ]
    },
    {
     "data": {
      "text/plain": [
       "0.7883817427385892"
      ]
     },
     "execution_count": 49,
     "metadata": {},
     "output_type": "execute_result"
    }
   ],
   "source": [
    "#Datos escalados con StandardScaler\n",
    "\n",
    "clf_linear_svc = svm.LinearSVC()\n",
    "clf_linear_svc.fit(X_train_a, y_train_a)\n",
    "pred = clf_linear_svc.predict(X_test_a)\n",
    "score = (y_test_a == pred)\n",
    "score.mean()"
   ]
  },
  {
   "cell_type": "code",
   "execution_count": 53,
   "metadata": {},
   "outputs": [
    {
     "data": {
      "text/plain": [
       "0.7883817427385892"
      ]
     },
     "execution_count": 53,
     "metadata": {},
     "output_type": "execute_result"
    }
   ],
   "source": [
    "#Datos escalados con MinMaxScaler\n",
    "\n",
    "clf_linear_svc = svm.LinearSVC()\n",
    "clf_linear_svc.fit(X_train_b, y_train_b)\n",
    "pred = clf_linear_svc.predict(X_test_b)\n",
    "score = (y_test_b == pred)\n",
    "score.mean()"
   ]
  },
  {
   "cell_type": "code",
   "execution_count": 52,
   "metadata": {},
   "outputs": [
    {
     "name": "stderr",
     "output_type": "stream",
     "text": [
      "/home/javier/.local/lib/python3.6/site-packages/sklearn/svm/_base.py:986: ConvergenceWarning: Liblinear failed to converge, increase the number of iterations.\n",
      "  \"the number of iterations.\", ConvergenceWarning)\n"
     ]
    },
    {
     "data": {
      "text/plain": [
       "0.7925311203319502"
      ]
     },
     "execution_count": 52,
     "metadata": {},
     "output_type": "execute_result"
    }
   ],
   "source": [
    "#Datos escalados con RobustScaler\n",
    "\n",
    "clf_linear_svc = svm.LinearSVC()\n",
    "clf_linear_svc.fit(X_train_c, y_train_c)\n",
    "pred = clf_linear_svc.predict(X_test_c)\n",
    "score = (y_test_c == pred)\n",
    "score.mean()"
   ]
  },
  {
   "cell_type": "code",
   "execution_count": 120,
   "metadata": {},
   "outputs": [
    {
     "data": {
      "text/plain": [
       "0.8008298755186722"
      ]
     },
     "execution_count": 120,
     "metadata": {},
     "output_type": "execute_result"
    }
   ],
   "source": [
    "#Datos escalados con PowerTransformer\n",
    "\n",
    "clf_linear_svc = svm.LinearSVC()\n",
    "clf_linear_svc.fit(X_train_d, y_train_d)\n",
    "pred = clf_linear_svc.predict(X_test_d)\n",
    "score = (y_test_d == pred)\n",
    "score.mean()"
   ]
  },
  {
   "cell_type": "code",
   "execution_count": 50,
   "metadata": {},
   "outputs": [
    {
     "data": {
      "text/plain": [
       "0.6846473029045643"
      ]
     },
     "execution_count": 50,
     "metadata": {},
     "output_type": "execute_result"
    }
   ],
   "source": [
    "#Datos escalados con Normalizer\n",
    "\n",
    "clf_linear_svc = svm.LinearSVC()\n",
    "clf_linear_svc.fit(X_train_e, y_train_e)\n",
    "pred = clf_linear_svc.predict(X_test_e)\n",
    "score = (y_test_e == pred)\n",
    "score.mean()"
   ]
  },
  {
   "cell_type": "markdown",
   "metadata": {},
   "source": [
    "Busqueda de hiperparametros mediante GridSearch"
   ]
  },
  {
   "cell_type": "code",
   "execution_count": 121,
   "metadata": {},
   "outputs": [],
   "source": [
    "svc_grid_params = {\n",
    "    'C' : [0.01, 0.1, 1, 10],\n",
    "    'penalty' : ['l1', 'l2']\n",
    "}\n",
    "\n",
    "gs = model_selection.GridSearchCV(\n",
    "    clf_linear_svc,\n",
    "    svc_grid_params,\n",
    "    verbose = 3,\n",
    "    cv = 5,\n",
    "    n_jobs = -1\n",
    ")"
   ]
  },
  {
   "cell_type": "code",
   "execution_count": 122,
   "metadata": {},
   "outputs": [
    {
     "name": "stdout",
     "output_type": "stream",
     "text": [
      "Fitting 5 folds for each of 8 candidates, totalling 40 fits\n",
      "Fitting 5 folds for each of 8 candidates, totalling 40 fits\n"
     ]
    },
    {
     "name": "stderr",
     "output_type": "stream",
     "text": [
      "/home/javier/.local/lib/python3.6/site-packages/sklearn/model_selection/_search.py:921: UserWarning: One or more of the test scores are non-finite: [       nan 0.80535714        nan 0.80892857        nan 0.80892857\n",
      "        nan 0.80714286]\n",
      "  category=UserWarning\n",
      "/home/javier/.local/lib/python3.6/site-packages/sklearn/model_selection/_search.py:921: UserWarning: One or more of the test scores are non-finite: [       nan 0.81071429        nan 0.79464286        nan 0.80892857\n",
      "        nan 0.80892857]\n",
      "  category=UserWarning\n"
     ]
    },
    {
     "name": "stdout",
     "output_type": "stream",
     "text": [
      "Fitting 5 folds for each of 8 candidates, totalling 40 fits\n",
      "Fitting 5 folds for each of 8 candidates, totalling 40 fits\n"
     ]
    },
    {
     "name": "stderr",
     "output_type": "stream",
     "text": [
      "/home/javier/.local/lib/python3.6/site-packages/sklearn/model_selection/_search.py:921: UserWarning: One or more of the test scores are non-finite: [       nan 0.81964286        nan 0.80714286        nan 0.80714286\n",
      "        nan 0.80714286]\n",
      "  category=UserWarning\n",
      "/home/javier/.local/lib/python3.6/site-packages/sklearn/model_selection/_search.py:921: UserWarning: One or more of the test scores are non-finite: [       nan 0.80178571        nan 0.80178571        nan 0.8\n",
      "        nan 0.79821429]\n",
      "  category=UserWarning\n"
     ]
    },
    {
     "name": "stdout",
     "output_type": "stream",
     "text": [
      "Fitting 5 folds for each of 8 candidates, totalling 40 fits\n"
     ]
    },
    {
     "name": "stderr",
     "output_type": "stream",
     "text": [
      "/home/javier/.local/lib/python3.6/site-packages/sklearn/model_selection/_search.py:921: UserWarning: One or more of the test scores are non-finite: [       nan 0.61964286        nan 0.66785714        nan 0.72321429\n",
      "        nan 0.76428571]\n",
      "  category=UserWarning\n"
     ]
    },
    {
     "data": {
      "text/html": [
       "<div>\n",
       "<style scoped>\n",
       "    .dataframe tbody tr th:only-of-type {\n",
       "        vertical-align: middle;\n",
       "    }\n",
       "\n",
       "    .dataframe tbody tr th {\n",
       "        vertical-align: top;\n",
       "    }\n",
       "\n",
       "    .dataframe thead th {\n",
       "        text-align: right;\n",
       "    }\n",
       "</style>\n",
       "<table border=\"1\" class=\"dataframe\">\n",
       "  <thead>\n",
       "    <tr style=\"text-align: right;\">\n",
       "      <th></th>\n",
       "      <th>encoding</th>\n",
       "      <th>scaling</th>\n",
       "      <th>selection</th>\n",
       "      <th>C</th>\n",
       "      <th>penalty</th>\n",
       "      <th>score</th>\n",
       "    </tr>\n",
       "  </thead>\n",
       "  <tbody>\n",
       "    <tr>\n",
       "      <th>0</th>\n",
       "      <td>onehot</td>\n",
       "      <td>standard</td>\n",
       "      <td>var_thres</td>\n",
       "      <td>0.10</td>\n",
       "      <td>l2</td>\n",
       "      <td>0.808929</td>\n",
       "    </tr>\n",
       "    <tr>\n",
       "      <th>1</th>\n",
       "      <td>onehot</td>\n",
       "      <td>minmax</td>\n",
       "      <td>var_thres</td>\n",
       "      <td>0.01</td>\n",
       "      <td>l2</td>\n",
       "      <td>0.810714</td>\n",
       "    </tr>\n",
       "    <tr>\n",
       "      <th>2</th>\n",
       "      <td>onehot</td>\n",
       "      <td>robust</td>\n",
       "      <td>var_thres</td>\n",
       "      <td>0.01</td>\n",
       "      <td>l2</td>\n",
       "      <td>0.819643</td>\n",
       "    </tr>\n",
       "    <tr>\n",
       "      <th>3</th>\n",
       "      <td>onehot</td>\n",
       "      <td>power</td>\n",
       "      <td>var_thres</td>\n",
       "      <td>0.01</td>\n",
       "      <td>l2</td>\n",
       "      <td>0.801786</td>\n",
       "    </tr>\n",
       "    <tr>\n",
       "      <th>4</th>\n",
       "      <td>onehot</td>\n",
       "      <td>normalizer</td>\n",
       "      <td>var_thres</td>\n",
       "      <td>10.00</td>\n",
       "      <td>l2</td>\n",
       "      <td>0.764286</td>\n",
       "    </tr>\n",
       "  </tbody>\n",
       "</table>\n",
       "</div>"
      ],
      "text/plain": [
       "  encoding     scaling  selection      C penalty     score\n",
       "0   onehot    standard  var_thres   0.10      l2  0.808929\n",
       "1   onehot      minmax  var_thres   0.01      l2  0.810714\n",
       "2   onehot      robust  var_thres   0.01      l2  0.819643\n",
       "3   onehot       power  var_thres   0.01      l2  0.801786\n",
       "4   onehot  normalizer  var_thres  10.00      l2  0.764286"
      ]
     },
     "execution_count": 122,
     "metadata": {},
     "output_type": "execute_result"
    }
   ],
   "source": [
    "metricas = []\n",
    "for conjunto in datos:\n",
    "    \n",
    "    gs_results = gs.fit(conjunto[0], conjunto[2])\n",
    "    row = []\n",
    "    row.append(conjunto[4])\n",
    "    row.append(conjunto[5])\n",
    "    row.append(conjunto[6])\n",
    "    for key in gs_results.best_params_:\n",
    "        row.append(gs_results.best_params_[key])\n",
    "    row.append(gs_results.best_score_)\n",
    "    metricas.append(row)\n",
    "    \n",
    "dd = pd.DataFrame(metricas, columns=['encoding','scaling','selection','C', 'penalty', 'score'])\n",
    "dd"
   ]
  },
  {
   "cell_type": "markdown",
   "metadata": {},
   "source": [
    "---"
   ]
  },
  {
   "cell_type": "markdown",
   "metadata": {},
   "source": [
    "#### 3.3.2 Polinomial"
   ]
  },
  {
   "cell_type": "markdown",
   "metadata": {},
   "source": [
    "Entrenamiento con valores por defecto"
   ]
  },
  {
   "cell_type": "code",
   "execution_count": 43,
   "metadata": {},
   "outputs": [
    {
     "data": {
      "text/plain": [
       "0.7925311203319502"
      ]
     },
     "execution_count": 43,
     "metadata": {},
     "output_type": "execute_result"
    }
   ],
   "source": [
    "#onehot\n",
    "#Datos escalados con StandardScaler\n",
    "clf_svc = svm.SVC(kernel='poly')\n",
    "clf_svc.fit(X_train_a, y_train_a)\n",
    "pred = clf_svc.predict(X_test_a)\n",
    "score = (y_test_a == pred)\n",
    "score.mean()"
   ]
  },
  {
   "cell_type": "code",
   "execution_count": 44,
   "metadata": {},
   "outputs": [
    {
     "data": {
      "text/plain": [
       "0.8008298755186722"
      ]
     },
     "execution_count": 44,
     "metadata": {},
     "output_type": "execute_result"
    }
   ],
   "source": [
    "#onehot\n",
    "#Datos escalados con MinMaxScaler\n",
    "clf_svc = svm.SVC(kernel='poly')\n",
    "clf_svc.fit(X_train_b, y_train_b)\n",
    "pred = clf_svc.predict(X_test_b)\n",
    "score = (y_test_b == pred)\n",
    "score.mean()"
   ]
  },
  {
   "cell_type": "code",
   "execution_count": 45,
   "metadata": {},
   "outputs": [
    {
     "data": {
      "text/plain": [
       "0.7925311203319502"
      ]
     },
     "execution_count": 45,
     "metadata": {},
     "output_type": "execute_result"
    }
   ],
   "source": [
    "#onehot\n",
    "#Datos escalados con RobustScaler\n",
    "clf_svc = svm.SVC(kernel='poly')\n",
    "clf_svc.fit(X_train_c, y_train_c)\n",
    "pred = clf_svc.predict(X_test_c)\n",
    "score = (y_test_c == pred)\n",
    "score.mean()"
   ]
  },
  {
   "cell_type": "code",
   "execution_count": 46,
   "metadata": {},
   "outputs": [
    {
     "data": {
      "text/plain": [
       "0.8257261410788381"
      ]
     },
     "execution_count": 46,
     "metadata": {},
     "output_type": "execute_result"
    }
   ],
   "source": [
    "#onehot\n",
    "#Datos escalados con PowerTransformer\n",
    "clf_svc = svm.SVC(kernel='poly')\n",
    "clf_svc.fit(X_train_d, y_train_d)\n",
    "pred = clf_svc.predict(X_test_d)\n",
    "score = (y_test_d == pred)\n",
    "score.mean()"
   ]
  },
  {
   "cell_type": "code",
   "execution_count": 47,
   "metadata": {},
   "outputs": [
    {
     "data": {
      "text/plain": [
       "0.6804979253112033"
      ]
     },
     "execution_count": 47,
     "metadata": {},
     "output_type": "execute_result"
    }
   ],
   "source": [
    "#onehot\n",
    "#Datos escalados con Normalizer\n",
    "clf_svc = svm.SVC(kernel='poly')\n",
    "clf_svc.fit(X_train_e, y_train_e)\n",
    "pred = clf_svc.predict(X_test_e)\n",
    "score = (y_test_e == pred)\n",
    "score.mean()"
   ]
  },
  {
   "cell_type": "markdown",
   "metadata": {},
   "source": [
    "Busqueda de hiperparametros mediante GridSearch"
   ]
  },
  {
   "cell_type": "code",
   "execution_count": 62,
   "metadata": {},
   "outputs": [],
   "source": [
    "svc_grid_params = {\n",
    "    'C' : [0.01, 0.1, 1, 10],\n",
    "    'degree': [2,3,4],\n",
    "    'coef0': [0.0, 0.5, 1.0],\n",
    "    'gamma': [1.0, 1.5, 2.0]\n",
    "}\n",
    "\n",
    "gs = model_selection.GridSearchCV(\n",
    "    clf_svc,\n",
    "    svc_grid_params,\n",
    "    verbose = 3,\n",
    "    cv = 5,\n",
    "    n_jobs = -1\n",
    ")"
   ]
  },
  {
   "cell_type": "code",
   "execution_count": 63,
   "metadata": {},
   "outputs": [
    {
     "name": "stdout",
     "output_type": "stream",
     "text": [
      "Fitting 5 folds for each of 108 candidates, totalling 540 fits\n"
     ]
    },
    {
     "data": {
      "text/plain": [
       "{'C': 0.01, 'coef0': 0.5, 'degree': 2, 'gamma': 1.5}"
      ]
     },
     "metadata": {},
     "output_type": "display_data"
    },
    {
     "data": {
      "text/plain": [
       "0.8321428571428573"
      ]
     },
     "metadata": {},
     "output_type": "display_data"
    }
   ],
   "source": [
    "gs_results = gs.fit(X_train_a, y_train_a)\n",
    "display(gs_results.best_params_)\n",
    "display(gs_results.best_score_)\n",
    "#scores = model_selection.cross_val_score(clf_svc, df_X, df_y, cv=5)\n",
    "#display(scores)"
   ]
  },
  {
   "cell_type": "code",
   "execution_count": null,
   "metadata": {},
   "outputs": [],
   "source": [
    "gs_results = gs.fit(X_train_b, y_train_b)\n",
    "display(gs_results.best_params_)\n",
    "display(gs_results.best_score_)\n",
    "#scores = model_selection.cross_val_score(clf_svc, df_X, df_y, cv=5)\n",
    "#display(scores)"
   ]
  },
  {
   "cell_type": "code",
   "execution_count": null,
   "metadata": {},
   "outputs": [],
   "source": [
    "gs_results = gs.fit(X_train_c, y_train_c)\n",
    "display(gs_results.best_params_)\n",
    "display(gs_results.best_score_)\n",
    "#scores = model_selection.cross_val_score(clf_svc, df_X, df_y, cv=5)\n",
    "#display(scores)"
   ]
  },
  {
   "cell_type": "code",
   "execution_count": null,
   "metadata": {},
   "outputs": [],
   "source": [
    "gs_results = gs.fit(X_train_d, y_train_d)\n",
    "display(gs_results.best_params_)\n",
    "display(gs_results.best_score_)\n",
    "#scores = model_selection.cross_val_score(clf_svc, df_X, df_y, cv=5)\n",
    "#display(scores)"
   ]
  },
  {
   "cell_type": "code",
   "execution_count": null,
   "metadata": {},
   "outputs": [],
   "source": [
    "gs_results = gs.fit(X_train_e, y_train_e)\n",
    "display(gs_results.best_params_)\n",
    "display(gs_results.best_score_)\n",
    "#scores = model_selection.cross_val_score(clf_svc, df_X, df_y, cv=5)\n",
    "#display(scores)"
   ]
  },
  {
   "cell_type": "markdown",
   "metadata": {},
   "source": [
    "---"
   ]
  },
  {
   "cell_type": "markdown",
   "metadata": {},
   "source": [
    "#### 3.3.3 Radial"
   ]
  },
  {
   "cell_type": "markdown",
   "metadata": {},
   "source": [
    "Entrenamiento con valores por defecto"
   ]
  },
  {
   "cell_type": "code",
   "execution_count": 65,
   "metadata": {},
   "outputs": [
    {
     "data": {
      "text/plain": [
       "0.8049792531120332"
      ]
     },
     "execution_count": 65,
     "metadata": {},
     "output_type": "execute_result"
    }
   ],
   "source": [
    "#onehot\n",
    "#Datos escalados con StandardScaler\n",
    "clf_svc = svm.SVC(kernel='rbf')\n",
    "clf_svc.fit(X_train_a, y_train_a)\n",
    "pred = clf_svc.predict(X_test_a)\n",
    "score = (y_test_a == pred)\n",
    "score.mean()"
   ]
  },
  {
   "cell_type": "code",
   "execution_count": 66,
   "metadata": {},
   "outputs": [
    {
     "data": {
      "text/plain": [
       "0.8008298755186722"
      ]
     },
     "execution_count": 66,
     "metadata": {},
     "output_type": "execute_result"
    }
   ],
   "source": [
    "#onehot\n",
    "#Datos escalados con MinMaxScaler\n",
    "clf_svc = svm.SVC(kernel='rbf')\n",
    "clf_svc.fit(X_train_b, y_train_b)\n",
    "pred = clf_svc.predict(X_test_b)\n",
    "score = (y_test_b == pred)\n",
    "score.mean()"
   ]
  },
  {
   "cell_type": "code",
   "execution_count": 67,
   "metadata": {},
   "outputs": [
    {
     "data": {
      "text/plain": [
       "0.8091286307053942"
      ]
     },
     "execution_count": 67,
     "metadata": {},
     "output_type": "execute_result"
    }
   ],
   "source": [
    "#onehot\n",
    "#Datos escalados con RobustScaler\n",
    "clf_svc = svm.SVC(kernel='rbf')\n",
    "clf_svc.fit(X_train_c, y_train_c)\n",
    "pred = clf_svc.predict(X_test_c)\n",
    "score = (y_test_c == pred)\n",
    "score.mean()"
   ]
  },
  {
   "cell_type": "code",
   "execution_count": 123,
   "metadata": {},
   "outputs": [
    {
     "data": {
      "text/plain": [
       "0.8091286307053942"
      ]
     },
     "execution_count": 123,
     "metadata": {},
     "output_type": "execute_result"
    }
   ],
   "source": [
    "#onehot\n",
    "#Datos escalados con PowerTransformer\n",
    "clf_svc = svm.SVC(kernel='rbf')\n",
    "clf_svc.fit(X_train_d, y_train_d)\n",
    "pred = clf_svc.predict(X_test_d)\n",
    "score = (y_test_d == pred)\n",
    "score.mean()"
   ]
  },
  {
   "cell_type": "code",
   "execution_count": 69,
   "metadata": {},
   "outputs": [
    {
     "data": {
      "text/plain": [
       "0.6721991701244814"
      ]
     },
     "execution_count": 69,
     "metadata": {},
     "output_type": "execute_result"
    }
   ],
   "source": [
    "#onehot\n",
    "#Datos escalados con Normalizer\n",
    "clf_svc = svm.SVC(kernel='rbf')\n",
    "clf_svc.fit(X_train_e, y_train_e)\n",
    "pred = clf_svc.predict(X_test_e)\n",
    "score = (y_test_e == pred)\n",
    "score.mean()"
   ]
  },
  {
   "cell_type": "markdown",
   "metadata": {},
   "source": [
    "Busqueda de hiperparametros mediante GridSearch"
   ]
  },
  {
   "cell_type": "code",
   "execution_count": 124,
   "metadata": {},
   "outputs": [],
   "source": [
    "svc_grid_params = {\n",
    "    'C' : [0.01, 0.1, 1, 10, 50],\n",
    "    'gamma': [0.05, 0.1, 0.5, 1.0, 1.5, 2.0]\n",
    "}\n",
    "\n",
    "gs = model_selection.GridSearchCV(\n",
    "    clf_svc,\n",
    "    svc_grid_params,\n",
    "    verbose = 3,\n",
    "    cv = 5,\n",
    "    n_jobs = -1\n",
    ")"
   ]
  },
  {
   "cell_type": "code",
   "execution_count": 125,
   "metadata": {},
   "outputs": [
    {
     "name": "stdout",
     "output_type": "stream",
     "text": [
      "Fitting 5 folds for each of 30 candidates, totalling 150 fits\n",
      "Fitting 5 folds for each of 30 candidates, totalling 150 fits\n",
      "Fitting 5 folds for each of 30 candidates, totalling 150 fits\n",
      "Fitting 5 folds for each of 30 candidates, totalling 150 fits\n",
      "Fitting 5 folds for each of 30 candidates, totalling 150 fits\n"
     ]
    },
    {
     "data": {
      "text/html": [
       "<div>\n",
       "<style scoped>\n",
       "    .dataframe tbody tr th:only-of-type {\n",
       "        vertical-align: middle;\n",
       "    }\n",
       "\n",
       "    .dataframe tbody tr th {\n",
       "        vertical-align: top;\n",
       "    }\n",
       "\n",
       "    .dataframe thead th {\n",
       "        text-align: right;\n",
       "    }\n",
       "</style>\n",
       "<table border=\"1\" class=\"dataframe\">\n",
       "  <thead>\n",
       "    <tr style=\"text-align: right;\">\n",
       "      <th></th>\n",
       "      <th>encoding</th>\n",
       "      <th>scaling</th>\n",
       "      <th>selection</th>\n",
       "      <th>C</th>\n",
       "      <th>gamma</th>\n",
       "      <th>score</th>\n",
       "    </tr>\n",
       "  </thead>\n",
       "  <tbody>\n",
       "    <tr>\n",
       "      <th>0</th>\n",
       "      <td>onehot</td>\n",
       "      <td>standard</td>\n",
       "      <td>var_thres</td>\n",
       "      <td>10</td>\n",
       "      <td>0.05</td>\n",
       "      <td>0.837500</td>\n",
       "    </tr>\n",
       "    <tr>\n",
       "      <th>1</th>\n",
       "      <td>onehot</td>\n",
       "      <td>minmax</td>\n",
       "      <td>var_thres</td>\n",
       "      <td>10</td>\n",
       "      <td>0.50</td>\n",
       "      <td>0.830357</td>\n",
       "    </tr>\n",
       "    <tr>\n",
       "      <th>2</th>\n",
       "      <td>onehot</td>\n",
       "      <td>robust</td>\n",
       "      <td>var_thres</td>\n",
       "      <td>10</td>\n",
       "      <td>0.10</td>\n",
       "      <td>0.837500</td>\n",
       "    </tr>\n",
       "    <tr>\n",
       "      <th>3</th>\n",
       "      <td>onehot</td>\n",
       "      <td>power</td>\n",
       "      <td>var_thres</td>\n",
       "      <td>1</td>\n",
       "      <td>0.10</td>\n",
       "      <td>0.841071</td>\n",
       "    </tr>\n",
       "    <tr>\n",
       "      <th>4</th>\n",
       "      <td>onehot</td>\n",
       "      <td>normalizer</td>\n",
       "      <td>var_thres</td>\n",
       "      <td>50</td>\n",
       "      <td>1.00</td>\n",
       "      <td>0.800000</td>\n",
       "    </tr>\n",
       "  </tbody>\n",
       "</table>\n",
       "</div>"
      ],
      "text/plain": [
       "  encoding     scaling  selection   C  gamma     score\n",
       "0   onehot    standard  var_thres  10   0.05  0.837500\n",
       "1   onehot      minmax  var_thres  10   0.50  0.830357\n",
       "2   onehot      robust  var_thres  10   0.10  0.837500\n",
       "3   onehot       power  var_thres   1   0.10  0.841071\n",
       "4   onehot  normalizer  var_thres  50   1.00  0.800000"
      ]
     },
     "execution_count": 125,
     "metadata": {},
     "output_type": "execute_result"
    }
   ],
   "source": [
    "metricas = []\n",
    "for conjunto in datos:\n",
    "    \n",
    "    gs_results = gs.fit(conjunto[0], conjunto[2])\n",
    "    row = []\n",
    "    row.append(conjunto[4])\n",
    "    row.append(conjunto[5])\n",
    "    row.append(conjunto[6])\n",
    "    for key in gs_results.best_params_:\n",
    "        row.append(gs_results.best_params_[key])\n",
    "    row.append(gs_results.best_score_)\n",
    "    metricas.append(row)\n",
    "    \n",
    "dd = pd.DataFrame(metricas, columns=['encoding','scaling','selection','C', 'gamma', 'score'])\n",
    "dd"
   ]
  },
  {
   "cell_type": "markdown",
   "metadata": {},
   "source": [
    "---"
   ]
  },
  {
   "cell_type": "markdown",
   "metadata": {},
   "source": [
    "#### 3.3.4 Sigmoide"
   ]
  },
  {
   "cell_type": "markdown",
   "metadata": {},
   "source": [
    "Entrenamiento con valores por defecto"
   ]
  },
  {
   "cell_type": "code",
   "execution_count": 86,
   "metadata": {},
   "outputs": [
    {
     "data": {
      "text/plain": [
       "0.7261410788381742"
      ]
     },
     "execution_count": 86,
     "metadata": {},
     "output_type": "execute_result"
    }
   ],
   "source": [
    "#onehot\n",
    "#standardscaler\n",
    "clf_svc = svm.SVC(kernel='sigmoid')\n",
    "clf_svc.fit(X_train_a, y_train_a)\n",
    "pred = clf_svc.predict(X_test_a)\n",
    "score = (y_test_a == pred)\n",
    "score.mean()"
   ]
  },
  {
   "cell_type": "code",
   "execution_count": 87,
   "metadata": {},
   "outputs": [
    {
     "data": {
      "text/plain": [
       "0.6846473029045643"
      ]
     },
     "execution_count": 87,
     "metadata": {},
     "output_type": "execute_result"
    }
   ],
   "source": [
    "#onehot\n",
    "#minmaxscaler\n",
    "clf_svc = svm.SVC(kernel='sigmoid')\n",
    "clf_svc.fit(X_train_b, y_train_b)\n",
    "pred = clf_svc.predict(X_test_b)\n",
    "score = (y_test_b == pred)\n",
    "score.mean()"
   ]
  },
  {
   "cell_type": "code",
   "execution_count": 88,
   "metadata": {},
   "outputs": [
    {
     "data": {
      "text/plain": [
       "0.6431535269709544"
      ]
     },
     "execution_count": 88,
     "metadata": {},
     "output_type": "execute_result"
    }
   ],
   "source": [
    "#onehot\n",
    "#robust\n",
    "clf_svc = svm.SVC(kernel='sigmoid')\n",
    "clf_svc.fit(X_train_c, y_train_c)\n",
    "pred = clf_svc.predict(X_test_c)\n",
    "score = (y_test_c == pred)\n",
    "score.mean()"
   ]
  },
  {
   "cell_type": "code",
   "execution_count": 126,
   "metadata": {},
   "outputs": [
    {
     "data": {
      "text/plain": [
       "0.7095435684647303"
      ]
     },
     "execution_count": 126,
     "metadata": {},
     "output_type": "execute_result"
    }
   ],
   "source": [
    "#onehot\n",
    "#powertransformer\n",
    "clf_svc = svm.SVC(kernel='sigmoid')\n",
    "clf_svc.fit(X_train_d, y_train_d)\n",
    "pred = clf_svc.predict(X_test_d)\n",
    "score = (y_test_d == pred)\n",
    "score.mean()"
   ]
  },
  {
   "cell_type": "code",
   "execution_count": 90,
   "metadata": {},
   "outputs": [
    {
     "data": {
      "text/plain": [
       "0.6556016597510373"
      ]
     },
     "execution_count": 90,
     "metadata": {},
     "output_type": "execute_result"
    }
   ],
   "source": [
    "#onehot\n",
    "#normalizer\n",
    "clf_svc = svm.SVC(kernel='sigmoid')\n",
    "clf_svc.fit(X_train_e, y_train_e)\n",
    "pred = clf_svc.predict(X_test_e)\n",
    "score = (y_test_e == pred)\n",
    "score.mean()"
   ]
  },
  {
   "cell_type": "markdown",
   "metadata": {},
   "source": [
    "Busqueda de hiperparametros mediante GridSearch"
   ]
  },
  {
   "cell_type": "code",
   "execution_count": 131,
   "metadata": {},
   "outputs": [],
   "source": [
    "svc_grid_params = {\n",
    "    'C' : [0.01, 0.1, 1, 10],\n",
    "    'gamma': [0.05, 0.1, 0.5, 1.0, 1.5, 2.0],\n",
    "    'coef0': [0.0, 0.5, 1.0]\n",
    "}\n",
    "\n",
    "gs = model_selection.GridSearchCV(\n",
    "    clf_svc,\n",
    "    svc_grid_params,\n",
    "    verbose = 1,\n",
    "    cv = 5,\n",
    "    n_jobs = -1\n",
    ")"
   ]
  },
  {
   "cell_type": "code",
   "execution_count": 133,
   "metadata": {},
   "outputs": [
    {
     "name": "stdout",
     "output_type": "stream",
     "text": [
      "Fitting 5 folds for each of 72 candidates, totalling 360 fits\n",
      "Fitting 5 folds for each of 72 candidates, totalling 360 fits\n",
      "Fitting 5 folds for each of 72 candidates, totalling 360 fits\n",
      "Fitting 5 folds for each of 72 candidates, totalling 360 fits\n",
      "Fitting 5 folds for each of 72 candidates, totalling 360 fits\n"
     ]
    },
    {
     "data": {
      "text/html": [
       "<div>\n",
       "<style scoped>\n",
       "    .dataframe tbody tr th:only-of-type {\n",
       "        vertical-align: middle;\n",
       "    }\n",
       "\n",
       "    .dataframe tbody tr th {\n",
       "        vertical-align: top;\n",
       "    }\n",
       "\n",
       "    .dataframe thead th {\n",
       "        text-align: right;\n",
       "    }\n",
       "</style>\n",
       "<table border=\"1\" class=\"dataframe\">\n",
       "  <thead>\n",
       "    <tr style=\"text-align: right;\">\n",
       "      <th></th>\n",
       "      <th>encoding</th>\n",
       "      <th>scaling</th>\n",
       "      <th>selection</th>\n",
       "      <th>C</th>\n",
       "      <th>coef0</th>\n",
       "      <th>gamma</th>\n",
       "      <th>score</th>\n",
       "    </tr>\n",
       "  </thead>\n",
       "  <tbody>\n",
       "    <tr>\n",
       "      <th>0</th>\n",
       "      <td>onehot</td>\n",
       "      <td>standard</td>\n",
       "      <td>var_thres</td>\n",
       "      <td>0.1</td>\n",
       "      <td>0.5</td>\n",
       "      <td>0.10</td>\n",
       "      <td>0.792857</td>\n",
       "    </tr>\n",
       "    <tr>\n",
       "      <th>1</th>\n",
       "      <td>onehot</td>\n",
       "      <td>minmax</td>\n",
       "      <td>var_thres</td>\n",
       "      <td>0.1</td>\n",
       "      <td>0.0</td>\n",
       "      <td>0.50</td>\n",
       "      <td>0.791071</td>\n",
       "    </tr>\n",
       "    <tr>\n",
       "      <th>2</th>\n",
       "      <td>onehot</td>\n",
       "      <td>robust</td>\n",
       "      <td>var_thres</td>\n",
       "      <td>1.0</td>\n",
       "      <td>0.5</td>\n",
       "      <td>0.05</td>\n",
       "      <td>0.776786</td>\n",
       "    </tr>\n",
       "    <tr>\n",
       "      <th>3</th>\n",
       "      <td>onehot</td>\n",
       "      <td>power</td>\n",
       "      <td>var_thres</td>\n",
       "      <td>0.1</td>\n",
       "      <td>0.0</td>\n",
       "      <td>0.05</td>\n",
       "      <td>0.796429</td>\n",
       "    </tr>\n",
       "    <tr>\n",
       "      <th>4</th>\n",
       "      <td>onehot</td>\n",
       "      <td>normalizer</td>\n",
       "      <td>var_thres</td>\n",
       "      <td>10.0</td>\n",
       "      <td>0.0</td>\n",
       "      <td>0.50</td>\n",
       "      <td>0.712500</td>\n",
       "    </tr>\n",
       "  </tbody>\n",
       "</table>\n",
       "</div>"
      ],
      "text/plain": [
       "  encoding     scaling  selection     C  coef0  gamma     score\n",
       "0   onehot    standard  var_thres   0.1    0.5   0.10  0.792857\n",
       "1   onehot      minmax  var_thres   0.1    0.0   0.50  0.791071\n",
       "2   onehot      robust  var_thres   1.0    0.5   0.05  0.776786\n",
       "3   onehot       power  var_thres   0.1    0.0   0.05  0.796429\n",
       "4   onehot  normalizer  var_thres  10.0    0.0   0.50  0.712500"
      ]
     },
     "execution_count": 133,
     "metadata": {},
     "output_type": "execute_result"
    }
   ],
   "source": [
    "metricas = []\n",
    "for conjunto in datos:\n",
    "    \n",
    "    gs_results = gs.fit(conjunto[0], conjunto[2])\n",
    "    row = []\n",
    "    row.append(conjunto[4])\n",
    "    row.append(conjunto[5])\n",
    "    row.append(conjunto[6])\n",
    "    for key in gs_results.best_params_:\n",
    "        row.append(gs_results.best_params_[key])\n",
    "    row.append(gs_results.best_score_)\n",
    "    metricas.append(row)\n",
    "    \n",
    "dd = pd.DataFrame(metricas, columns=['encoding','scaling','selection','C', 'coef0', 'gamma', 'score'])\n",
    "dd"
   ]
  },
  {
   "cell_type": "markdown",
   "metadata": {},
   "source": [
    "---"
   ]
  },
  {
   "cell_type": "markdown",
   "metadata": {},
   "source": [
    "### 3.4 Regresor Lineal (Logistic Regression)"
   ]
  },
  {
   "cell_type": "code",
   "execution_count": null,
   "metadata": {},
   "outputs": [],
   "source": [
    "from sklearn.linear_model import LogisticRegression\n",
    "clf_logreg = LogisticRegression()\n",
    "clf_logreg.fit(X_train, y_train)\n",
    "pred = clf_logreg.predict(X_test)\n",
    "score = (y_test == pred)\n",
    "score.mean()"
   ]
  },
  {
   "cell_type": "code",
   "execution_count": null,
   "metadata": {},
   "outputs": [],
   "source": [
    "scores = model_selection.cross_val_score(clf_logreg, df_X, df_y, cv=5)\n",
    "scores"
   ]
  },
  {
   "cell_type": "markdown",
   "metadata": {},
   "source": [
    "### 3.5 Decision Tree"
   ]
  },
  {
   "cell_type": "code",
   "execution_count": null,
   "metadata": {},
   "outputs": [],
   "source": [
    "clf_tree = tree.DecisionTreeClassifier(random_state=0, max_depth=2)\n",
    "clf_tree.fit(X_train, y_train)\n",
    "pred = clf_tree.predict(X_test)\n",
    "score = (y_test == pred)\n",
    "score.mean()"
   ]
  },
  {
   "cell_type": "code",
   "execution_count": null,
   "metadata": {},
   "outputs": [],
   "source": [
    "scores = model_selection.cross_val_score(clf_tree, df_X, df_y, cv=5)\n",
    "scores"
   ]
  },
  {
   "cell_type": "markdown",
   "metadata": {},
   "source": [
    "### 3.6 Redes Neuronales"
   ]
  },
  {
   "cell_type": "code",
   "execution_count": null,
   "metadata": {
    "scrolled": true
   },
   "outputs": [],
   "source": [
    "from tensorflow import keras\n",
    "from tensorflow.keras import layers"
   ]
  },
  {
   "cell_type": "markdown",
   "metadata": {},
   "source": [
    "### 3.7 Ensambles"
   ]
  },
  {
   "cell_type": "code",
   "execution_count": null,
   "metadata": {},
   "outputs": [],
   "source": [
    "from sklearn import ensemble"
   ]
  },
  {
   "cell_type": "markdown",
   "metadata": {},
   "source": [
    "#### 3.7.1 RandomForest"
   ]
  },
  {
   "cell_type": "code",
   "execution_count": null,
   "metadata": {},
   "outputs": [],
   "source": [
    "random_forest = ensemble.RandomForestClassifier()\n",
    "random_forest.fit(X_train, y_train)\n",
    "pred = random_forest.predict(X_test)\n",
    "score = (y_test == pred)\n",
    "score.mean()"
   ]
  },
  {
   "cell_type": "markdown",
   "metadata": {},
   "source": [
    "#### 3.7.2 Gradient Boost"
   ]
  },
  {
   "cell_type": "code",
   "execution_count": null,
   "metadata": {},
   "outputs": [],
   "source": []
  }
 ],
 "metadata": {
  "kernelspec": {
   "display_name": "Python 3",
   "language": "python",
   "name": "python3"
  },
  "language_info": {
   "codemirror_mode": {
    "name": "ipython",
    "version": 3
   },
   "file_extension": ".py",
   "mimetype": "text/x-python",
   "name": "python",
   "nbconvert_exporter": "python",
   "pygments_lexer": "ipython3",
   "version": "3.6.9"
  }
 },
 "nbformat": 4,
 "nbformat_minor": 4
}
